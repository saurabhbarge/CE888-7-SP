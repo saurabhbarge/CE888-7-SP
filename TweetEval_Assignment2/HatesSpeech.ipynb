{
  "nbformat": 4,
  "nbformat_minor": 0,
  "metadata": {
    "colab": {
      "name": "HatesSpeech.ipynb",
      "provenance": [],
      "collapsed_sections": [],
      "mount_file_id": "1SOwRv9qarwRbhz-6VTZ6TXvnzT5mLBhD",
      "authorship_tag": "ABX9TyP63UwuYRj9z2TaEgtnuM6Y",
      "include_colab_link": true
    },
    "kernelspec": {
      "name": "python3",
      "display_name": "Python 3"
    }
  },
  "cells": [
    {
      "cell_type": "markdown",
      "metadata": {
        "id": "view-in-github",
        "colab_type": "text"
      },
      "source": [
        "<a href=\"https://colab.research.google.com/github/saurabhbarge/CE888-7-SP/blob/main/TweetEval_Assignment2/HatesSpeech.ipynb\" target=\"_parent\"><img src=\"https://colab.research.google.com/assets/colab-badge.svg\" alt=\"Open In Colab\"/></a>"
      ]
    },
    {
      "cell_type": "markdown",
      "metadata": {
        "id": "qCl1jDfFEJOm"
      },
      "source": [
        ""
      ]
    },
    {
      "cell_type": "markdown",
      "metadata": {
        "id": "rS1bOO7or3TF"
      },
      "source": [
        "**Importing all the Libraries**"
      ]
    },
    {
      "cell_type": "code",
      "metadata": {
        "id": "48eJjHIeFr_m"
      },
      "source": [
        "import numpy as np\n",
        "import pandas as pd\n",
        "import nltk\n",
        "from nltk.corpus import stopwords\n",
        "from nltk.tokenize import word_tokenize\n",
        "from nltk.stem.porter import PorterStemmer\n",
        "from nltk.stem import WordNetLemmatizer\n",
        "from sklearn.feature_extraction.text import CountVectorizer, TfidfVectorizer\n",
        "from sklearn.model_selection import train_test_split\n",
        "from sklearn.ensemble import RandomForestClassifier\n",
        "from sklearn.metrics import f1_score\n",
        "from sklearn.metrics import accuracy_score\n",
        "import re\n",
        "import string\n",
        "from wordcloud import WordCloud\n",
        "from matplotlib import pyplot as plt \n",
        "%matplotlib inline\n",
        "import seaborn as sns"
      ],
      "execution_count": 53,
      "outputs": []
    },
    {
      "cell_type": "code",
      "metadata": {
        "id": "pHrvaxz4b0am",
        "colab": {
          "base_uri": "https://localhost:8080/"
        },
        "outputId": "d6d6ca77-a937-4952-9666-8a55109beec1"
      },
      "source": [
        "nltk.download('stopwords')\n",
        "nltk.download('punkt')\n",
        "nltk.download('wordnet')"
      ],
      "execution_count": 54,
      "outputs": [
        {
          "output_type": "stream",
          "text": [
            "[nltk_data] Downloading package stopwords to /root/nltk_data...\n",
            "[nltk_data]   Package stopwords is already up-to-date!\n",
            "[nltk_data] Downloading package punkt to /root/nltk_data...\n",
            "[nltk_data]   Package punkt is already up-to-date!\n",
            "[nltk_data] Downloading package wordnet to /root/nltk_data...\n",
            "[nltk_data]   Package wordnet is already up-to-date!\n"
          ],
          "name": "stdout"
        },
        {
          "output_type": "execute_result",
          "data": {
            "text/plain": [
              "True"
            ]
          },
          "metadata": {
            "tags": []
          },
          "execution_count": 54
        }
      ]
    },
    {
      "cell_type": "markdown",
      "metadata": {
        "id": "AnxVLzq4sEaP"
      },
      "source": [
        "**Reading the Hate Dataset Training Text file and Training Labels file**"
      ]
    },
    {
      "cell_type": "code",
      "metadata": {
        "id": "DkPYQnVeq6Yx"
      },
      "source": [
        "def dataset_create(filepath_text,filepath_labels):\n",
        "    with open(filepath_text) as data:\n",
        "        read_text = data.read()\n",
        "\n",
        "    with open(filepath_labels) as data:\n",
        "        read_labels = data.read()   \n",
        "    \n",
        "    read_text = read_text.split(\"\\n\")\n",
        "    read_labels = read_labels.split(\"\\n\")\n",
        "    read_text = [x.lower() for x in read_text]  \n",
        "    \n",
        "    df = pd.DataFrame({'Text':read_text,'Labels':read_labels})\n",
        "    return df"
      ],
      "execution_count": 55,
      "outputs": []
    },
    {
      "cell_type": "code",
      "metadata": {
        "id": "ODUMI_YPKD3h"
      },
      "source": [
        "train_hate = dataset_create('/content/drive/MyDrive/hate/train_text.txt','/content/drive/MyDrive/hate/train_labels.txt')\n",
        "val_hate = dataset_create('/content/drive/MyDrive/hate/val_text.txt','/content/drive/MyDrive/hate/val_labels.txt')\n",
        "test_hate = dataset_create('/content/drive/MyDrive/hate/test_text.txt','/content/drive/MyDrive/hate/test_labels.txt')"
      ],
      "execution_count": 56,
      "outputs": []
    },
    {
      "cell_type": "code",
      "metadata": {
        "id": "X_pDb0vtxssU"
      },
      "source": [
        "stop_words = list(set(stopwords.words('english'))) # list of stop words"
      ],
      "execution_count": 57,
      "outputs": []
    },
    {
      "cell_type": "markdown",
      "metadata": {
        "id": "EAsldsafzb1x"
      },
      "source": [
        "**Mapping Labels**"
      ]
    },
    {
      "cell_type": "code",
      "metadata": {
        "id": "VtfDcUdIzSSR"
      },
      "source": [
        "# df_hate['Hate_labels'] = df_hate['Hate_labels'].map({'0': 'not-hate', '1': 'hate'})"
      ],
      "execution_count": 58,
      "outputs": []
    },
    {
      "cell_type": "code",
      "metadata": {
        "id": "L-vpJVu3lhK1"
      },
      "source": [
        "stemmer = PorterStemmer() # creating stemmer object"
      ],
      "execution_count": 59,
      "outputs": []
    },
    {
      "cell_type": "code",
      "metadata": {
        "id": "vuz-lnSCoKCx"
      },
      "source": [
        "lemmatizer = WordNetLemmatizer() # creating lemmatizer object"
      ],
      "execution_count": 60,
      "outputs": []
    },
    {
      "cell_type": "markdown",
      "metadata": {
        "id": "j-eubP_wtImN"
      },
      "source": [
        "**Pre-processing Function includes the following:**\n",
        "**-removes punctuations**\n",
        "**,removes digits**\n",
        "**,removes word 'user' which is frequently used in the datasets**\n",
        "**,removes stopwords**\n",
        "**,performed stemming**\n",
        "**,performed lemmatization**"
      ]
    },
    {
      "cell_type": "code",
      "metadata": {
        "id": "olfLm6aoxDmS"
      },
      "source": [
        "def pre_processing(text):\n",
        "    text  = \"\".join([char for char in text if char not in string.punctuation])\n",
        "    text = re.sub('[0-9]+', ' ', text)\n",
        "    text = re.sub('@user','',text)\n",
        "    text = ' '.join([x for x in word_tokenize(text) if x not in stop_words])\n",
        "    text = ' '.join([stemmer.stem(x) for x in word_tokenize(text)])\n",
        "    text = ' '.join([lemmatizer.lemmatize(x) for x in word_tokenize(text)])\n",
        "    return text"
      ],
      "execution_count": 61,
      "outputs": []
    },
    {
      "cell_type": "markdown",
      "metadata": {
        "id": "FEtXJ1KZGgLE"
      },
      "source": [
        "**Function for removing Emojis**"
      ]
    },
    {
      "cell_type": "code",
      "metadata": {
        "id": "IaQOBI6L9ysc"
      },
      "source": [
        "def remove_emoji(string):\n",
        "    emoji_pattern = re.compile(\"[\"\n",
        "                           u\"\\U0001F600-\\U0001F64F\"  # emoticons\n",
        "                           u\"\\U0001F300-\\U0001F5FF\"  # symbols & pictographs\n",
        "                           u\"\\U0001F680-\\U0001F6FF\"  # transport & map symbols\n",
        "                           u\"\\U0001F1E0-\\U0001F1FF\" \n",
        "                           u\"\\U00002702-\\U000027B0\"\n",
        "                           u\"\\U000024C2-\\U0001F251\"\n",
        "                           \"]+\", flags=re.UNICODE)\n",
        "    return emoji_pattern.sub(r'', string)"
      ],
      "execution_count": 62,
      "outputs": []
    },
    {
      "cell_type": "markdown",
      "metadata": {
        "id": "1LBh3NkoGGWO"
      },
      "source": [
        "**Cleaned Text**"
      ]
    },
    {
      "cell_type": "code",
      "metadata": {
        "id": "bu8dLDx6xGzk"
      },
      "source": [
        "# cleaning the train data\n",
        "train_hate['Text'] = train_hate['Text'].apply(lambda x: pre_processing(x))\n",
        "train_hate['Text'] = train_hate['Text'].apply(lambda x: remove_emoji(x))\n",
        "\n",
        "#cleaning the validation data\n",
        "val_hate['Text'] = val_hate['Text'].apply(lambda x: pre_processing(x))\n",
        "val_hate['Text'] = val_hate['Text'].apply(lambda x: remove_emoji(x))\n",
        "\n",
        "#cleaning the test data\n",
        "test_hate['Text'] = test_hate['Text'].apply(lambda x: pre_processing(x))\n",
        "test_hate['Text'] = test_hate['Text'].apply(lambda x: remove_emoji(x))"
      ],
      "execution_count": 63,
      "outputs": []
    },
    {
      "cell_type": "code",
      "metadata": {
        "colab": {
          "base_uri": "https://localhost:8080/"
        },
        "id": "BP6gF4cLfjA5",
        "outputId": "4158fa9c-dec2-4f0b-ede6-5d3a083f07a8"
      },
      "source": [
        "print(train_hate.shape) \n",
        "print(val_hate.shape)\n",
        "print(test_hate.shape)"
      ],
      "execution_count": 64,
      "outputs": [
        {
          "output_type": "stream",
          "text": [
            "(9001, 2)\n",
            "(1001, 2)\n",
            "(2971, 2)\n"
          ],
          "name": "stdout"
        }
      ]
    },
    {
      "cell_type": "markdown",
      "metadata": {
        "id": "FKjZQrPrF1de"
      },
      "source": [
        "**Checking the count of Labels**"
      ]
    },
    {
      "cell_type": "code",
      "metadata": {
        "colab": {
          "base_uri": "https://localhost:8080/",
          "height": 296
        },
        "id": "BNJpEAyAdBZH",
        "outputId": "4bcbc971-9186-455b-b90b-7f8e1bdca8ac"
      },
      "source": [
        "sns.countplot(x=\"Labels\", data=train_hate)\n",
        "# 0 - non-hate\n",
        "# 1 - hate"
      ],
      "execution_count": 65,
      "outputs": [
        {
          "output_type": "execute_result",
          "data": {
            "text/plain": [
              "<matplotlib.axes._subplots.AxesSubplot at 0x7f01d77c8750>"
            ]
          },
          "metadata": {
            "tags": []
          },
          "execution_count": 65
        },
        {
          "output_type": "display_data",
          "data": {
            "image/png": "[encoded data removed]",
            "text/plain": [
              "<Figure size 432x288 with 1 Axes>"
            ]
          },
          "metadata": {
            "tags": [],
            "needs_background": "light"
          }
        }
      ]
    },
    {
      "cell_type": "markdown",
      "metadata": {
        "id": "8zjFTznyEJI0"
      },
      "source": [
        "**Checking for Missing Values**"
      ]
    },
    {
      "cell_type": "code",
      "metadata": {
        "colab": {
          "base_uri": "https://localhost:8080/"
        },
        "id": "1oEJ5GzGdP55",
        "outputId": "3af48ebb-04a0-49f3-943e-cc175c1aec96"
      },
      "source": [
        "train_hate.isna().sum()"
      ],
      "execution_count": 66,
      "outputs": [
        {
          "output_type": "execute_result",
          "data": {
            "text/plain": [
              "Text      0\n",
              "Labels    0\n",
              "dtype: int64"
            ]
          },
          "metadata": {
            "tags": []
          },
          "execution_count": 66
        }
      ]
    },
    {
      "cell_type": "markdown",
      "metadata": {
        "id": "Pz9-AViwD-RG"
      },
      "source": [
        "**Using CountVectorizer and TF-IDF Vectorizer for translating text data into numeric form acceptable by the model**"
      ]
    },
    {
      "cell_type": "code",
      "metadata": {
        "id": "TZQCcFDCltN6"
      },
      "source": [
        "cv = CountVectorizer(stop_words='english',max_features=10000)\n",
        "cv_train_features = cv.fit_transform(train_hate['Text'])"
      ],
      "execution_count": 122,
      "outputs": []
    },
    {
      "cell_type": "code",
      "metadata": {
        "id": "aZkr-N-Lqypa"
      },
      "source": [
        "tf1 = TfidfVectorizer(min_df=0.0, max_df=1.0, ngram_range=(1,2),sublinear_tf=True)\n",
        "tf_train_features = tf1.fit_transform(train_hate['Text'])"
      ],
      "execution_count": 123,
      "outputs": []
    },
    {
      "cell_type": "markdown",
      "metadata": {
        "id": "nR7srn9iDwl6"
      },
      "source": [
        "**WORD CLOUD**"
      ]
    },
    {
      "cell_type": "code",
      "metadata": {
        "id": "OX0VPCr-9qW1",
        "colab": {
          "base_uri": "https://localhost:8080/",
          "height": 366
        },
        "outputId": "952353ac-201d-4a85-e97d-495e93294f26"
      },
      "source": [
        "wordcloud = WordCloud(width=1600, height=800, max_font_size=200).generate(str(train_hate['Text']))\n",
        "plt.figure(figsize=(12,10))\n",
        "plt.imshow(wordcloud, interpolation='bilinear')\n",
        "plt.axis(\"off\")\n",
        "plt.show()"
      ],
      "execution_count": 124,
      "outputs": [
        {
          "output_type": "display_data",
          "data": {
            "image/png": "[encoded data removed]",
            "text/plain": [
              "<Figure size 864x720 with 1 Axes>"
            ]
          },
          "metadata": {
            "tags": [],
            "needs_background": "light"
          }
        }
      ]
    },
    {
      "cell_type": "code",
      "metadata": {
        "id": "wpz7KHHtzedY"
      },
      "source": [
        "cv = CountVectorizer(stop_words='english',max_features=10000)\n",
        "cv_test_features = cv.fit_transform(test_hate['Text'])"
      ],
      "execution_count": 125,
      "outputs": []
    },
    {
      "cell_type": "code",
      "metadata": {
        "id": "xQKGhqB-59Wi"
      },
      "source": [
        "tf1 = TfidfVectorizer(min_df=0.0, max_df=1.0, ngram_range=(1,2),sublinear_tf=True)\n",
        "tf_test_features = tf1.fit_transform(test_hate['Text'])"
      ],
      "execution_count": 126,
      "outputs": []
    },
    {
      "cell_type": "markdown",
      "metadata": {
        "id": "0uFCZNb_4cl0"
      },
      "source": [
        "SVM"
      ]
    },
    {
      "cell_type": "code",
      "metadata": {
        "id": "E-C9mos6shj0"
      },
      "source": [
        "from sklearn import svm"
      ],
      "execution_count": 127,
      "outputs": []
    },
    {
      "cell_type": "code",
      "metadata": {
        "id": "0ouS2lkJt3tF"
      },
      "source": [
        "clf = svm.SVC()"
      ],
      "execution_count": 128,
      "outputs": []
    },
    {
      "cell_type": "code",
      "metadata": {
        "id": "hrhhQ3h2q9Ti"
      },
      "source": [
        "X_train = tf1.transform(train_hate[\"Text\"])\n",
        "y_train = train_hate[\"Labels\"]"
      ],
      "execution_count": 129,
      "outputs": []
    },
    {
      "cell_type": "code",
      "metadata": {
        "id": "jUruh0LgKUxT"
      },
      "source": [
        "X_test = tf1.transform(test_hate[\"Text\"])\n",
        "y_test = test_hate[\"Labels\"]"
      ],
      "execution_count": 130,
      "outputs": []
    },
    {
      "cell_type": "code",
      "metadata": {
        "colab": {
          "base_uri": "https://localhost:8080/"
        },
        "id": "ts7iGdyoKv0I",
        "outputId": "3cfdcb5a-284e-4e01-bbb1-6b8ed0951cb7"
      },
      "source": [
        "clf.fit(X_train,y_train)"
      ],
      "execution_count": 131,
      "outputs": [
        {
          "output_type": "execute_result",
          "data": {
            "text/plain": [
              "SVC(C=1.0, break_ties=False, cache_size=200, class_weight=None, coef0=0.0,\n",
              "    decision_function_shape='ovr', degree=3, gamma='scale', kernel='rbf',\n",
              "    max_iter=-1, probability=False, random_state=None, shrinking=True,\n",
              "    tol=0.001, verbose=False)"
            ]
          },
          "metadata": {
            "tags": []
          },
          "execution_count": 131
        }
      ]
    },
    {
      "cell_type": "code",
      "metadata": {
        "id": "DnSBc_NILmmd"
      },
      "source": [
        "preds = clf.predict(X_test)"
      ],
      "execution_count": 132,
      "outputs": []
    },
    {
      "cell_type": "code",
      "metadata": {
        "id": "32LDsQ62A82J",
        "colab": {
          "base_uri": "https://localhost:8080/"
        },
        "outputId": "1905a5a4-e7fc-428b-803c-b3ccf4674fb5"
      },
      "source": [
        "print(f1_score(preds, y_test, average='macro'))\n",
        "print(accuracy_score(preds,y_test))"
      ],
      "execution_count": 133,
      "outputs": [
        {
          "output_type": "stream",
          "text": [
            "0.38265923048742473\n",
            "0.575563783237967\n"
          ],
          "name": "stdout"
        }
      ]
    },
    {
      "cell_type": "markdown",
      "metadata": {
        "id": "4_RKGb3t4H_M"
      },
      "source": [
        "**FAST TEXT**"
      ]
    },
    {
      "cell_type": "code",
      "metadata": {
        "id": "7lquih0H4HuQ",
        "colab": {
          "base_uri": "https://localhost:8080/"
        },
        "outputId": "3b5da89d-88e2-409d-fdae-48641e5c7a4e"
      },
      "source": [
        "!pip install fasttext"
      ],
      "execution_count": 83,
      "outputs": [
        {
          "output_type": "stream",
          "text": [
            "Requirement already satisfied: fasttext in /usr/local/lib/python3.7/dist-packages (0.9.2)\n",
            "Requirement already satisfied: numpy in /usr/local/lib/python3.7/dist-packages (from fasttext) (1.19.5)\n",
            "Requirement already satisfied: setuptools>=0.7.0 in /usr/local/lib/python3.7/dist-packages (from fasttext) (56.0.0)\n",
            "Requirement already satisfied: pybind11>=2.2 in /usr/local/lib/python3.7/dist-packages (from fasttext) (2.6.2)\n"
          ],
          "name": "stdout"
        }
      ]
    },
    {
      "cell_type": "code",
      "metadata": {
        "id": "1GqebhWJ4HmQ"
      },
      "source": [
        "import fasttext"
      ],
      "execution_count": 113,
      "outputs": []
    },
    {
      "cell_type": "code",
      "metadata": {
        "id": "Arorrsnu4Hga"
      },
      "source": [
        "with open('fasttext_hate_inputs.txt', 'w') as f:\n",
        "    for each_text, each_label in zip(train_hate['Text'], train_hate['Labels']):\n",
        "        f.writelines(f'__label__{each_label} {each_text}\\n')"
      ],
      "execution_count": 114,
      "outputs": []
    },
    {
      "cell_type": "code",
      "metadata": {
        "id": "j1chroYQ4Hc6"
      },
      "source": [
        "classifier1 = fasttext.train_supervised('fasttext_hate_inputs.txt', lr=0.01, wordNgrams=2, epoch=100)"
      ],
      "execution_count": 115,
      "outputs": []
    },
    {
      "cell_type": "code",
      "metadata": {
        "id": "sTRYhEQb4HYn"
      },
      "source": [
        "predictions1 = classifier1.predict(test_hate['Text'].to_list())\n",
        "# print(predictions1[0])"
      ],
      "execution_count": 136,
      "outputs": []
    },
    {
      "cell_type": "code",
      "metadata": {
        "id": "26DNWvft4HVg"
      },
      "source": [
        "def cleanpred_(text):\n",
        "  return text[0].replace(\"__label__\",\"\")"
      ],
      "execution_count": 117,
      "outputs": []
    },
    {
      "cell_type": "code",
      "metadata": {
        "id": "PE-InQ2t4HSU"
      },
      "source": [
        "fast_preds = map(cleanpred_,predictions1[0])\n",
        "fast_preds = list(fast_preds)  # final predictions of fasttext model after cleaning"
      ],
      "execution_count": 135,
      "outputs": []
    },
    {
      "cell_type": "code",
      "metadata": {
        "colab": {
          "base_uri": "https://localhost:8080/"
        },
        "id": "Ox7cvRtj4HPd",
        "outputId": "afa7dd2d-532a-492a-f1a1-a0ab1c402ed6"
      },
      "source": [
        "f1_score(test_hate['Labels'],fast_preds,average='macro')"
      ],
      "execution_count": 119,
      "outputs": [
        {
          "output_type": "execute_result",
          "data": {
            "text/plain": [
              "0.3157120949688161"
            ]
          },
          "metadata": {
            "tags": []
          },
          "execution_count": 119
        }
      ]
    },
    {
      "cell_type": "code",
      "metadata": {
        "id": "4Q36WBiY4HL5",
        "colab": {
          "base_uri": "https://localhost:8080/"
        },
        "outputId": "d3e34a0b-01a2-4f04-f83b-9d839127ae76"
      },
      "source": [
        "accuracy_score(fast_preds,test_hate['Labels'])"
      ],
      "execution_count": 121,
      "outputs": [
        {
          "output_type": "execute_result",
          "data": {
            "text/plain": [
              "0.5119488387748233"
            ]
          },
          "metadata": {
            "tags": []
          },
          "execution_count": 121
        }
      ]
    },
    {
      "cell_type": "markdown",
      "metadata": {
        "id": "u4AO17qv1azE"
      },
      "source": [
        "**ROBERTA-BASE**"
      ]
    },
    {
      "cell_type": "code",
      "metadata": {
        "id": "Bby0cImV1kXv",
        "colab": {
          "base_uri": "https://localhost:8080/"
        },
        "outputId": "08c75c9b-3d20-48a1-aab2-882de2ebd8f3"
      },
      "source": [
        "!pip install transformers"
      ],
      "execution_count": 92,
      "outputs": [
        {
          "output_type": "stream",
          "text": [
            "Requirement already satisfied: transformers in /usr/local/lib/python3.7/dist-packages (4.5.1)\n",
            "Requirement already satisfied: packaging in /usr/local/lib/python3.7/dist-packages (from transformers) (20.9)\n",
            "Requirement already satisfied: tokenizers<0.11,>=0.10.1 in /usr/local/lib/python3.7/dist-packages (from transformers) (0.10.2)\n",
            "Requirement already satisfied: requests in /usr/local/lib/python3.7/dist-packages (from transformers) (2.23.0)\n",
            "Requirement already satisfied: tqdm>=4.27 in /usr/local/lib/python3.7/dist-packages (from transformers) (4.41.1)\n",
            "Requirement already satisfied: sacremoses in /usr/local/lib/python3.7/dist-packages (from transformers) (0.0.45)\n",
            "Requirement already satisfied: numpy>=1.17 in /usr/local/lib/python3.7/dist-packages (from transformers) (1.19.5)\n",
            "Requirement already satisfied: importlib-metadata; python_version < \"3.8\" in /usr/local/lib/python3.7/dist-packages (from transformers) (3.10.1)\n",
            "Requirement already satisfied: filelock in /usr/local/lib/python3.7/dist-packages (from transformers) (3.0.12)\n",
            "Requirement already satisfied: regex!=2019.12.17 in /usr/local/lib/python3.7/dist-packages (from transformers) (2019.12.20)\n",
            "Requirement already satisfied: pyparsing>=2.0.2 in /usr/local/lib/python3.7/dist-packages (from packaging->transformers) (2.4.7)\n",
            "Requirement already satisfied: chardet<4,>=3.0.2 in /usr/local/lib/python3.7/dist-packages (from requests->transformers) (3.0.4)\n",
            "Requirement already satisfied: idna<3,>=2.5 in /usr/local/lib/python3.7/dist-packages (from requests->transformers) (2.10)\n",
            "Requirement already satisfied: certifi>=2017.4.17 in /usr/local/lib/python3.7/dist-packages (from requests->transformers) (2020.12.5)\n",
            "Requirement already satisfied: urllib3!=1.25.0,!=1.25.1,<1.26,>=1.21.1 in /usr/local/lib/python3.7/dist-packages (from requests->transformers) (1.24.3)\n",
            "Requirement already satisfied: joblib in /usr/local/lib/python3.7/dist-packages (from sacremoses->transformers) (1.0.1)\n",
            "Requirement already satisfied: six in /usr/local/lib/python3.7/dist-packages (from sacremoses->transformers) (1.15.0)\n",
            "Requirement already satisfied: click in /usr/local/lib/python3.7/dist-packages (from sacremoses->transformers) (7.1.2)\n",
            "Requirement already satisfied: zipp>=0.5 in /usr/local/lib/python3.7/dist-packages (from importlib-metadata; python_version < \"3.8\"->transformers) (3.4.1)\n",
            "Requirement already satisfied: typing-extensions>=3.6.4; python_version < \"3.8\" in /usr/local/lib/python3.7/dist-packages (from importlib-metadata; python_version < \"3.8\"->transformers) (3.7.4.3)\n"
          ],
          "name": "stdout"
        }
      ]
    },
    {
      "cell_type": "code",
      "metadata": {
        "id": "rMqyqHX22JMh"
      },
      "source": [
        "from transformers import AutoModelForSequenceClassification\n",
        "from transformers import TFAutoModelForSequenceClassification\n",
        "from transformers import AutoTokenizer\n",
        "import numpy as np\n",
        "from scipy.special import softmax\n",
        "import csv\n",
        "import urllib.request"
      ],
      "execution_count": 93,
      "outputs": []
    },
    {
      "cell_type": "code",
      "metadata": {
        "id": "xzZH5mAv4HJb"
      },
      "source": [
        "task='hate'\n",
        "MODEL = f\"cardiffnlp/twitter-roberta-base-{task}\"\n",
        "tokenizer = AutoTokenizer.from_pretrained(MODEL)"
      ],
      "execution_count": 94,
      "outputs": []
    },
    {
      "cell_type": "code",
      "metadata": {
        "id": "YNRnJNLN4HF0"
      },
      "source": [
        "labels = ['0','1']"
      ],
      "execution_count": 95,
      "outputs": []
    },
    {
      "cell_type": "code",
      "metadata": {
        "id": "lHDa-qAt4G_W"
      },
      "source": [
        "model = AutoModelForSequenceClassification.from_pretrained(MODEL)\n",
        "model.save_pretrained(MODEL)"
      ],
      "execution_count": 96,
      "outputs": []
    },
    {
      "cell_type": "code",
      "metadata": {
        "id": "Uh5U5Z_j4G7p"
      },
      "source": [
        "sents = list(test_hate['Text'][:])  # list of all texts"
      ],
      "execution_count": 134,
      "outputs": []
    },
    {
      "cell_type": "code",
      "metadata": {
        "id": "wtZLNxAL4G31"
      },
      "source": [
        "def get_preds(sentence):  # custom prediction function to extract the predicted labels\n",
        "    text = sentence\n",
        "    encoded_input = tokenizer(text, return_tensors='pt')\n",
        "    output = model(**encoded_input)\n",
        "    scores = output[0][0].detach().numpy()\n",
        "    scores = softmax(scores)  \n",
        "    ranking = np.argsort(scores)\n",
        "    ranking = ranking[::-1]\n",
        "\n",
        "    dict1 = {}\n",
        "    preds = []\n",
        "    for i in range(scores.shape[0]):\n",
        "        l = labels[ranking[i]]\n",
        "        s = scores[ranking[i]]\n",
        "        # print(f\"{i+1}) {l} {np.round(float(s), 4)}\")\n",
        "        dict1[l] = s\n",
        "        pred = max(dict1, key=dict1.get)\n",
        "        preds.append(pred)\n",
        "\n",
        "    prediction = list(set(preds))\n",
        "\n",
        "    return prediction "
      ],
      "execution_count": 98,
      "outputs": []
    },
    {
      "cell_type": "code",
      "metadata": {
        "id": "GM0xOGkx5sMi"
      },
      "source": [
        "result = map(lambda x: get_preds(x), sents)\n",
        "roberta_preds = list(result)\n",
        "roberta_preds = [item for sublist in roberta_preds for item in sublist] #final list of predictions"
      ],
      "execution_count": 99,
      "outputs": []
    },
    {
      "cell_type": "code",
      "metadata": {
        "id": "Xh_YHOUc54u4",
        "colab": {
          "base_uri": "https://localhost:8080/"
        },
        "outputId": "e9afa258-7cfa-49b9-b8f0-e7fba3e95239"
      },
      "source": [
        "print(\"F1:score\",f1_score(test_hate['Labels'],roberta_preds,average='macro'))\n",
        "print(\"Accuracy:\",accuracy_score(roberta_preds,test_hate['Labels']))\n"
      ],
      "execution_count": 100,
      "outputs": [
        {
          "output_type": "stream",
          "text": [
            "F1:score 0.4369361380433361\n",
            "Accuracy: 0.6576910131268933\n"
          ],
          "name": "stdout"
        }
      ]
    },
    {
      "cell_type": "markdown",
      "metadata": {
        "id": "q9EP2H7zCVJK"
      },
      "source": [
        "**RANDOM FOREST**"
      ]
    },
    {
      "cell_type": "code",
      "metadata": {
        "id": "5l4HsuKO7iRx"
      },
      "source": [
        "rf = RandomForestClassifier(n_estimators=500)"
      ],
      "execution_count": 101,
      "outputs": []
    },
    {
      "cell_type": "code",
      "metadata": {
        "id": "zY4DI8IECjOn",
        "colab": {
          "base_uri": "https://localhost:8080/"
        },
        "outputId": "41bff8da-28dd-438d-c5a7-d8cc9b43a7cf"
      },
      "source": [
        "rf.fit(X_train,y_train)"
      ],
      "execution_count": 102,
      "outputs": [
        {
          "output_type": "execute_result",
          "data": {
            "text/plain": [
              "RandomForestClassifier(bootstrap=True, ccp_alpha=0.0, class_weight=None,\n",
              "                       criterion='gini', max_depth=None, max_features='auto',\n",
              "                       max_leaf_nodes=None, max_samples=None,\n",
              "                       min_impurity_decrease=0.0, min_impurity_split=None,\n",
              "                       min_samples_leaf=1, min_samples_split=2,\n",
              "                       min_weight_fraction_leaf=0.0, n_estimators=500,\n",
              "                       n_jobs=None, oob_score=False, random_state=None,\n",
              "                       verbose=0, warm_start=False)"
            ]
          },
          "metadata": {
            "tags": []
          },
          "execution_count": 102
        }
      ]
    },
    {
      "cell_type": "code",
      "metadata": {
        "id": "rbbJHlS2CnT6"
      },
      "source": [
        "rf_preds = rf.predict(X_test)"
      ],
      "execution_count": 103,
      "outputs": []
    },
    {
      "cell_type": "code",
      "metadata": {
        "id": "jnJmwxy-C2zN",
        "colab": {
          "base_uri": "https://localhost:8080/"
        },
        "outputId": "d3cf7681-dce2-47c4-fb62-f50e99d119ee"
      },
      "source": [
        "print(\"F1:score:\",f1_score(rf_preds,y_test,average='macro'))\n",
        "print(\"Accuracy:\",accuracy_score(rf_preds,y_test))"
      ],
      "execution_count": 104,
      "outputs": [
        {
          "output_type": "stream",
          "text": [
            "F1:score: 0.35733589039289876\n",
            "Accuracy: 0.5425782564792999\n"
          ],
          "name": "stdout"
        }
      ]
    },
    {
      "cell_type": "code",
      "metadata": {
        "id": "8yCCoFMkDYDX"
      },
      "source": [
        ""
      ],
      "execution_count": 104,
      "outputs": []
    }
  ]
}