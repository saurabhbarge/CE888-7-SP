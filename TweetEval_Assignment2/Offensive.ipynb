{
  "nbformat": 4,
  "nbformat_minor": 0,
  "metadata": {
    "colab": {
      "name": "Offensive.ipynb",
      "provenance": [],
      "collapsed_sections": [],
      "mount_file_id": "1rdg8hQFFNihHbYvw6GoazC9fkWVJImY5",
      "authorship_tag": "ABX9TyN6H4KRmoKWveUnosLPpOfI",
      "include_colab_link": true
    },
    "kernelspec": {
      "name": "python3",
      "display_name": "Python 3"
    }
  },
  "cells": [
    {
      "cell_type": "markdown",
      "metadata": {
        "id": "view-in-github",
        "colab_type": "text"
      },
      "source": [
        "<a href=\"https://colab.research.google.com/github/saurabhbarge/CE888-7-SP/blob/main/TweetEval_Assignment2/Offensive.ipynb\" target=\"_parent\"><img src=\"https://colab.research.google.com/assets/colab-badge.svg\" alt=\"Open In Colab\"/></a>"
      ]
    },
    {
      "cell_type": "markdown",
      "metadata": {
        "id": "qCl1jDfFEJOm"
      },
      "source": [
        ""
      ]
    },
    {
      "cell_type": "markdown",
      "metadata": {
        "id": "rS1bOO7or3TF"
      },
      "source": [
        "**Importing all the Libraries**"
      ]
    },
    {
      "cell_type": "code",
      "metadata": {
        "id": "48eJjHIeFr_m"
      },
      "source": [
        "import numpy as np\n",
        "import pandas as pd\n",
        "import nltk\n",
        "from nltk.corpus import stopwords\n",
        "from nltk.tokenize import word_tokenize\n",
        "from nltk.stem.porter import PorterStemmer\n",
        "from nltk.stem import WordNetLemmatizer\n",
        "from sklearn.feature_extraction.text import CountVectorizer, TfidfVectorizer\n",
        "from sklearn.ensemble import RandomForestClassifier\n",
        "from sklearn.model_selection import train_test_split\n",
        "from sklearn.model_selection import GridSearchCV\n",
        "from sklearn.model_selection import cross_val_score\n",
        "from sklearn.metrics import f1_score\n",
        "import re\n",
        "import string\n",
        "from wordcloud import WordCloud\n",
        "from sklearn.preprocessing import LabelEncoder\n",
        "from matplotlib import pyplot as plt \n",
        "%matplotlib inline\n",
        "import seaborn as sns"
      ],
      "execution_count": 76,
      "outputs": []
    },
    {
      "cell_type": "code",
      "metadata": {
        "id": "2nItUrZaRExs",
        "colab": {
          "base_uri": "https://localhost:8080/"
        },
        "outputId": "062e9919-fae7-4b72-ad6b-bac4dbfb38eb"
      },
      "source": [
        "!pip install fasttext\n",
        "import fasttext"
      ],
      "execution_count": 77,
      "outputs": [
        {
          "output_type": "stream",
          "text": [
            "Requirement already satisfied: fasttext in /usr/local/lib/python3.7/dist-packages (0.9.2)\n",
            "Requirement already satisfied: numpy in /usr/local/lib/python3.7/dist-packages (from fasttext) (1.19.5)\n",
            "Requirement already satisfied: setuptools>=0.7.0 in /usr/local/lib/python3.7/dist-packages (from fasttext) (56.0.0)\n",
            "Requirement already satisfied: pybind11>=2.2 in /usr/local/lib/python3.7/dist-packages (from fasttext) (2.6.2)\n"
          ],
          "name": "stdout"
        }
      ]
    },
    {
      "cell_type": "code",
      "metadata": {
        "id": "pHrvaxz4b0am",
        "colab": {
          "base_uri": "https://localhost:8080/"
        },
        "outputId": "14de2f10-62b0-47bc-e19d-df71c6e20ba5"
      },
      "source": [
        "nltk.download('stopwords')\n",
        "nltk.download('punkt')\n",
        "nltk.download('wordnet')"
      ],
      "execution_count": 78,
      "outputs": [
        {
          "output_type": "stream",
          "text": [
            "[nltk_data] Downloading package stopwords to /root/nltk_data...\n",
            "[nltk_data]   Package stopwords is already up-to-date!\n",
            "[nltk_data] Downloading package punkt to /root/nltk_data...\n",
            "[nltk_data]   Package punkt is already up-to-date!\n",
            "[nltk_data] Downloading package wordnet to /root/nltk_data...\n",
            "[nltk_data]   Package wordnet is already up-to-date!\n"
          ],
          "name": "stdout"
        },
        {
          "output_type": "execute_result",
          "data": {
            "text/plain": [
              "True"
            ]
          },
          "metadata": {
            "tags": []
          },
          "execution_count": 78
        }
      ]
    },
    {
      "cell_type": "code",
      "metadata": {
        "id": "X_pDb0vtxssU"
      },
      "source": [
        "stop_words = list(set(stopwords.words('english'))) # list of stop words"
      ],
      "execution_count": 79,
      "outputs": []
    },
    {
      "cell_type": "code",
      "metadata": {
        "id": "L-vpJVu3lhK1"
      },
      "source": [
        "stemmer = PorterStemmer() # creating stemmer object"
      ],
      "execution_count": 80,
      "outputs": []
    },
    {
      "cell_type": "code",
      "metadata": {
        "id": "vuz-lnSCoKCx"
      },
      "source": [
        "lemmatizer = WordNetLemmatizer() # creating lemmatizer object"
      ],
      "execution_count": 81,
      "outputs": []
    },
    {
      "cell_type": "markdown",
      "metadata": {
        "id": "j-eubP_wtImN"
      },
      "source": [
        "**Pre-processing Function includes the following:**\n",
        "**-removes punctuations**\n",
        "**,removes digits**\n",
        "**,removes word 'user' which is frequently used in the datasets**\n",
        "**,removes stopwords**\n",
        "**,performed stemming**\n",
        "**,performed lemmatization**"
      ]
    },
    {
      "cell_type": "code",
      "metadata": {
        "id": "olfLm6aoxDmS"
      },
      "source": [
        "def pre_processing(text):\n",
        "    text  = \"\".join([char for char in text if char not in string.punctuation])\n",
        "    text = re.sub('[0-9]+', '', text)\n",
        "    text = re.sub('@user','',text)\n",
        "    text = ' '.join([x for x in word_tokenize(text) if x not in stop_words])\n",
        "    text = ' '.join([stemmer.stem(x) for x in word_tokenize(text)])\n",
        "    text = ' '.join([lemmatizer.lemmatize(x) for x in word_tokenize(text)])\n",
        "    return text"
      ],
      "execution_count": 82,
      "outputs": []
    },
    {
      "cell_type": "markdown",
      "metadata": {
        "id": "3cswaXWoFC9S"
      },
      "source": [
        "**Function for removing Emojis**"
      ]
    },
    {
      "cell_type": "code",
      "metadata": {
        "id": "jmWwhOfx7ESh"
      },
      "source": [
        "def remove_emoji(string):\n",
        "    emoji_pattern = re.compile(\"[\"\n",
        "                           u\"\\U0001F600-\\U0001F64F\"  # emoticons\n",
        "                           u\"\\U0001F300-\\U0001F5FF\"  # symbols & pictographs\n",
        "                           u\"\\U0001F680-\\U0001F6FF\"  # transport & map symbols\n",
        "                           u\"\\U0001F1E0-\\U0001F1FF\"  # flags (iOS)\n",
        "                           u\"\\U00002702-\\U000027B0\"\n",
        "                           u\"\\U000024C2-\\U0001F251\"\n",
        "                           \"]+\", flags=re.UNICODE)\n",
        "    return emoji_pattern.sub(r'', string)"
      ],
      "execution_count": 83,
      "outputs": []
    },
    {
      "cell_type": "markdown",
      "metadata": {
        "id": "3JaetPyMEu6d"
      },
      "source": [
        "**Reading the Offensive Dataset Training Text file and Training Labels file**"
      ]
    },
    {
      "cell_type": "code",
      "metadata": {
        "id": "cyTcWLGdDrtI"
      },
      "source": [
        "with open(\"/content/drive/MyDrive/offensive/train_text.txt\") as data2:\n",
        "    of_traintext = data2.read()"
      ],
      "execution_count": 84,
      "outputs": []
    },
    {
      "cell_type": "code",
      "metadata": {
        "id": "Q_bXdTj8FaH-"
      },
      "source": [
        "with open(\"/content/drive/MyDrive/offensive/train_labels.txt\") as data2:\n",
        "    of_trainlabels = data2.read()"
      ],
      "execution_count": 85,
      "outputs": []
    },
    {
      "cell_type": "code",
      "metadata": {
        "id": "4BtvuEISDs4b"
      },
      "source": [
        "def dataset_create(filepath_text,filepath_labels):\n",
        "    with open(filepath_text) as data:\n",
        "        read_text = data.read()\n",
        "\n",
        "    with open(filepath_labels) as data:\n",
        "        read_labels = data.read()   \n",
        "    \n",
        "    read_text = read_text.split(\"\\n\")\n",
        "    read_labels = read_labels.split(\"\\n\")\n",
        "    read_text = [x.lower() for x in read_text]  \n",
        "    \n",
        "    df = pd.DataFrame({'Text':read_text,'Labels':read_labels})\n",
        "    return df"
      ],
      "execution_count": 86,
      "outputs": []
    },
    {
      "cell_type": "code",
      "metadata": {
        "id": "zXaKjPJzFvFr"
      },
      "source": [
        "train_off = dataset_create(\"/content/drive/MyDrive/offensive/train_text.txt\",\"/content/drive/MyDrive/offensive/train_labels.txt\")\n",
        "val_off = dataset_create(\"/content/drive/MyDrive/offensive/val_text.txt\",\"/content/drive/MyDrive/offensive/val_labels.txt\")\n",
        "test_off = dataset_create(\"/content/drive/MyDrive/offensive/test_text.txt\",\"/content/drive/MyDrive/offensive/test_labels.txt\")"
      ],
      "execution_count": 87,
      "outputs": []
    },
    {
      "cell_type": "markdown",
      "metadata": {
        "id": "2jaCoRPNyqFs"
      },
      "source": [
        "**Mapping Labels**"
      ]
    },
    {
      "cell_type": "code",
      "metadata": {
        "id": "KZNxtko-ypAv"
      },
      "source": [
        "# df_offensive['Offensive_labels'] = df_offensive['Offensive_labels'].map({'0':'not-offensive','1':'offensive'})"
      ],
      "execution_count": 88,
      "outputs": []
    },
    {
      "cell_type": "markdown",
      "metadata": {
        "id": "BY4YHkIgFQDl"
      },
      "source": [
        "**Cleaned Text**"
      ]
    },
    {
      "cell_type": "code",
      "metadata": {
        "id": "347xVveeT17W"
      },
      "source": [
        "# cleaning the train data\n",
        "train_off['Text'] = train_off['Text'].apply(lambda x: pre_processing(x))\n",
        "train_off['Text'] = train_off['Text'].apply(lambda x: remove_emoji(x))\n",
        "\n",
        "#cleaning the validation data\n",
        "val_off['Text'] = val_off['Text'].apply(lambda x: pre_processing(x))\n",
        "val_off['Text'] = val_off['Text'].apply(lambda x: remove_emoji(x))\n",
        "\n",
        "#cleaning the test data\n",
        "test_off['Text'] = test_off['Text'].apply(lambda x: pre_processing(x))\n",
        "test_off['Text'] = test_off['Text'].apply(lambda x: remove_emoji(x))"
      ],
      "execution_count": 89,
      "outputs": []
    },
    {
      "cell_type": "code",
      "metadata": {
        "id": "DwXHd-2Kpz3P",
        "colab": {
          "base_uri": "https://localhost:8080/"
        },
        "outputId": "9d0571d5-a596-4500-b50c-8de91dee74a8"
      },
      "source": [
        "print(train_off.shape) \n",
        "print(val_off.shape)\n",
        "print(test_off.shape)"
      ],
      "execution_count": 90,
      "outputs": [
        {
          "output_type": "stream",
          "text": [
            "(11917, 2)\n",
            "(1325, 2)\n",
            "(861, 2)\n"
          ],
          "name": "stdout"
        }
      ]
    },
    {
      "cell_type": "markdown",
      "metadata": {
        "id": "0Zq3fIhdFXKW"
      },
      "source": [
        "**Checking the count of labels** "
      ]
    },
    {
      "cell_type": "code",
      "metadata": {
        "id": "B9wnkN1O8jm2",
        "colab": {
          "base_uri": "https://localhost:8080/",
          "height": 296
        },
        "outputId": "e8d29e0b-c271-4bf4-bdc0-5b73f694cac3"
      },
      "source": [
        "sns.countplot(x = 'Labels',data = train_off)\n",
        "# 0 - not-offensive\n",
        "# 1 - offensive"
      ],
      "execution_count": 91,
      "outputs": [
        {
          "output_type": "execute_result",
          "data": {
            "text/plain": [
              "<matplotlib.axes._subplots.AxesSubplot at 0x7f82d31a1750>"
            ]
          },
          "metadata": {
            "tags": []
          },
          "execution_count": 91
        },
        {
          "output_type": "display_data",
          "data": {
            "image/png": "[encoded data removed]",
            "text/plain": [
              "<Figure size 432x288 with 1 Axes>"
            ]
          },
          "metadata": {
            "tags": [],
            "needs_background": "light"
          }
        }
      ]
    },
    {
      "cell_type": "markdown",
      "metadata": {
        "id": "S2BQW-6uFpF9"
      },
      "source": [
        "**Checking for missing values**"
      ]
    },
    {
      "cell_type": "code",
      "metadata": {
        "id": "uEBR7ee_frZs",
        "colab": {
          "base_uri": "https://localhost:8080/"
        },
        "outputId": "413bcdc1-c4b1-468c-861e-52e5d8a25184"
      },
      "source": [
        "train_off.isna().sum() "
      ],
      "execution_count": 92,
      "outputs": [
        {
          "output_type": "execute_result",
          "data": {
            "text/plain": [
              "Text      0\n",
              "Labels    0\n",
              "dtype: int64"
            ]
          },
          "metadata": {
            "tags": []
          },
          "execution_count": 92
        }
      ]
    },
    {
      "cell_type": "markdown",
      "metadata": {
        "id": "VnC1EsgmFvZy"
      },
      "source": [
        "**WORD CLOUD**"
      ]
    },
    {
      "cell_type": "code",
      "metadata": {
        "id": "dwsbLobp6X9w",
        "colab": {
          "base_uri": "https://localhost:8080/",
          "height": 366
        },
        "outputId": "d540b395-d7ae-4305-dd80-bf2f5caea117"
      },
      "source": [
        "wordcloud = WordCloud(width=1600, height=800, max_font_size=200).generate(str(train_off['Text']))\n",
        "plt.figure(figsize=(12,10))\n",
        "plt.imshow(wordcloud, interpolation='bilinear')\n",
        "plt.axis(\"off\")\n",
        "plt.show()"
      ],
      "execution_count": 93,
      "outputs": [
        {
          "output_type": "display_data",
          "data": {
            "image/png": "[encoded data removed]",
            "text/plain": [
              "<Figure size 864x720 with 1 Axes>"
            ]
          },
          "metadata": {
            "tags": [],
            "needs_background": "light"
          }
        }
      ]
    },
    {
      "cell_type": "markdown",
      "metadata": {
        "id": "q9MKrwjKF1P-"
      },
      "source": [
        "**Using CountVectorizer and TF-IDF Vectorizer for translating text data into numeric form acceptable by the model**"
      ]
    },
    {
      "cell_type": "code",
      "metadata": {
        "id": "TZQCcFDCltN6"
      },
      "source": [
        "cv = CountVectorizer(stop_words='english',max_features=10000)\n",
        "cv_train_features = cv.fit_transform(train_off['Text'])"
      ],
      "execution_count": 151,
      "outputs": []
    },
    {
      "cell_type": "code",
      "metadata": {
        "id": "aZkr-N-Lqypa"
      },
      "source": [
        "tf1 = TfidfVectorizer(min_df=0.0, max_df=1.0, ngram_range=(1,2),sublinear_tf=True)\n",
        "tf_train_features = tf1.fit_transform(train_off['Text'])"
      ],
      "execution_count": 152,
      "outputs": []
    },
    {
      "cell_type": "code",
      "metadata": {
        "id": "qfccnb4maRZe"
      },
      "source": [
        "cv = CountVectorizer(stop_words='english',max_features=10000)\n",
        "cv_test_features = cv.fit_transform(test_off['Text'])"
      ],
      "execution_count": 153,
      "outputs": []
    },
    {
      "cell_type": "code",
      "metadata": {
        "id": "CoKLBDKsaRWD"
      },
      "source": [
        "tf1 = TfidfVectorizer(min_df=0.0, max_df=1.0, ngram_range=(1,2),sublinear_tf=True)\n",
        "tf_test_features = tf1.fit_transform(test_off['Text'])"
      ],
      "execution_count": 154,
      "outputs": []
    },
    {
      "cell_type": "markdown",
      "metadata": {
        "id": "e7kihwHw75B8"
      },
      "source": [
        "**SVM**"
      ]
    },
    {
      "cell_type": "code",
      "metadata": {
        "id": "rHHeb8A470FY"
      },
      "source": [
        "from sklearn import svm\n",
        "from sklearn.metrics import accuracy_score"
      ],
      "execution_count": 155,
      "outputs": []
    },
    {
      "cell_type": "code",
      "metadata": {
        "id": "y96-LvDk70Bv"
      },
      "source": [
        "clf = svm.SVC()"
      ],
      "execution_count": 156,
      "outputs": []
    },
    {
      "cell_type": "code",
      "metadata": {
        "id": "i9tJQfvH7z85"
      },
      "source": [
        "X_train = tf1.transform(train_off[\"Text\"])\n",
        "y_train = train_off[\"Labels\"]"
      ],
      "execution_count": 157,
      "outputs": []
    },
    {
      "cell_type": "code",
      "metadata": {
        "id": "5HDpFmC-7z4V"
      },
      "source": [
        "X_test = tf1.transform(test_off[\"Text\"])\n",
        "y_test = test_off[\"Labels\"]"
      ],
      "execution_count": 158,
      "outputs": []
    },
    {
      "cell_type": "code",
      "metadata": {
        "id": "xTI871UyFrZ5"
      },
      "source": [
        "clf1 = svm.SVC(C=10,gamma=0.1,kernel='rbf')"
      ],
      "execution_count": 159,
      "outputs": []
    },
    {
      "cell_type": "code",
      "metadata": {
        "colab": {
          "base_uri": "https://localhost:8080/"
        },
        "id": "WAk20OWXF3pV",
        "outputId": "780c0196-bf86-4197-ebe1-7e862aadb473"
      },
      "source": [
        "clf1.fit(X_train,y_train)"
      ],
      "execution_count": 160,
      "outputs": [
        {
          "output_type": "execute_result",
          "data": {
            "text/plain": [
              "SVC(C=10, break_ties=False, cache_size=200, class_weight=None, coef0=0.0,\n",
              "    decision_function_shape='ovr', degree=3, gamma=0.1, kernel='rbf',\n",
              "    max_iter=-1, probability=False, random_state=None, shrinking=True,\n",
              "    tol=0.001, verbose=False)"
            ]
          },
          "metadata": {
            "tags": []
          },
          "execution_count": 160
        }
      ]
    },
    {
      "cell_type": "code",
      "metadata": {
        "id": "lsAaUlv-7zvd"
      },
      "source": [
        "svm_preds = clf1.predict(X_test)"
      ],
      "execution_count": 161,
      "outputs": []
    },
    {
      "cell_type": "code",
      "metadata": {
        "colab": {
          "base_uri": "https://localhost:8080/"
        },
        "id": "E3ARpJkl7zrC",
        "outputId": "e480c555-9daa-413b-af41-dbb75d359743"
      },
      "source": [
        "print(\"F1-score:\",f1_score(svm_preds, y_test, average='macro'))\n",
        "print(\"Accuracy:\",accuracy_score(svm_preds,y_test))"
      ],
      "execution_count": 162,
      "outputs": [
        {
          "output_type": "stream",
          "text": [
            "F1-score: 0.47041095814765116\n",
            "Accuracy: 0.8072009291521487\n"
          ],
          "name": "stdout"
        }
      ]
    },
    {
      "cell_type": "code",
      "metadata": {
        "id": "b_an96O_-LqG"
      },
      "source": [
        ""
      ],
      "execution_count": 109,
      "outputs": []
    },
    {
      "cell_type": "code",
      "metadata": {
        "id": "ZEfGs9M6-Lmp"
      },
      "source": [
        ""
      ],
      "execution_count": 109,
      "outputs": []
    },
    {
      "cell_type": "markdown",
      "metadata": {
        "id": "O-ag1foV3W_n"
      },
      "source": [
        "**FAST** **TEXT**"
      ]
    },
    {
      "cell_type": "code",
      "metadata": {
        "id": "gzIEh8VxUNK2"
      },
      "source": [
        "with open('fasttext_offensive_inputs.txt', 'w') as f:   #Converting data to a format accepted by fasttext and storing it in a text file\n",
        "    for each_text, each_label in zip(train_off['Text'], train_off['Labels']):\n",
        "        f.writelines(f'__label__{each_label} {each_text}\\n')"
      ],
      "execution_count": 131,
      "outputs": []
    },
    {
      "cell_type": "code",
      "metadata": {
        "id": "axjfI8KkRvii"
      },
      "source": [
        "fcl = fasttext.train_supervised('fasttext_offensive_inputs.txt', lr=0.01, wordNgrams=2, epoch=100)"
      ],
      "execution_count": 132,
      "outputs": []
    },
    {
      "cell_type": "code",
      "metadata": {
        "id": "99Uj24xcRvfF"
      },
      "source": [
        "predictions1 = fcl.predict(test_off['Text'].to_list())"
      ],
      "execution_count": 133,
      "outputs": []
    },
    {
      "cell_type": "code",
      "metadata": {
        "id": "-grTupVHRvbr"
      },
      "source": [
        "def cleanpred_(text): # cleaning the predictions obtained by Fasttext \n",
        "  return text[0].replace(\"__label__\",\"\")"
      ],
      "execution_count": 134,
      "outputs": []
    },
    {
      "cell_type": "code",
      "metadata": {
        "id": "w50vWR3yH4Lm"
      },
      "source": [
        "fast_preds = map(cleanpred_,predictions1[0])\n",
        "fast_preds = list(fast_preds) # final predictions of fasttext model after cleaning"
      ],
      "execution_count": 135,
      "outputs": []
    },
    {
      "cell_type": "code",
      "metadata": {
        "id": "0cUPrMPNRvYm"
      },
      "source": [
        "from sklearn.metrics import f1_score"
      ],
      "execution_count": 136,
      "outputs": []
    },
    {
      "cell_type": "code",
      "metadata": {
        "id": "UUJ97lOdRvVy",
        "colab": {
          "base_uri": "https://localhost:8080/"
        },
        "outputId": "264ef9c6-2d09-4430-e6f2-024692b9b447"
      },
      "source": [
        "print(\"F1-score:\",f1_score(test_off['Labels'],fast_preds,average='macro'))\n",
        "print(\"Accuracy:\",accuracy_score(fast_preds,y_test))"
      ],
      "execution_count": 137,
      "outputs": [
        {
          "output_type": "stream",
          "text": [
            "F1-score: 0.4951632712418646\n",
            "Accuracy: 0.8025551684088269\n"
          ],
          "name": "stdout"
        }
      ]
    },
    {
      "cell_type": "markdown",
      "metadata": {
        "id": "k3p5YU0pz5tI"
      },
      "source": [
        "**ROBERTA-BASE**"
      ]
    },
    {
      "cell_type": "code",
      "metadata": {
        "id": "3WQZuaf7z5Ra",
        "colab": {
          "base_uri": "https://localhost:8080/"
        },
        "outputId": "05e2f851-4c45-457f-e8b6-61f8948170b7"
      },
      "source": [
        "!pip install transformers"
      ],
      "execution_count": 117,
      "outputs": [
        {
          "output_type": "stream",
          "text": [
            "Requirement already satisfied: transformers in /usr/local/lib/python3.7/dist-packages (4.5.1)\n",
            "Requirement already satisfied: packaging in /usr/local/lib/python3.7/dist-packages (from transformers) (20.9)\n",
            "Requirement already satisfied: sacremoses in /usr/local/lib/python3.7/dist-packages (from transformers) (0.0.45)\n",
            "Requirement already satisfied: importlib-metadata; python_version < \"3.8\" in /usr/local/lib/python3.7/dist-packages (from transformers) (3.10.1)\n",
            "Requirement already satisfied: requests in /usr/local/lib/python3.7/dist-packages (from transformers) (2.23.0)\n",
            "Requirement already satisfied: numpy>=1.17 in /usr/local/lib/python3.7/dist-packages (from transformers) (1.19.5)\n",
            "Requirement already satisfied: filelock in /usr/local/lib/python3.7/dist-packages (from transformers) (3.0.12)\n",
            "Requirement already satisfied: tokenizers<0.11,>=0.10.1 in /usr/local/lib/python3.7/dist-packages (from transformers) (0.10.2)\n",
            "Requirement already satisfied: regex!=2019.12.17 in /usr/local/lib/python3.7/dist-packages (from transformers) (2019.12.20)\n",
            "Requirement already satisfied: tqdm>=4.27 in /usr/local/lib/python3.7/dist-packages (from transformers) (4.41.1)\n",
            "Requirement already satisfied: pyparsing>=2.0.2 in /usr/local/lib/python3.7/dist-packages (from packaging->transformers) (2.4.7)\n",
            "Requirement already satisfied: six in /usr/local/lib/python3.7/dist-packages (from sacremoses->transformers) (1.15.0)\n",
            "Requirement already satisfied: joblib in /usr/local/lib/python3.7/dist-packages (from sacremoses->transformers) (1.0.1)\n",
            "Requirement already satisfied: click in /usr/local/lib/python3.7/dist-packages (from sacremoses->transformers) (7.1.2)\n",
            "Requirement already satisfied: typing-extensions>=3.6.4; python_version < \"3.8\" in /usr/local/lib/python3.7/dist-packages (from importlib-metadata; python_version < \"3.8\"->transformers) (3.7.4.3)\n",
            "Requirement already satisfied: zipp>=0.5 in /usr/local/lib/python3.7/dist-packages (from importlib-metadata; python_version < \"3.8\"->transformers) (3.4.1)\n",
            "Requirement already satisfied: urllib3!=1.25.0,!=1.25.1,<1.26,>=1.21.1 in /usr/local/lib/python3.7/dist-packages (from requests->transformers) (1.24.3)\n",
            "Requirement already satisfied: idna<3,>=2.5 in /usr/local/lib/python3.7/dist-packages (from requests->transformers) (2.10)\n",
            "Requirement already satisfied: chardet<4,>=3.0.2 in /usr/local/lib/python3.7/dist-packages (from requests->transformers) (3.0.4)\n",
            "Requirement already satisfied: certifi>=2017.4.17 in /usr/local/lib/python3.7/dist-packages (from requests->transformers) (2020.12.5)\n"
          ],
          "name": "stdout"
        }
      ]
    },
    {
      "cell_type": "code",
      "metadata": {
        "id": "1-1hyxE_z5OF"
      },
      "source": [
        "from transformers import AutoModelForSequenceClassification\n",
        "from transformers import TFAutoModelForSequenceClassification\n",
        "from transformers import AutoTokenizer\n",
        "import numpy as np\n",
        "from scipy.special import softmax\n",
        "import csv\n",
        "import urllib.request"
      ],
      "execution_count": 118,
      "outputs": []
    },
    {
      "cell_type": "code",
      "metadata": {
        "id": "A6l6NNxXz5K7"
      },
      "source": [
        "task='offensive'\n",
        "MODEL = f\"cardiffnlp/twitter-roberta-base-{task}\"\n",
        "tokenizer = AutoTokenizer.from_pretrained(MODEL)"
      ],
      "execution_count": 120,
      "outputs": []
    },
    {
      "cell_type": "code",
      "metadata": {
        "id": "FLSMu-tdz5Hl"
      },
      "source": [
        "labels = ['0','1']"
      ],
      "execution_count": 121,
      "outputs": []
    },
    {
      "cell_type": "code",
      "metadata": {
        "id": "SlCLwRg2z5Em"
      },
      "source": [
        "model = AutoModelForSequenceClassification.from_pretrained(MODEL)\n",
        "model.save_pretrained(MODEL)"
      ],
      "execution_count": 122,
      "outputs": []
    },
    {
      "cell_type": "code",
      "metadata": {
        "id": "rNnCIRvo04aS"
      },
      "source": [
        "sents = list(test_off['Text'][:])  # list of all texts"
      ],
      "execution_count": 138,
      "outputs": []
    },
    {
      "cell_type": "code",
      "metadata": {
        "id": "wzznHNdIz5Bf"
      },
      "source": [
        "def get_preds(sentence):  # custom prediction function to extract the predicted labels\n",
        "    text = sentence\n",
        "    encoded_input = tokenizer(text, return_tensors='pt')\n",
        "    output = model(**encoded_input)\n",
        "    scores = output[0][0].detach().numpy()\n",
        "    scores = softmax(scores)  \n",
        "    ranking = np.argsort(scores)\n",
        "    ranking = ranking[::-1]\n",
        "\n",
        "    dict1 = {}\n",
        "    preds = []\n",
        "    for i in range(scores.shape[0]):\n",
        "        l = labels[ranking[i]]\n",
        "        s = scores[ranking[i]]\n",
        "        # print(f\"{i+1}) {l} {np.round(float(s), 4)}\")\n",
        "        dict1[l] = s\n",
        "        pred = max(dict1, key=dict1.get)\n",
        "        preds.append(pred)\n",
        "\n",
        "    prediction = list(set(preds))\n",
        "\n",
        "    return prediction "
      ],
      "execution_count": 124,
      "outputs": []
    },
    {
      "cell_type": "code",
      "metadata": {
        "id": "TOZGUHwLz4-P"
      },
      "source": [
        "result = map(lambda x: get_preds(x), sents)\n",
        "roberta_preds = list(result)\n",
        "roberta_preds = [item for sublist in roberta_preds for item in sublist] #final list of predictions"
      ],
      "execution_count": 125,
      "outputs": []
    },
    {
      "cell_type": "code",
      "metadata": {
        "colab": {
          "base_uri": "https://localhost:8080/"
        },
        "id": "xrn8U_s2z47O",
        "outputId": "0b99e866-7325-4511-dd7d-af26c4c6cb65"
      },
      "source": [
        "print(\"F1:score\",f1_score(test_off['Labels'],roberta_preds,average='macro'))\n",
        "print(\"Accuracy:\",accuracy_score(roberta_preds,test_off['Labels']))"
      ],
      "execution_count": 126,
      "outputs": [
        {
          "output_type": "stream",
          "text": [
            "F1:score 0.47041095814765116\n",
            "Accuracy: 0.8072009291521487\n"
          ],
          "name": "stdout"
        }
      ]
    },
    {
      "cell_type": "code",
      "metadata": {
        "id": "fNt1hVsUz44J"
      },
      "source": [
        ""
      ],
      "execution_count": 126,
      "outputs": []
    },
    {
      "cell_type": "markdown",
      "metadata": {
        "id": "STQJQ_6Uw8fm"
      },
      "source": [
        "**RANDOM FOREST**"
      ]
    },
    {
      "cell_type": "code",
      "metadata": {
        "id": "pOj_cdlIw5pF"
      },
      "source": [
        "rf = RandomForestClassifier(n_estimators=500)"
      ],
      "execution_count": 127,
      "outputs": []
    },
    {
      "cell_type": "code",
      "metadata": {
        "id": "WnNRnU_qRaCT",
        "colab": {
          "base_uri": "https://localhost:8080/"
        },
        "outputId": "67db51c7-5fdc-4796-8725-26f3aaf178f9"
      },
      "source": [
        "rf.fit(X_train,y_train)"
      ],
      "execution_count": 128,
      "outputs": [
        {
          "output_type": "execute_result",
          "data": {
            "text/plain": [
              "RandomForestClassifier(bootstrap=True, ccp_alpha=0.0, class_weight=None,\n",
              "                       criterion='gini', max_depth=None, max_features='auto',\n",
              "                       max_leaf_nodes=None, max_samples=None,\n",
              "                       min_impurity_decrease=0.0, min_impurity_split=None,\n",
              "                       min_samples_leaf=1, min_samples_split=2,\n",
              "                       min_weight_fraction_leaf=0.0, n_estimators=500,\n",
              "                       n_jobs=None, oob_score=False, random_state=None,\n",
              "                       verbose=0, warm_start=False)"
            ]
          },
          "metadata": {
            "tags": []
          },
          "execution_count": 128
        }
      ]
    },
    {
      "cell_type": "code",
      "metadata": {
        "id": "MRM_ognlRZ-2"
      },
      "source": [
        "rf_preds = rf.predict(X_test)"
      ],
      "execution_count": 129,
      "outputs": []
    },
    {
      "cell_type": "code",
      "metadata": {
        "id": "XI0Kw987RZ7w",
        "colab": {
          "base_uri": "https://localhost:8080/"
        },
        "outputId": "fc9038c1-90c5-494a-fc47-ce6d29ef151e"
      },
      "source": [
        "print(\"F1:score:\",f1_score(rf_preds,y_test,average='macro'))\n",
        "print(\"Accuracy:\",accuracy_score(rf_preds,y_test))"
      ],
      "execution_count": 130,
      "outputs": [
        {
          "output_type": "stream",
          "text": [
            "F1:score: 0.4499093192654508\n",
            "Accuracy: 0.7921022067363531\n"
          ],
          "name": "stdout"
        }
      ]
    },
    {
      "cell_type": "code",
      "metadata": {
        "id": "5ZMGPFRozzvj"
      },
      "source": [
        ""
      ],
      "execution_count": 130,
      "outputs": []
    },
    {
      "cell_type": "code",
      "metadata": {
        "id": "xdTQ84LbRZ45"
      },
      "source": [
        ""
      ],
      "execution_count": null,
      "outputs": []
    },
    {
      "cell_type": "code",
      "metadata": {
        "id": "5rim_Io5RZ2Z"
      },
      "source": [
        ""
      ],
      "execution_count": null,
      "outputs": []
    },
    {
      "cell_type": "code",
      "metadata": {
        "id": "BI1b5Jx2RZzt"
      },
      "source": [
        ""
      ],
      "execution_count": null,
      "outputs": []
    },
    {
      "cell_type": "code",
      "metadata": {
        "id": "q_wwl5YTH4Vu"
      },
      "source": [
        ""
      ],
      "execution_count": null,
      "outputs": []
    },
    {
      "cell_type": "code",
      "metadata": {
        "id": "RqCooRRGQ1E-"
      },
      "source": [
        ""
      ],
      "execution_count": null,
      "outputs": []
    }
  ]
}