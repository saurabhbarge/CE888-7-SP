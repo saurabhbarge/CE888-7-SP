{
  "nbformat": 4,
  "nbformat_minor": 0,
  "metadata": {
    "colab": {
      "name": "Irony.ipynb",
      "provenance": [],
      "collapsed_sections": [],
      "mount_file_id": "18br_63UXlpH-n6BF9ciLoygXt-0W_a6c",
      "authorship_tag": "ABX9TyPdR8BUz5uOfLLTlT48toWB",
      "include_colab_link": true
    },
    "kernelspec": {
      "name": "python3",
      "display_name": "Python 3"
    },
    "widgets": {
      "application/vnd.jupyter.widget-state+json": {
        "16f198c1a68c486aae7d3b9e829874c9": {
          "model_module": "@jupyter-widgets/controls",
          "model_name": "HBoxModel",
          "state": {
            "_view_name": "HBoxView",
            "_dom_classes": [],
            "_model_name": "HBoxModel",
            "_view_module": "@jupyter-widgets/controls",
            "_model_module_version": "1.5.0",
            "_view_count": null,
            "_view_module_version": "1.5.0",
            "box_style": "",
            "layout": "IPY_MODEL_28303ad2803f486084785cc98d8a5ab7",
            "_model_module": "@jupyter-widgets/controls",
            "children": [
              "IPY_MODEL_565bfe3703324a4da4ec34b968f3f8f6",
              "IPY_MODEL_0a5a823127d747c58c16bf83a28fcf3c"
            ]
          }
        },
        "28303ad2803f486084785cc98d8a5ab7": {
          "model_module": "@jupyter-widgets/base",
          "model_name": "LayoutModel",
          "state": {
            "_view_name": "LayoutView",
            "grid_template_rows": null,
            "right": null,
            "justify_content": null,
            "_view_module": "@jupyter-widgets/base",
            "overflow": null,
            "_model_module_version": "1.2.0",
            "_view_count": null,
            "flex_flow": null,
            "width": null,
            "min_width": null,
            "border": null,
            "align_items": null,
            "bottom": null,
            "_model_module": "@jupyter-widgets/base",
            "top": null,
            "grid_column": null,
            "overflow_y": null,
            "overflow_x": null,
            "grid_auto_flow": null,
            "grid_area": null,
            "grid_template_columns": null,
            "flex": null,
            "_model_name": "LayoutModel",
            "justify_items": null,
            "grid_row": null,
            "max_height": null,
            "align_content": null,
            "visibility": null,
            "align_self": null,
            "height": null,
            "min_height": null,
            "padding": null,
            "grid_auto_rows": null,
            "grid_gap": null,
            "max_width": null,
            "order": null,
            "_view_module_version": "1.2.0",
            "grid_template_areas": null,
            "object_position": null,
            "object_fit": null,
            "grid_auto_columns": null,
            "margin": null,
            "display": null,
            "left": null
          }
        },
        "565bfe3703324a4da4ec34b968f3f8f6": {
          "model_module": "@jupyter-widgets/controls",
          "model_name": "FloatProgressModel",
          "state": {
            "_view_name": "ProgressView",
            "style": "IPY_MODEL_2748cb65d1fe4d93898c0ecb530cd19a",
            "_dom_classes": [],
            "description": "Downloading: 100%",
            "_model_name": "FloatProgressModel",
            "bar_style": "success",
            "max": 589,
            "_view_module": "@jupyter-widgets/controls",
            "_model_module_version": "1.5.0",
            "value": 589,
            "_view_count": null,
            "_view_module_version": "1.5.0",
            "orientation": "horizontal",
            "min": 0,
            "description_tooltip": null,
            "_model_module": "@jupyter-widgets/controls",
            "layout": "IPY_MODEL_eee9066981f643f7b13e636022ba30d0"
          }
        },
        "0a5a823127d747c58c16bf83a28fcf3c": {
          "model_module": "@jupyter-widgets/controls",
          "model_name": "HTMLModel",
          "state": {
            "_view_name": "HTMLView",
            "style": "IPY_MODEL_7f8110c3437544fb9a16722df47c4654",
            "_dom_classes": [],
            "description": "",
            "_model_name": "HTMLModel",
            "placeholder": "​",
            "_view_module": "@jupyter-widgets/controls",
            "_model_module_version": "1.5.0",
            "value": " 589/589 [00:00&lt;00:00, 1.93kB/s]",
            "_view_count": null,
            "_view_module_version": "1.5.0",
            "description_tooltip": null,
            "_model_module": "@jupyter-widgets/controls",
            "layout": "IPY_MODEL_97f7407c16f2439d9b7bb49d1674320a"
          }
        },
        "2748cb65d1fe4d93898c0ecb530cd19a": {
          "model_module": "@jupyter-widgets/controls",
          "model_name": "ProgressStyleModel",
          "state": {
            "_view_name": "StyleView",
            "_model_name": "ProgressStyleModel",
            "description_width": "initial",
            "_view_module": "@jupyter-widgets/base",
            "_model_module_version": "1.5.0",
            "_view_count": null,
            "_view_module_version": "1.2.0",
            "bar_color": null,
            "_model_module": "@jupyter-widgets/controls"
          }
        },
        "eee9066981f643f7b13e636022ba30d0": {
          "model_module": "@jupyter-widgets/base",
          "model_name": "LayoutModel",
          "state": {
            "_view_name": "LayoutView",
            "grid_template_rows": null,
            "right": null,
            "justify_content": null,
            "_view_module": "@jupyter-widgets/base",
            "overflow": null,
            "_model_module_version": "1.2.0",
            "_view_count": null,
            "flex_flow": null,
            "width": null,
            "min_width": null,
            "border": null,
            "align_items": null,
            "bottom": null,
            "_model_module": "@jupyter-widgets/base",
            "top": null,
            "grid_column": null,
            "overflow_y": null,
            "overflow_x": null,
            "grid_auto_flow": null,
            "grid_area": null,
            "grid_template_columns": null,
            "flex": null,
            "_model_name": "LayoutModel",
            "justify_items": null,
            "grid_row": null,
            "max_height": null,
            "align_content": null,
            "visibility": null,
            "align_self": null,
            "height": null,
            "min_height": null,
            "padding": null,
            "grid_auto_rows": null,
            "grid_gap": null,
            "max_width": null,
            "order": null,
            "_view_module_version": "1.2.0",
            "grid_template_areas": null,
            "object_position": null,
            "object_fit": null,
            "grid_auto_columns": null,
            "margin": null,
            "display": null,
            "left": null
          }
        },
        "7f8110c3437544fb9a16722df47c4654": {
          "model_module": "@jupyter-widgets/controls",
          "model_name": "DescriptionStyleModel",
          "state": {
            "_view_name": "StyleView",
            "_model_name": "DescriptionStyleModel",
            "description_width": "",
            "_view_module": "@jupyter-widgets/base",
            "_model_module_version": "1.5.0",
            "_view_count": null,
            "_view_module_version": "1.2.0",
            "_model_module": "@jupyter-widgets/controls"
          }
        },
        "97f7407c16f2439d9b7bb49d1674320a": {
          "model_module": "@jupyter-widgets/base",
          "model_name": "LayoutModel",
          "state": {
            "_view_name": "LayoutView",
            "grid_template_rows": null,
            "right": null,
            "justify_content": null,
            "_view_module": "@jupyter-widgets/base",
            "overflow": null,
            "_model_module_version": "1.2.0",
            "_view_count": null,
            "flex_flow": null,
            "width": null,
            "min_width": null,
            "border": null,
            "align_items": null,
            "bottom": null,
            "_model_module": "@jupyter-widgets/base",
            "top": null,
            "grid_column": null,
            "overflow_y": null,
            "overflow_x": null,
            "grid_auto_flow": null,
            "grid_area": null,
            "grid_template_columns": null,
            "flex": null,
            "_model_name": "LayoutModel",
            "justify_items": null,
            "grid_row": null,
            "max_height": null,
            "align_content": null,
            "visibility": null,
            "align_self": null,
            "height": null,
            "min_height": null,
            "padding": null,
            "grid_auto_rows": null,
            "grid_gap": null,
            "max_width": null,
            "order": null,
            "_view_module_version": "1.2.0",
            "grid_template_areas": null,
            "object_position": null,
            "object_fit": null,
            "grid_auto_columns": null,
            "margin": null,
            "display": null,
            "left": null
          }
        },
        "6ede065ebb8e4311b1a0880fb092e20c": {
          "model_module": "@jupyter-widgets/controls",
          "model_name": "HBoxModel",
          "state": {
            "_view_name": "HBoxView",
            "_dom_classes": [],
            "_model_name": "HBoxModel",
            "_view_module": "@jupyter-widgets/controls",
            "_model_module_version": "1.5.0",
            "_view_count": null,
            "_view_module_version": "1.5.0",
            "box_style": "",
            "layout": "IPY_MODEL_8aeb9754a9d6428bb64bcd932a3664d8",
            "_model_module": "@jupyter-widgets/controls",
            "children": [
              "IPY_MODEL_5a1c0ff4d4be4ceea557bd674b898a27",
              "IPY_MODEL_233ccd1b210c4230a841e4c1291abb4c"
            ]
          }
        },
        "8aeb9754a9d6428bb64bcd932a3664d8": {
          "model_module": "@jupyter-widgets/base",
          "model_name": "LayoutModel",
          "state": {
            "_view_name": "LayoutView",
            "grid_template_rows": null,
            "right": null,
            "justify_content": null,
            "_view_module": "@jupyter-widgets/base",
            "overflow": null,
            "_model_module_version": "1.2.0",
            "_view_count": null,
            "flex_flow": null,
            "width": null,
            "min_width": null,
            "border": null,
            "align_items": null,
            "bottom": null,
            "_model_module": "@jupyter-widgets/base",
            "top": null,
            "grid_column": null,
            "overflow_y": null,
            "overflow_x": null,
            "grid_auto_flow": null,
            "grid_area": null,
            "grid_template_columns": null,
            "flex": null,
            "_model_name": "LayoutModel",
            "justify_items": null,
            "grid_row": null,
            "max_height": null,
            "align_content": null,
            "visibility": null,
            "align_self": null,
            "height": null,
            "min_height": null,
            "padding": null,
            "grid_auto_rows": null,
            "grid_gap": null,
            "max_width": null,
            "order": null,
            "_view_module_version": "1.2.0",
            "grid_template_areas": null,
            "object_position": null,
            "object_fit": null,
            "grid_auto_columns": null,
            "margin": null,
            "display": null,
            "left": null
          }
        },
        "5a1c0ff4d4be4ceea557bd674b898a27": {
          "model_module": "@jupyter-widgets/controls",
          "model_name": "FloatProgressModel",
          "state": {
            "_view_name": "ProgressView",
            "style": "IPY_MODEL_f552b214419c459682740850f970e1b1",
            "_dom_classes": [],
            "description": "Downloading: 100%",
            "_model_name": "FloatProgressModel",
            "bar_style": "success",
            "max": 898822,
            "_view_module": "@jupyter-widgets/controls",
            "_model_module_version": "1.5.0",
            "value": 898822,
            "_view_count": null,
            "_view_module_version": "1.5.0",
            "orientation": "horizontal",
            "min": 0,
            "description_tooltip": null,
            "_model_module": "@jupyter-widgets/controls",
            "layout": "IPY_MODEL_a7617fbc5c2d43a6b2433c1ef2ea3660"
          }
        },
        "233ccd1b210c4230a841e4c1291abb4c": {
          "model_module": "@jupyter-widgets/controls",
          "model_name": "HTMLModel",
          "state": {
            "_view_name": "HTMLView",
            "style": "IPY_MODEL_4a0f1b2cdb4945859c148eed264f7997",
            "_dom_classes": [],
            "description": "",
            "_model_name": "HTMLModel",
            "placeholder": "​",
            "_view_module": "@jupyter-widgets/controls",
            "_model_module_version": "1.5.0",
            "value": " 899k/899k [00:00&lt;00:00, 5.23MB/s]",
            "_view_count": null,
            "_view_module_version": "1.5.0",
            "description_tooltip": null,
            "_model_module": "@jupyter-widgets/controls",
            "layout": "IPY_MODEL_f4e13db94b644a61a1211c4f50e8f40a"
          }
        },
        "f552b214419c459682740850f970e1b1": {
          "model_module": "@jupyter-widgets/controls",
          "model_name": "ProgressStyleModel",
          "state": {
            "_view_name": "StyleView",
            "_model_name": "ProgressStyleModel",
            "description_width": "initial",
            "_view_module": "@jupyter-widgets/base",
            "_model_module_version": "1.5.0",
            "_view_count": null,
            "_view_module_version": "1.2.0",
            "bar_color": null,
            "_model_module": "@jupyter-widgets/controls"
          }
        },
        "a7617fbc5c2d43a6b2433c1ef2ea3660": {
          "model_module": "@jupyter-widgets/base",
          "model_name": "LayoutModel",
          "state": {
            "_view_name": "LayoutView",
            "grid_template_rows": null,
            "right": null,
            "justify_content": null,
            "_view_module": "@jupyter-widgets/base",
            "overflow": null,
            "_model_module_version": "1.2.0",
            "_view_count": null,
            "flex_flow": null,
            "width": null,
            "min_width": null,
            "border": null,
            "align_items": null,
            "bottom": null,
            "_model_module": "@jupyter-widgets/base",
            "top": null,
            "grid_column": null,
            "overflow_y": null,
            "overflow_x": null,
            "grid_auto_flow": null,
            "grid_area": null,
            "grid_template_columns": null,
            "flex": null,
            "_model_name": "LayoutModel",
            "justify_items": null,
            "grid_row": null,
            "max_height": null,
            "align_content": null,
            "visibility": null,
            "align_self": null,
            "height": null,
            "min_height": null,
            "padding": null,
            "grid_auto_rows": null,
            "grid_gap": null,
            "max_width": null,
            "order": null,
            "_view_module_version": "1.2.0",
            "grid_template_areas": null,
            "object_position": null,
            "object_fit": null,
            "grid_auto_columns": null,
            "margin": null,
            "display": null,
            "left": null
          }
        },
        "4a0f1b2cdb4945859c148eed264f7997": {
          "model_module": "@jupyter-widgets/controls",
          "model_name": "DescriptionStyleModel",
          "state": {
            "_view_name": "StyleView",
            "_model_name": "DescriptionStyleModel",
            "description_width": "",
            "_view_module": "@jupyter-widgets/base",
            "_model_module_version": "1.5.0",
            "_view_count": null,
            "_view_module_version": "1.2.0",
            "_model_module": "@jupyter-widgets/controls"
          }
        },
        "f4e13db94b644a61a1211c4f50e8f40a": {
          "model_module": "@jupyter-widgets/base",
          "model_name": "LayoutModel",
          "state": {
            "_view_name": "LayoutView",
            "grid_template_rows": null,
            "right": null,
            "justify_content": null,
            "_view_module": "@jupyter-widgets/base",
            "overflow": null,
            "_model_module_version": "1.2.0",
            "_view_count": null,
            "flex_flow": null,
            "width": null,
            "min_width": null,
            "border": null,
            "align_items": null,
            "bottom": null,
            "_model_module": "@jupyter-widgets/base",
            "top": null,
            "grid_column": null,
            "overflow_y": null,
            "overflow_x": null,
            "grid_auto_flow": null,
            "grid_area": null,
            "grid_template_columns": null,
            "flex": null,
            "_model_name": "LayoutModel",
            "justify_items": null,
            "grid_row": null,
            "max_height": null,
            "align_content": null,
            "visibility": null,
            "align_self": null,
            "height": null,
            "min_height": null,
            "padding": null,
            "grid_auto_rows": null,
            "grid_gap": null,
            "max_width": null,
            "order": null,
            "_view_module_version": "1.2.0",
            "grid_template_areas": null,
            "object_position": null,
            "object_fit": null,
            "grid_auto_columns": null,
            "margin": null,
            "display": null,
            "left": null
          }
        },
        "279f7837470b453881f2b69d39af48e5": {
          "model_module": "@jupyter-widgets/controls",
          "model_name": "HBoxModel",
          "state": {
            "_view_name": "HBoxView",
            "_dom_classes": [],
            "_model_name": "HBoxModel",
            "_view_module": "@jupyter-widgets/controls",
            "_model_module_version": "1.5.0",
            "_view_count": null,
            "_view_module_version": "1.5.0",
            "box_style": "",
            "layout": "IPY_MODEL_9e18d2dfbf964973b6e515f80752f52f",
            "_model_module": "@jupyter-widgets/controls",
            "children": [
              "IPY_MODEL_f37ebe6ba6bf4cbba697d9e29dc74ac6",
              "IPY_MODEL_9beb4e5257784b63b7da1106dd5c4a0e"
            ]
          }
        },
        "9e18d2dfbf964973b6e515f80752f52f": {
          "model_module": "@jupyter-widgets/base",
          "model_name": "LayoutModel",
          "state": {
            "_view_name": "LayoutView",
            "grid_template_rows": null,
            "right": null,
            "justify_content": null,
            "_view_module": "@jupyter-widgets/base",
            "overflow": null,
            "_model_module_version": "1.2.0",
            "_view_count": null,
            "flex_flow": null,
            "width": null,
            "min_width": null,
            "border": null,
            "align_items": null,
            "bottom": null,
            "_model_module": "@jupyter-widgets/base",
            "top": null,
            "grid_column": null,
            "overflow_y": null,
            "overflow_x": null,
            "grid_auto_flow": null,
            "grid_area": null,
            "grid_template_columns": null,
            "flex": null,
            "_model_name": "LayoutModel",
            "justify_items": null,
            "grid_row": null,
            "max_height": null,
            "align_content": null,
            "visibility": null,
            "align_self": null,
            "height": null,
            "min_height": null,
            "padding": null,
            "grid_auto_rows": null,
            "grid_gap": null,
            "max_width": null,
            "order": null,
            "_view_module_version": "1.2.0",
            "grid_template_areas": null,
            "object_position": null,
            "object_fit": null,
            "grid_auto_columns": null,
            "margin": null,
            "display": null,
            "left": null
          }
        },
        "f37ebe6ba6bf4cbba697d9e29dc74ac6": {
          "model_module": "@jupyter-widgets/controls",
          "model_name": "FloatProgressModel",
          "state": {
            "_view_name": "ProgressView",
            "style": "IPY_MODEL_7af3554ee30b4375a9a459c7ecd35dfb",
            "_dom_classes": [],
            "description": "Downloading: 100%",
            "_model_name": "FloatProgressModel",
            "bar_style": "success",
            "max": 456318,
            "_view_module": "@jupyter-widgets/controls",
            "_model_module_version": "1.5.0",
            "value": 456318,
            "_view_count": null,
            "_view_module_version": "1.5.0",
            "orientation": "horizontal",
            "min": 0,
            "description_tooltip": null,
            "_model_module": "@jupyter-widgets/controls",
            "layout": "IPY_MODEL_6ecd330bf30440f08c204abf63913d4c"
          }
        },
        "9beb4e5257784b63b7da1106dd5c4a0e": {
          "model_module": "@jupyter-widgets/controls",
          "model_name": "HTMLModel",
          "state": {
            "_view_name": "HTMLView",
            "style": "IPY_MODEL_f3cdc990f4a54864b1bd5c5d866ad3e2",
            "_dom_classes": [],
            "description": "",
            "_model_name": "HTMLModel",
            "placeholder": "​",
            "_view_module": "@jupyter-widgets/controls",
            "_model_module_version": "1.5.0",
            "value": " 456k/456k [00:00&lt;00:00, 1.32MB/s]",
            "_view_count": null,
            "_view_module_version": "1.5.0",
            "description_tooltip": null,
            "_model_module": "@jupyter-widgets/controls",
            "layout": "IPY_MODEL_57b1b874f81d4906aceb3ae8aeb2d4bd"
          }
        },
        "7af3554ee30b4375a9a459c7ecd35dfb": {
          "model_module": "@jupyter-widgets/controls",
          "model_name": "ProgressStyleModel",
          "state": {
            "_view_name": "StyleView",
            "_model_name": "ProgressStyleModel",
            "description_width": "initial",
            "_view_module": "@jupyter-widgets/base",
            "_model_module_version": "1.5.0",
            "_view_count": null,
            "_view_module_version": "1.2.0",
            "bar_color": null,
            "_model_module": "@jupyter-widgets/controls"
          }
        },
        "6ecd330bf30440f08c204abf63913d4c": {
          "model_module": "@jupyter-widgets/base",
          "model_name": "LayoutModel",
          "state": {
            "_view_name": "LayoutView",
            "grid_template_rows": null,
            "right": null,
            "justify_content": null,
            "_view_module": "@jupyter-widgets/base",
            "overflow": null,
            "_model_module_version": "1.2.0",
            "_view_count": null,
            "flex_flow": null,
            "width": null,
            "min_width": null,
            "border": null,
            "align_items": null,
            "bottom": null,
            "_model_module": "@jupyter-widgets/base",
            "top": null,
            "grid_column": null,
            "overflow_y": null,
            "overflow_x": null,
            "grid_auto_flow": null,
            "grid_area": null,
            "grid_template_columns": null,
            "flex": null,
            "_model_name": "LayoutModel",
            "justify_items": null,
            "grid_row": null,
            "max_height": null,
            "align_content": null,
            "visibility": null,
            "align_self": null,
            "height": null,
            "min_height": null,
            "padding": null,
            "grid_auto_rows": null,
            "grid_gap": null,
            "max_width": null,
            "order": null,
            "_view_module_version": "1.2.0",
            "grid_template_areas": null,
            "object_position": null,
            "object_fit": null,
            "grid_auto_columns": null,
            "margin": null,
            "display": null,
            "left": null
          }
        },
        "f3cdc990f4a54864b1bd5c5d866ad3e2": {
          "model_module": "@jupyter-widgets/controls",
          "model_name": "DescriptionStyleModel",
          "state": {
            "_view_name": "StyleView",
            "_model_name": "DescriptionStyleModel",
            "description_width": "",
            "_view_module": "@jupyter-widgets/base",
            "_model_module_version": "1.5.0",
            "_view_count": null,
            "_view_module_version": "1.2.0",
            "_model_module": "@jupyter-widgets/controls"
          }
        },
        "57b1b874f81d4906aceb3ae8aeb2d4bd": {
          "model_module": "@jupyter-widgets/base",
          "model_name": "LayoutModel",
          "state": {
            "_view_name": "LayoutView",
            "grid_template_rows": null,
            "right": null,
            "justify_content": null,
            "_view_module": "@jupyter-widgets/base",
            "overflow": null,
            "_model_module_version": "1.2.0",
            "_view_count": null,
            "flex_flow": null,
            "width": null,
            "min_width": null,
            "border": null,
            "align_items": null,
            "bottom": null,
            "_model_module": "@jupyter-widgets/base",
            "top": null,
            "grid_column": null,
            "overflow_y": null,
            "overflow_x": null,
            "grid_auto_flow": null,
            "grid_area": null,
            "grid_template_columns": null,
            "flex": null,
            "_model_name": "LayoutModel",
            "justify_items": null,
            "grid_row": null,
            "max_height": null,
            "align_content": null,
            "visibility": null,
            "align_self": null,
            "height": null,
            "min_height": null,
            "padding": null,
            "grid_auto_rows": null,
            "grid_gap": null,
            "max_width": null,
            "order": null,
            "_view_module_version": "1.2.0",
            "grid_template_areas": null,
            "object_position": null,
            "object_fit": null,
            "grid_auto_columns": null,
            "margin": null,
            "display": null,
            "left": null
          }
        },
        "d848629614394911b7eb41c9d1ce0cdf": {
          "model_module": "@jupyter-widgets/controls",
          "model_name": "HBoxModel",
          "state": {
            "_view_name": "HBoxView",
            "_dom_classes": [],
            "_model_name": "HBoxModel",
            "_view_module": "@jupyter-widgets/controls",
            "_model_module_version": "1.5.0",
            "_view_count": null,
            "_view_module_version": "1.5.0",
            "box_style": "",
            "layout": "IPY_MODEL_884d57312ffb4f2280f4c1f342eee394",
            "_model_module": "@jupyter-widgets/controls",
            "children": [
              "IPY_MODEL_bf1fad0e297045f0b7b97aa432f395de",
              "IPY_MODEL_23213a1694ab4887bedb6be218cb915e"
            ]
          }
        },
        "884d57312ffb4f2280f4c1f342eee394": {
          "model_module": "@jupyter-widgets/base",
          "model_name": "LayoutModel",
          "state": {
            "_view_name": "LayoutView",
            "grid_template_rows": null,
            "right": null,
            "justify_content": null,
            "_view_module": "@jupyter-widgets/base",
            "overflow": null,
            "_model_module_version": "1.2.0",
            "_view_count": null,
            "flex_flow": null,
            "width": null,
            "min_width": null,
            "border": null,
            "align_items": null,
            "bottom": null,
            "_model_module": "@jupyter-widgets/base",
            "top": null,
            "grid_column": null,
            "overflow_y": null,
            "overflow_x": null,
            "grid_auto_flow": null,
            "grid_area": null,
            "grid_template_columns": null,
            "flex": null,
            "_model_name": "LayoutModel",
            "justify_items": null,
            "grid_row": null,
            "max_height": null,
            "align_content": null,
            "visibility": null,
            "align_self": null,
            "height": null,
            "min_height": null,
            "padding": null,
            "grid_auto_rows": null,
            "grid_gap": null,
            "max_width": null,
            "order": null,
            "_view_module_version": "1.2.0",
            "grid_template_areas": null,
            "object_position": null,
            "object_fit": null,
            "grid_auto_columns": null,
            "margin": null,
            "display": null,
            "left": null
          }
        },
        "bf1fad0e297045f0b7b97aa432f395de": {
          "model_module": "@jupyter-widgets/controls",
          "model_name": "FloatProgressModel",
          "state": {
            "_view_name": "ProgressView",
            "style": "IPY_MODEL_cc1e95c0d70342c88c6db79497f1273c",
            "_dom_classes": [],
            "description": "Downloading: 100%",
            "_model_name": "FloatProgressModel",
            "bar_style": "success",
            "max": 150,
            "_view_module": "@jupyter-widgets/controls",
            "_model_module_version": "1.5.0",
            "value": 150,
            "_view_count": null,
            "_view_module_version": "1.5.0",
            "orientation": "horizontal",
            "min": 0,
            "description_tooltip": null,
            "_model_module": "@jupyter-widgets/controls",
            "layout": "IPY_MODEL_14377fe0f7c44d52916410fca0e10fb7"
          }
        },
        "23213a1694ab4887bedb6be218cb915e": {
          "model_module": "@jupyter-widgets/controls",
          "model_name": "HTMLModel",
          "state": {
            "_view_name": "HTMLView",
            "style": "IPY_MODEL_2056cc94593a43fc9e7c74b94158c0b1",
            "_dom_classes": [],
            "description": "",
            "_model_name": "HTMLModel",
            "placeholder": "​",
            "_view_module": "@jupyter-widgets/controls",
            "_model_module_version": "1.5.0",
            "value": " 150/150 [00:00&lt;00:00, 822B/s]",
            "_view_count": null,
            "_view_module_version": "1.5.0",
            "description_tooltip": null,
            "_model_module": "@jupyter-widgets/controls",
            "layout": "IPY_MODEL_6776873a2237423bb5742add3c35e03c"
          }
        },
        "cc1e95c0d70342c88c6db79497f1273c": {
          "model_module": "@jupyter-widgets/controls",
          "model_name": "ProgressStyleModel",
          "state": {
            "_view_name": "StyleView",
            "_model_name": "ProgressStyleModel",
            "description_width": "initial",
            "_view_module": "@jupyter-widgets/base",
            "_model_module_version": "1.5.0",
            "_view_count": null,
            "_view_module_version": "1.2.0",
            "bar_color": null,
            "_model_module": "@jupyter-widgets/controls"
          }
        },
        "14377fe0f7c44d52916410fca0e10fb7": {
          "model_module": "@jupyter-widgets/base",
          "model_name": "LayoutModel",
          "state": {
            "_view_name": "LayoutView",
            "grid_template_rows": null,
            "right": null,
            "justify_content": null,
            "_view_module": "@jupyter-widgets/base",
            "overflow": null,
            "_model_module_version": "1.2.0",
            "_view_count": null,
            "flex_flow": null,
            "width": null,
            "min_width": null,
            "border": null,
            "align_items": null,
            "bottom": null,
            "_model_module": "@jupyter-widgets/base",
            "top": null,
            "grid_column": null,
            "overflow_y": null,
            "overflow_x": null,
            "grid_auto_flow": null,
            "grid_area": null,
            "grid_template_columns": null,
            "flex": null,
            "_model_name": "LayoutModel",
            "justify_items": null,
            "grid_row": null,
            "max_height": null,
            "align_content": null,
            "visibility": null,
            "align_self": null,
            "height": null,
            "min_height": null,
            "padding": null,
            "grid_auto_rows": null,
            "grid_gap": null,
            "max_width": null,
            "order": null,
            "_view_module_version": "1.2.0",
            "grid_template_areas": null,
            "object_position": null,
            "object_fit": null,
            "grid_auto_columns": null,
            "margin": null,
            "display": null,
            "left": null
          }
        },
        "2056cc94593a43fc9e7c74b94158c0b1": {
          "model_module": "@jupyter-widgets/controls",
          "model_name": "DescriptionStyleModel",
          "state": {
            "_view_name": "StyleView",
            "_model_name": "DescriptionStyleModel",
            "description_width": "",
            "_view_module": "@jupyter-widgets/base",
            "_model_module_version": "1.5.0",
            "_view_count": null,
            "_view_module_version": "1.2.0",
            "_model_module": "@jupyter-widgets/controls"
          }
        },
        "6776873a2237423bb5742add3c35e03c": {
          "model_module": "@jupyter-widgets/base",
          "model_name": "LayoutModel",
          "state": {
            "_view_name": "LayoutView",
            "grid_template_rows": null,
            "right": null,
            "justify_content": null,
            "_view_module": "@jupyter-widgets/base",
            "overflow": null,
            "_model_module_version": "1.2.0",
            "_view_count": null,
            "flex_flow": null,
            "width": null,
            "min_width": null,
            "border": null,
            "align_items": null,
            "bottom": null,
            "_model_module": "@jupyter-widgets/base",
            "top": null,
            "grid_column": null,
            "overflow_y": null,
            "overflow_x": null,
            "grid_auto_flow": null,
            "grid_area": null,
            "grid_template_columns": null,
            "flex": null,
            "_model_name": "LayoutModel",
            "justify_items": null,
            "grid_row": null,
            "max_height": null,
            "align_content": null,
            "visibility": null,
            "align_self": null,
            "height": null,
            "min_height": null,
            "padding": null,
            "grid_auto_rows": null,
            "grid_gap": null,
            "max_width": null,
            "order": null,
            "_view_module_version": "1.2.0",
            "grid_template_areas": null,
            "object_position": null,
            "object_fit": null,
            "grid_auto_columns": null,
            "margin": null,
            "display": null,
            "left": null
          }
        },
        "a353adb651ac4caf94456c73110277a4": {
          "model_module": "@jupyter-widgets/controls",
          "model_name": "HBoxModel",
          "state": {
            "_view_name": "HBoxView",
            "_dom_classes": [],
            "_model_name": "HBoxModel",
            "_view_module": "@jupyter-widgets/controls",
            "_model_module_version": "1.5.0",
            "_view_count": null,
            "_view_module_version": "1.5.0",
            "box_style": "",
            "layout": "IPY_MODEL_601c93d2a9f04a8585f36ea8698e5ed9",
            "_model_module": "@jupyter-widgets/controls",
            "children": [
              "IPY_MODEL_e4977d00ba0c4e56a7612c5507b82860",
              "IPY_MODEL_2d28b1341761437b9a1df1618e2644c8"
            ]
          }
        },
        "601c93d2a9f04a8585f36ea8698e5ed9": {
          "model_module": "@jupyter-widgets/base",
          "model_name": "LayoutModel",
          "state": {
            "_view_name": "LayoutView",
            "grid_template_rows": null,
            "right": null,
            "justify_content": null,
            "_view_module": "@jupyter-widgets/base",
            "overflow": null,
            "_model_module_version": "1.2.0",
            "_view_count": null,
            "flex_flow": null,
            "width": null,
            "min_width": null,
            "border": null,
            "align_items": null,
            "bottom": null,
            "_model_module": "@jupyter-widgets/base",
            "top": null,
            "grid_column": null,
            "overflow_y": null,
            "overflow_x": null,
            "grid_auto_flow": null,
            "grid_area": null,
            "grid_template_columns": null,
            "flex": null,
            "_model_name": "LayoutModel",
            "justify_items": null,
            "grid_row": null,
            "max_height": null,
            "align_content": null,
            "visibility": null,
            "align_self": null,
            "height": null,
            "min_height": null,
            "padding": null,
            "grid_auto_rows": null,
            "grid_gap": null,
            "max_width": null,
            "order": null,
            "_view_module_version": "1.2.0",
            "grid_template_areas": null,
            "object_position": null,
            "object_fit": null,
            "grid_auto_columns": null,
            "margin": null,
            "display": null,
            "left": null
          }
        },
        "e4977d00ba0c4e56a7612c5507b82860": {
          "model_module": "@jupyter-widgets/controls",
          "model_name": "FloatProgressModel",
          "state": {
            "_view_name": "ProgressView",
            "style": "IPY_MODEL_f23435b6fa024278a86a25c71053cfde",
            "_dom_classes": [],
            "description": "Downloading: 100%",
            "_model_name": "FloatProgressModel",
            "bar_style": "success",
            "max": 498676425,
            "_view_module": "@jupyter-widgets/controls",
            "_model_module_version": "1.5.0",
            "value": 498676425,
            "_view_count": null,
            "_view_module_version": "1.5.0",
            "orientation": "horizontal",
            "min": 0,
            "description_tooltip": null,
            "_model_module": "@jupyter-widgets/controls",
            "layout": "IPY_MODEL_f602057e6a2c4a69a409ee802758187e"
          }
        },
        "2d28b1341761437b9a1df1618e2644c8": {
          "model_module": "@jupyter-widgets/controls",
          "model_name": "HTMLModel",
          "state": {
            "_view_name": "HTMLView",
            "style": "IPY_MODEL_f323928ab0304fd8b7964c8a2ddb9c84",
            "_dom_classes": [],
            "description": "",
            "_model_name": "HTMLModel",
            "placeholder": "​",
            "_view_module": "@jupyter-widgets/controls",
            "_model_module_version": "1.5.0",
            "value": " 499M/499M [00:13&lt;00:00, 37.6MB/s]",
            "_view_count": null,
            "_view_module_version": "1.5.0",
            "description_tooltip": null,
            "_model_module": "@jupyter-widgets/controls",
            "layout": "IPY_MODEL_d7ccd80c9ec741aab922c405c75624d9"
          }
        },
        "f23435b6fa024278a86a25c71053cfde": {
          "model_module": "@jupyter-widgets/controls",
          "model_name": "ProgressStyleModel",
          "state": {
            "_view_name": "StyleView",
            "_model_name": "ProgressStyleModel",
            "description_width": "initial",
            "_view_module": "@jupyter-widgets/base",
            "_model_module_version": "1.5.0",
            "_view_count": null,
            "_view_module_version": "1.2.0",
            "bar_color": null,
            "_model_module": "@jupyter-widgets/controls"
          }
        },
        "f602057e6a2c4a69a409ee802758187e": {
          "model_module": "@jupyter-widgets/base",
          "model_name": "LayoutModel",
          "state": {
            "_view_name": "LayoutView",
            "grid_template_rows": null,
            "right": null,
            "justify_content": null,
            "_view_module": "@jupyter-widgets/base",
            "overflow": null,
            "_model_module_version": "1.2.0",
            "_view_count": null,
            "flex_flow": null,
            "width": null,
            "min_width": null,
            "border": null,
            "align_items": null,
            "bottom": null,
            "_model_module": "@jupyter-widgets/base",
            "top": null,
            "grid_column": null,
            "overflow_y": null,
            "overflow_x": null,
            "grid_auto_flow": null,
            "grid_area": null,
            "grid_template_columns": null,
            "flex": null,
            "_model_name": "LayoutModel",
            "justify_items": null,
            "grid_row": null,
            "max_height": null,
            "align_content": null,
            "visibility": null,
            "align_self": null,
            "height": null,
            "min_height": null,
            "padding": null,
            "grid_auto_rows": null,
            "grid_gap": null,
            "max_width": null,
            "order": null,
            "_view_module_version": "1.2.0",
            "grid_template_areas": null,
            "object_position": null,
            "object_fit": null,
            "grid_auto_columns": null,
            "margin": null,
            "display": null,
            "left": null
          }
        },
        "f323928ab0304fd8b7964c8a2ddb9c84": {
          "model_module": "@jupyter-widgets/controls",
          "model_name": "DescriptionStyleModel",
          "state": {
            "_view_name": "StyleView",
            "_model_name": "DescriptionStyleModel",
            "description_width": "",
            "_view_module": "@jupyter-widgets/base",
            "_model_module_version": "1.5.0",
            "_view_count": null,
            "_view_module_version": "1.2.0",
            "_model_module": "@jupyter-widgets/controls"
          }
        },
        "d7ccd80c9ec741aab922c405c75624d9": {
          "model_module": "@jupyter-widgets/base",
          "model_name": "LayoutModel",
          "state": {
            "_view_name": "LayoutView",
            "grid_template_rows": null,
            "right": null,
            "justify_content": null,
            "_view_module": "@jupyter-widgets/base",
            "overflow": null,
            "_model_module_version": "1.2.0",
            "_view_count": null,
            "flex_flow": null,
            "width": null,
            "min_width": null,
            "border": null,
            "align_items": null,
            "bottom": null,
            "_model_module": "@jupyter-widgets/base",
            "top": null,
            "grid_column": null,
            "overflow_y": null,
            "overflow_x": null,
            "grid_auto_flow": null,
            "grid_area": null,
            "grid_template_columns": null,
            "flex": null,
            "_model_name": "LayoutModel",
            "justify_items": null,
            "grid_row": null,
            "max_height": null,
            "align_content": null,
            "visibility": null,
            "align_self": null,
            "height": null,
            "min_height": null,
            "padding": null,
            "grid_auto_rows": null,
            "grid_gap": null,
            "max_width": null,
            "order": null,
            "_view_module_version": "1.2.0",
            "grid_template_areas": null,
            "object_position": null,
            "object_fit": null,
            "grid_auto_columns": null,
            "margin": null,
            "display": null,
            "left": null
          }
        }
      }
    }
  },
  "cells": [
    {
      "cell_type": "markdown",
      "metadata": {
        "id": "view-in-github",
        "colab_type": "text"
      },
      "source": [
        "<a href=\"https://colab.research.google.com/github/saurabhbarge/CE888-7-SP/blob/main/TweetEval_Assignment2/Irony.ipynb\" target=\"_parent\"><img src=\"https://colab.research.google.com/assets/colab-badge.svg\" alt=\"Open In Colab\"/></a>"
      ]
    },
    {
      "cell_type": "markdown",
      "metadata": {
        "id": "qCl1jDfFEJOm"
      },
      "source": [
        ""
      ]
    },
    {
      "cell_type": "markdown",
      "metadata": {
        "id": "rS1bOO7or3TF"
      },
      "source": [
        "**Importing all the Libraries**"
      ]
    },
    {
      "cell_type": "code",
      "metadata": {
        "id": "48eJjHIeFr_m"
      },
      "source": [
        "import numpy as np\n",
        "import pandas as pd\n",
        "import nltk\n",
        "from nltk.corpus import stopwords\n",
        "from nltk.tokenize import word_tokenize\n",
        "from nltk.stem.porter import PorterStemmer\n",
        "from nltk.stem import WordNetLemmatizer\n",
        "from sklearn.feature_extraction.text import CountVectorizer, TfidfVectorizer\n",
        "from sklearn.metrics import f1_score\n",
        "from sklearn.ensemble import RandomForestClassifier\n",
        "from sklearn.model_selection import GridSearchCV\n",
        "from sklearn.metrics import accuracy_score\n",
        "import re\n",
        "import string\n",
        "from wordcloud import WordCloud\n",
        "from matplotlib import pyplot as plt \n",
        "import tensorflow as tf\n",
        "%matplotlib inline\n",
        "import seaborn as sns"
      ],
      "execution_count": 50,
      "outputs": []
    },
    {
      "cell_type": "code",
      "metadata": {
        "colab": {
          "base_uri": "https://localhost:8080/"
        },
        "id": "Ez3SfR14cNlP",
        "outputId": "85296581-997d-4ecb-edb9-15eb4fcfb34f"
      },
      "source": [
        "!pip install transformers"
      ],
      "execution_count": 2,
      "outputs": [
        {
          "output_type": "stream",
          "text": [
            "Collecting transformers\n",
            "\u001b[?25l  Downloading https://files.pythonhosted.org/packages/d8/b2/57495b5309f09fa501866e225c84532d1fd89536ea62406b2181933fb418/transformers-4.5.1-py3-none-any.whl (2.1MB)\n",
            "\u001b[K     |████████████████████████████████| 2.1MB 19.2MB/s \n",
            "\u001b[?25hRequirement already satisfied: importlib-metadata; python_version < \"3.8\" in /usr/local/lib/python3.7/dist-packages (from transformers) (3.10.1)\n",
            "Requirement already satisfied: tqdm>=4.27 in /usr/local/lib/python3.7/dist-packages (from transformers) (4.41.1)\n",
            "Collecting sacremoses\n",
            "\u001b[?25l  Downloading https://files.pythonhosted.org/packages/75/ee/67241dc87f266093c533a2d4d3d69438e57d7a90abb216fa076e7d475d4a/sacremoses-0.0.45-py3-none-any.whl (895kB)\n",
            "\u001b[K     |████████████████████████████████| 901kB 35.5MB/s \n",
            "\u001b[?25hRequirement already satisfied: requests in /usr/local/lib/python3.7/dist-packages (from transformers) (2.23.0)\n",
            "Collecting tokenizers<0.11,>=0.10.1\n",
            "\u001b[?25l  Downloading https://files.pythonhosted.org/packages/ae/04/5b870f26a858552025a62f1649c20d29d2672c02ff3c3fb4c688ca46467a/tokenizers-0.10.2-cp37-cp37m-manylinux2010_x86_64.whl (3.3MB)\n",
            "\u001b[K     |████████████████████████████████| 3.3MB 46.0MB/s \n",
            "\u001b[?25hRequirement already satisfied: filelock in /usr/local/lib/python3.7/dist-packages (from transformers) (3.0.12)\n",
            "Requirement already satisfied: regex!=2019.12.17 in /usr/local/lib/python3.7/dist-packages (from transformers) (2019.12.20)\n",
            "Requirement already satisfied: numpy>=1.17 in /usr/local/lib/python3.7/dist-packages (from transformers) (1.19.5)\n",
            "Requirement already satisfied: packaging in /usr/local/lib/python3.7/dist-packages (from transformers) (20.9)\n",
            "Requirement already satisfied: zipp>=0.5 in /usr/local/lib/python3.7/dist-packages (from importlib-metadata; python_version < \"3.8\"->transformers) (3.4.1)\n",
            "Requirement already satisfied: typing-extensions>=3.6.4; python_version < \"3.8\" in /usr/local/lib/python3.7/dist-packages (from importlib-metadata; python_version < \"3.8\"->transformers) (3.7.4.3)\n",
            "Requirement already satisfied: joblib in /usr/local/lib/python3.7/dist-packages (from sacremoses->transformers) (1.0.1)\n",
            "Requirement already satisfied: click in /usr/local/lib/python3.7/dist-packages (from sacremoses->transformers) (7.1.2)\n",
            "Requirement already satisfied: six in /usr/local/lib/python3.7/dist-packages (from sacremoses->transformers) (1.15.0)\n",
            "Requirement already satisfied: chardet<4,>=3.0.2 in /usr/local/lib/python3.7/dist-packages (from requests->transformers) (3.0.4)\n",
            "Requirement already satisfied: urllib3!=1.25.0,!=1.25.1,<1.26,>=1.21.1 in /usr/local/lib/python3.7/dist-packages (from requests->transformers) (1.24.3)\n",
            "Requirement already satisfied: certifi>=2017.4.17 in /usr/local/lib/python3.7/dist-packages (from requests->transformers) (2020.12.5)\n",
            "Requirement already satisfied: idna<3,>=2.5 in /usr/local/lib/python3.7/dist-packages (from requests->transformers) (2.10)\n",
            "Requirement already satisfied: pyparsing>=2.0.2 in /usr/local/lib/python3.7/dist-packages (from packaging->transformers) (2.4.7)\n",
            "Installing collected packages: sacremoses, tokenizers, transformers\n",
            "Successfully installed sacremoses-0.0.45 tokenizers-0.10.2 transformers-4.5.1\n"
          ],
          "name": "stdout"
        }
      ]
    },
    {
      "cell_type": "code",
      "metadata": {
        "id": "14Z9Fh69cHs7"
      },
      "source": [
        "from transformers import AutoModelForSequenceClassification\n",
        "from transformers import TFAutoModelForSequenceClassification\n",
        "from transformers import AutoTokenizer\n",
        "import numpy as np\n",
        "from scipy.special import softmax\n",
        "import csv\n",
        "import urllib.request"
      ],
      "execution_count": 3,
      "outputs": []
    },
    {
      "cell_type": "code",
      "metadata": {
        "id": "pHrvaxz4b0am",
        "colab": {
          "base_uri": "https://localhost:8080/"
        },
        "outputId": "7cca8089-79fb-4436-96a5-db03ae908de0"
      },
      "source": [
        "nltk.download('stopwords')\n",
        "nltk.download('punkt')\n",
        "nltk.download('wordnet')"
      ],
      "execution_count": 4,
      "outputs": [
        {
          "output_type": "stream",
          "text": [
            "[nltk_data] Downloading package stopwords to /root/nltk_data...\n",
            "[nltk_data]   Unzipping corpora/stopwords.zip.\n",
            "[nltk_data] Downloading package punkt to /root/nltk_data...\n",
            "[nltk_data]   Unzipping tokenizers/punkt.zip.\n",
            "[nltk_data] Downloading package wordnet to /root/nltk_data...\n",
            "[nltk_data]   Unzipping corpora/wordnet.zip.\n"
          ],
          "name": "stdout"
        },
        {
          "output_type": "execute_result",
          "data": {
            "text/plain": [
              "True"
            ]
          },
          "metadata": {
            "tags": []
          },
          "execution_count": 4
        }
      ]
    },
    {
      "cell_type": "code",
      "metadata": {
        "id": "X_pDb0vtxssU"
      },
      "source": [
        "stop_words = list(set(stopwords.words('english'))) # list of stop words"
      ],
      "execution_count": 5,
      "outputs": []
    },
    {
      "cell_type": "code",
      "metadata": {
        "id": "L-vpJVu3lhK1"
      },
      "source": [
        "stemmer = PorterStemmer() # creating stemmer object"
      ],
      "execution_count": 6,
      "outputs": []
    },
    {
      "cell_type": "code",
      "metadata": {
        "id": "vuz-lnSCoKCx"
      },
      "source": [
        "lemmatizer = WordNetLemmatizer() # creating lemmatizer object"
      ],
      "execution_count": 7,
      "outputs": []
    },
    {
      "cell_type": "markdown",
      "metadata": {
        "id": "j-eubP_wtImN"
      },
      "source": [
        "**Pre-processing Function includes the following:**\n",
        "**-removes punctuations**\n",
        "**,removes digits**\n",
        "**,removes word 'user' which is frequently used in the datasets**\n",
        "**,removes stopwords**\n",
        "**,performed stemming**\n",
        "**,performed lemmatization**"
      ]
    },
    {
      "cell_type": "code",
      "metadata": {
        "id": "olfLm6aoxDmS"
      },
      "source": [
        "def pre_processing(text):\n",
        "    text  = \"\".join([char for char in text if char not in string.punctuation])\n",
        "    text = re.sub('[0-9]+', '', text)\n",
        "    text = re.sub('@user','',text)\n",
        "    text = ' '.join([x for x in word_tokenize(text) if x not in stop_words])\n",
        "    text = ' '.join([stemmer.stem(x) for x in word_tokenize(text)])\n",
        "    # text = ' '.join([lemmatizer.lemmatize(x) for x in word_tokenize(text)])\n",
        "    return text"
      ],
      "execution_count": 8,
      "outputs": []
    },
    {
      "cell_type": "markdown",
      "metadata": {
        "id": "euPkciO7HsG8"
      },
      "source": [
        "**Function for removing emojis**"
      ]
    },
    {
      "cell_type": "code",
      "metadata": {
        "id": "jmWwhOfx7ESh"
      },
      "source": [
        "def remove_emoji(string):\n",
        "    emoji_pattern = re.compile(\"[\"\n",
        "                           u\"\\U0001F600-\\U0001F64F\"  # emoticons\n",
        "                           u\"\\U0001F300-\\U0001F5FF\"  # symbols & pictographs\n",
        "                           u\"\\U0001F680-\\U0001F6FF\"  # transport & map symbols\n",
        "                           u\"\\U0001F1E0-\\U0001F1FF\"  # flags (iOS)\n",
        "                           u\"\\U00002702-\\U000027B0\"\n",
        "                           u\"\\U000024C2-\\U0001F251\"\n",
        "                           \"]+\", flags=re.UNICODE)\n",
        "    return emoji_pattern.sub(r'', string)"
      ],
      "execution_count": 9,
      "outputs": []
    },
    {
      "cell_type": "code",
      "metadata": {
        "id": "U5bczb58ap5P"
      },
      "source": [
        "def dataset_create(filepath_text,filepath_labels):\n",
        "    with open(filepath_text) as data:\n",
        "        read_text = data.read()\n",
        "\n",
        "    with open(filepath_labels) as data:\n",
        "        read_labels = data.read()   \n",
        "    \n",
        "    read_text = read_text.split(\"\\n\")\n",
        "    read_labels = read_labels.split(\"\\n\")\n",
        "    read_text = [x.lower() for x in read_text]  \n",
        "    \n",
        "    df = pd.DataFrame({'Text':read_text,'Labels':read_labels})\n",
        "    return df"
      ],
      "execution_count": 10,
      "outputs": []
    },
    {
      "cell_type": "code",
      "metadata": {
        "id": "q6vGwkaqHjJ-"
      },
      "source": [
        "train_irony = dataset_create(\"/content/drive/MyDrive/irony/train_text.txt\",\"/content/drive/MyDrive/irony/train_labels.txt\")"
      ],
      "execution_count": 11,
      "outputs": []
    },
    {
      "cell_type": "code",
      "metadata": {
        "id": "nMEXwNmwPGMd"
      },
      "source": [
        "val_irony = dataset_create(\"/content/drive/MyDrive/irony/val_text.txt\",\"/content/drive/MyDrive/irony/val_labels.txt\")"
      ],
      "execution_count": 12,
      "outputs": []
    },
    {
      "cell_type": "code",
      "metadata": {
        "id": "GuVw0u7mOeYY"
      },
      "source": [
        "test_irony = dataset_create(\"/content/drive/MyDrive/irony/test_text.txt\",\"/content/drive/MyDrive/irony/test_labels.txt\")"
      ],
      "execution_count": 13,
      "outputs": []
    },
    {
      "cell_type": "code",
      "metadata": {
        "id": "OaPEVMaXHjCT"
      },
      "source": [
        "# cleaning the train data\n",
        "train_irony['Text'] = train_irony['Text'].apply(lambda x: pre_processing(x))\n",
        "train_irony['Text'] = train_irony['Text'].apply(lambda x: remove_emoji(x))\n",
        "\n",
        "#cleaning the validation data\n",
        "val_irony['Text'] = val_irony['Text'].apply(lambda x: pre_processing(x))\n",
        "val_irony['Text'] = val_irony['Text'].apply(lambda x: remove_emoji(x))\n",
        "\n",
        "#cleaning the test data\n",
        "test_irony['Text'] = test_irony['Text'].apply(lambda x: pre_processing(x))\n",
        "test_irony['Text'] = test_irony['Text'].apply(lambda x: remove_emoji(x))"
      ],
      "execution_count": 14,
      "outputs": []
    },
    {
      "cell_type": "markdown",
      "metadata": {
        "id": "g_O7qP1LyUh2"
      },
      "source": [
        "**Mapping Labels**"
      ]
    },
    {
      "cell_type": "code",
      "metadata": {
        "id": "ef1EJdpaxyZn"
      },
      "source": [
        "# df_irony['Irony_labels'] = df_irony['Irony_labels'].map({'0': 'non_irony', '1': 'irony'})"
      ],
      "execution_count": 15,
      "outputs": []
    },
    {
      "cell_type": "markdown",
      "metadata": {
        "id": "wdLdyDbFG2tk"
      },
      "source": [
        "**Checking the count of labels**"
      ]
    },
    {
      "cell_type": "code",
      "metadata": {
        "colab": {
          "base_uri": "https://localhost:8080/",
          "height": 296
        },
        "id": "d7vJ8Pv3c0Zr",
        "outputId": "eccaacef-ffbd-4917-b2db-9d6919f11391"
      },
      "source": [
        "sns.countplot(x=\"Labels\", data=train_irony) "
      ],
      "execution_count": 16,
      "outputs": [
        {
          "output_type": "execute_result",
          "data": {
            "text/plain": [
              "<matplotlib.axes._subplots.AxesSubplot at 0x7fc88f0e0710>"
            ]
          },
          "metadata": {
            "tags": []
          },
          "execution_count": 16
        },
        {
          "output_type": "display_data",
          "data": {
            "image/png": "[encoded data removed]",
            "text/plain": [
              "<Figure size 432x288 with 1 Axes>"
            ]
          },
          "metadata": {
            "tags": [],
            "needs_background": "light"
          }
        }
      ]
    },
    {
      "cell_type": "markdown",
      "metadata": {
        "id": "kGg02Eg7Gxzi"
      },
      "source": [
        "**Checking for Missing Values**"
      ]
    },
    {
      "cell_type": "code",
      "metadata": {
        "colab": {
          "base_uri": "https://localhost:8080/"
        },
        "id": "uEBR7ee_frZs",
        "outputId": "97526281-17c6-4786-fc46-c2197e05d912"
      },
      "source": [
        "train_irony.isna().sum()"
      ],
      "execution_count": 17,
      "outputs": [
        {
          "output_type": "execute_result",
          "data": {
            "text/plain": [
              "Text      0\n",
              "Labels    0\n",
              "dtype: int64"
            ]
          },
          "metadata": {
            "tags": []
          },
          "execution_count": 17
        }
      ]
    },
    {
      "cell_type": "markdown",
      "metadata": {
        "id": "6UpvDAWfGpZ0"
      },
      "source": [
        "**WORD CLOUD**"
      ]
    },
    {
      "cell_type": "code",
      "metadata": {
        "colab": {
          "base_uri": "https://localhost:8080/",
          "height": 366
        },
        "id": "dwsbLobp6X9w",
        "outputId": "3c5cd70c-0c65-446b-8f51-96a3f7f128a3"
      },
      "source": [
        "wordcloud = WordCloud(width=1600, height=800, max_font_size=200).generate(str(train_irony['Text']))\n",
        "plt.figure(figsize=(12,10))\n",
        "plt.imshow(wordcloud, interpolation='bilinear')\n",
        "plt.axis(\"off\")\n",
        "plt.show()"
      ],
      "execution_count": 18,
      "outputs": [
        {
          "output_type": "display_data",
          "data": {
            "image/png": "[encoded data removed]",
            "text/plain": [
              "<Figure size 864x720 with 1 Axes>"
            ]
          },
          "metadata": {
            "tags": [],
            "needs_background": "light"
          }
        }
      ]
    },
    {
      "cell_type": "markdown",
      "metadata": {
        "id": "pHstbfiLGkuA"
      },
      "source": [
        "**Using CountVectorizer and TF-IDF Vectorizer for translating text data into numeric form acceptable by the model**"
      ]
    },
    {
      "cell_type": "code",
      "metadata": {
        "id": "TZQCcFDCltN6"
      },
      "source": [
        "cv = CountVectorizer(stop_words='english',max_features=10000)\n",
        "cv_train_features = cv.fit_transform(train_irony['Text'])"
      ],
      "execution_count": 19,
      "outputs": []
    },
    {
      "cell_type": "code",
      "metadata": {
        "id": "aZkr-N-Lqypa"
      },
      "source": [
        "tf1 = TfidfVectorizer(min_df=0.0, max_df=1.0, ngram_range=(1,2),sublinear_tf=True)\n",
        "tf_train_features = tf1.fit_transform(train_irony['Text'])"
      ],
      "execution_count": 20,
      "outputs": []
    },
    {
      "cell_type": "code",
      "metadata": {
        "id": "uU5MKp9wbIoI"
      },
      "source": [
        "cv = CountVectorizer(stop_words='english',max_features=10000)\n",
        "cv_test_features = cv.fit_transform(test_irony['Text'])\n",
        "\n",
        "tf1 = TfidfVectorizer(min_df=0.0, max_df=1.0, ngram_range=(1,2),sublinear_tf=True)\n",
        "tf_test_features = tf1.fit_transform(test_irony['Text'])"
      ],
      "execution_count": 22,
      "outputs": []
    },
    {
      "cell_type": "markdown",
      "metadata": {
        "id": "7WZZEPFmXYqA"
      },
      "source": [
        "**MODELLING**"
      ]
    },
    {
      "cell_type": "markdown",
      "metadata": {
        "id": "tjLpTm9tbeiq"
      },
      "source": [
        "**SVM**"
      ]
    },
    {
      "cell_type": "code",
      "metadata": {
        "id": "S5dPzUM2Ozj8"
      },
      "source": [
        "from sklearn import svm"
      ],
      "execution_count": 23,
      "outputs": []
    },
    {
      "cell_type": "code",
      "metadata": {
        "id": "Y-z3Mvplq3am"
      },
      "source": [
        "clf = svm.SVC()"
      ],
      "execution_count": 24,
      "outputs": []
    },
    {
      "cell_type": "code",
      "metadata": {
        "id": "3OwTxrZhmPAn"
      },
      "source": [
        "param_grid = {'C': [0.1,1, 10], 'gamma': [1,0.1,0.01,0.001],'kernel': ['rbf', 'poly', 'sigmoid']} "
      ],
      "execution_count": 25,
      "outputs": []
    },
    {
      "cell_type": "code",
      "metadata": {
        "id": "vSUkcUDeOzgs"
      },
      "source": [
        "svm_grid = GridSearchCV(svm.SVC(), param_grid, refit = True) # hyperparameter tuning using gridsearchcv"
      ],
      "execution_count": 26,
      "outputs": []
    },
    {
      "cell_type": "code",
      "metadata": {
        "id": "019keOxTOzdx"
      },
      "source": [
        "X_train = tf1.transform(train_irony[\"Text\"])\n",
        "y_train = train_irony[\"Labels\"]\n",
        "\n",
        "X_test = tf1.transform(test_irony[\"Text\"])\n",
        "y_test = test_irony[\"Labels\"]"
      ],
      "execution_count": 27,
      "outputs": []
    },
    {
      "cell_type": "code",
      "metadata": {
        "colab": {
          "base_uri": "https://localhost:8080/"
        },
        "id": "l3ZHBfl0Ozan",
        "outputId": "c2ad9c31-d53e-4a96-b987-7ce39625ff80"
      },
      "source": [
        "svm_grid.fit(X_train,y_train)"
      ],
      "execution_count": 28,
      "outputs": [
        {
          "output_type": "stream",
          "text": [
            "/usr/local/lib/python3.7/dist-packages/sklearn/model_selection/_split.py:667: UserWarning: The least populated class in y has only 1 members, which is less than n_splits=5.\n",
            "  % (min_groups, self.n_splits)), UserWarning)\n"
          ],
          "name": "stderr"
        },
        {
          "output_type": "execute_result",
          "data": {
            "text/plain": [
              "GridSearchCV(cv=None, error_score=nan,\n",
              "             estimator=SVC(C=1.0, break_ties=False, cache_size=200,\n",
              "                           class_weight=None, coef0=0.0,\n",
              "                           decision_function_shape='ovr', degree=3,\n",
              "                           gamma='scale', kernel='rbf', max_iter=-1,\n",
              "                           probability=False, random_state=None, shrinking=True,\n",
              "                           tol=0.001, verbose=False),\n",
              "             iid='deprecated', n_jobs=None,\n",
              "             param_grid={'C': [0.1, 1, 10], 'gamma': [1, 0.1, 0.01, 0.001],\n",
              "                         'kernel': ['rbf', 'poly', 'sigmoid']},\n",
              "             pre_dispatch='2*n_jobs', refit=True, return_train_score=False,\n",
              "             scoring=None, verbose=0)"
            ]
          },
          "metadata": {
            "tags": []
          },
          "execution_count": 28
        }
      ]
    },
    {
      "cell_type": "code",
      "metadata": {
        "colab": {
          "base_uri": "https://localhost:8080/"
        },
        "id": "TW-xbSkBor0H",
        "outputId": "4fed7b8f-0417-4ba4-ed47-7a209c969a1c"
      },
      "source": [
        "print(svm_grid.best_params_)"
      ],
      "execution_count": 29,
      "outputs": [
        {
          "output_type": "stream",
          "text": [
            "{'C': 10, 'gamma': 0.1, 'kernel': 'sigmoid'}\n"
          ],
          "name": "stdout"
        }
      ]
    },
    {
      "cell_type": "code",
      "metadata": {
        "id": "lgcSlzCgo3k6"
      },
      "source": [
        "clf1 = svm.SVC(C=10,gamma=0.1,kernel='sigmoid')"
      ],
      "execution_count": 30,
      "outputs": []
    },
    {
      "cell_type": "code",
      "metadata": {
        "colab": {
          "base_uri": "https://localhost:8080/"
        },
        "id": "nzzi5NZ5rDoU",
        "outputId": "d6d9d47e-874f-4855-fe78-3032b4728003"
      },
      "source": [
        "clf1.fit(X_train,y_train)"
      ],
      "execution_count": 31,
      "outputs": [
        {
          "output_type": "execute_result",
          "data": {
            "text/plain": [
              "SVC(C=10, break_ties=False, cache_size=200, class_weight=None, coef0=0.0,\n",
              "    decision_function_shape='ovr', degree=3, gamma=0.1, kernel='sigmoid',\n",
              "    max_iter=-1, probability=False, random_state=None, shrinking=True,\n",
              "    tol=0.001, verbose=False)"
            ]
          },
          "metadata": {
            "tags": []
          },
          "execution_count": 31
        }
      ]
    },
    {
      "cell_type": "code",
      "metadata": {
        "id": "rMTrtMLIOzXw"
      },
      "source": [
        "preds = clf1.predict(X_test)"
      ],
      "execution_count": 32,
      "outputs": []
    },
    {
      "cell_type": "code",
      "metadata": {
        "colab": {
          "base_uri": "https://localhost:8080/"
        },
        "id": "ZZvnU3vMOzVJ",
        "outputId": "327b2e94-709f-4257-ca27-58383576e9ef"
      },
      "source": [
        "print(\"F1-score:\",f1_score(preds, y_test, average='macro'))\n",
        "print(\"Accuracy:\",accuracy_score(preds,y_test))"
      ],
      "execution_count": 68,
      "outputs": [
        {
          "output_type": "stream",
          "text": [
            "F1-score: 0.5239554044100913\n",
            "Accuracy: 0.6203821656050955\n"
          ],
          "name": "stdout"
        }
      ]
    },
    {
      "cell_type": "code",
      "metadata": {
        "id": "KDSfGh0AnDgK"
      },
      "source": [
        ""
      ],
      "execution_count": 33,
      "outputs": []
    },
    {
      "cell_type": "markdown",
      "metadata": {
        "id": "onUkijTTnFEX"
      },
      "source": [
        "**FASTTEXT**"
      ]
    },
    {
      "cell_type": "code",
      "metadata": {
        "id": "t2M4iWV1oLEz",
        "colab": {
          "base_uri": "https://localhost:8080/"
        },
        "outputId": "5ef04582-c816-4616-81ca-cfc6abe238d4"
      },
      "source": [
        "!pip install fasttext\n",
        "import fasttext"
      ],
      "execution_count": 34,
      "outputs": [
        {
          "output_type": "stream",
          "text": [
            "Collecting fasttext\n",
            "\u001b[?25l  Downloading https://files.pythonhosted.org/packages/f8/85/e2b368ab6d3528827b147fdb814f8189acc981a4bc2f99ab894650e05c40/fasttext-0.9.2.tar.gz (68kB)\n",
            "\r\u001b[K     |████▊                           | 10kB 12.7MB/s eta 0:00:01\r\u001b[K     |█████████▌                      | 20kB 16.3MB/s eta 0:00:01\r\u001b[K     |██████████████▎                 | 30kB 16.8MB/s eta 0:00:01\r\u001b[K     |███████████████████             | 40kB 19.5MB/s eta 0:00:01\r\u001b[K     |███████████████████████▉        | 51kB 21.1MB/s eta 0:00:01\r\u001b[K     |████████████████████████████▋   | 61kB 16.0MB/s eta 0:00:01\r\u001b[K     |████████████████████████████████| 71kB 3.9MB/s \n",
            "\u001b[?25hRequirement already satisfied: pybind11>=2.2 in /usr/local/lib/python3.7/dist-packages (from fasttext) (2.6.2)\n",
            "Requirement already satisfied: setuptools>=0.7.0 in /usr/local/lib/python3.7/dist-packages (from fasttext) (56.0.0)\n",
            "Requirement already satisfied: numpy in /usr/local/lib/python3.7/dist-packages (from fasttext) (1.19.5)\n",
            "Building wheels for collected packages: fasttext\n",
            "  Building wheel for fasttext (setup.py) ... \u001b[?25l\u001b[?25hdone\n",
            "  Created wheel for fasttext: filename=fasttext-0.9.2-cp37-cp37m-linux_x86_64.whl size=3092059 sha256=21030bf1700c1ad1a8ece629d70afe67d466f89e891d104f8d42911162e98373\n",
            "  Stored in directory: /root/.cache/pip/wheels/98/ba/7f/b154944a1cf5a8cee91c154b75231136cc3a3321ab0e30f592\n",
            "Successfully built fasttext\n",
            "Installing collected packages: fasttext\n",
            "Successfully installed fasttext-0.9.2\n"
          ],
          "name": "stdout"
        }
      ]
    },
    {
      "cell_type": "code",
      "metadata": {
        "id": "_z_t9_HynDcR"
      },
      "source": [
        "with open('fasttext_irony_inputs.txt', 'w') as f:  #Converting data to a format accepted by fasttext and storing it in a text file\n",
        "    for each_text, each_label in zip(train_irony['Text'], train_irony['Labels']):\n",
        "        f.writelines(f'__label__{each_label} {each_text}\\n')"
      ],
      "execution_count": 35,
      "outputs": []
    },
    {
      "cell_type": "code",
      "metadata": {
        "id": "d-XBvRr0nDZR"
      },
      "source": [
        "fcl = fasttext.train_supervised('fasttext_irony_inputs.txt', lr=0.01, wordNgrams=2, epoch=100)"
      ],
      "execution_count": 54,
      "outputs": []
    },
    {
      "cell_type": "code",
      "metadata": {
        "colab": {
          "base_uri": "https://localhost:8080/"
        },
        "id": "vli2EjlknDWO",
        "outputId": "86972631-ba87-430a-b1ad-0bd4705be8f7"
      },
      "source": [
        "predictions1 = fcl.predict(test_irony['Text'].to_list())\n",
        "print(predictions1[0])"
      ],
      "execution_count": 55,
      "outputs": [
        {
          "output_type": "stream",
          "text": [
            "[['__label__0'], ['__label__0'], ['__label__0'], ['__label__0'], ['__label__1'], ['__label__1'], ['__label__0'], ['__label__0'], ['__label__0'], ['__label__1'], ['__label__1'], ['__label__1'], ['__label__1'], ['__label__0'], ['__label__0'], ['__label__1'], ['__label__0'], ['__label__0'], ['__label__0'], ['__label__0'], ['__label__1'], ['__label__0'], ['__label__1'], ['__label__1'], ['__label__0'], ['__label__0'], ['__label__1'], ['__label__0'], ['__label__0'], ['__label__0'], ['__label__0'], ['__label__1'], ['__label__1'], ['__label__0'], ['__label__0'], ['__label__0'], ['__label__0'], ['__label__1'], ['__label__1'], ['__label__1'], ['__label__0'], ['__label__1'], ['__label__1'], ['__label__1'], ['__label__1'], ['__label__0'], ['__label__1'], ['__label__0'], ['__label__0'], ['__label__1'], ['__label__1'], ['__label__0'], ['__label__1'], ['__label__1'], ['__label__1'], ['__label__1'], ['__label__0'], ['__label__1'], ['__label__1'], ['__label__0'], ['__label__1'], ['__label__1'], ['__label__1'], ['__label__0'], ['__label__1'], ['__label__0'], ['__label__0'], ['__label__1'], ['__label__0'], ['__label__1'], ['__label__0'], ['__label__1'], ['__label__0'], ['__label__1'], ['__label__0'], ['__label__1'], ['__label__0'], ['__label__0'], ['__label__0'], ['__label__1'], ['__label__0'], ['__label__0'], ['__label__1'], ['__label__1'], ['__label__0'], ['__label__0'], ['__label__1'], ['__label__1'], ['__label__0'], ['__label__1'], ['__label__0'], ['__label__0'], ['__label__0'], ['__label__1'], ['__label__1'], ['__label__1'], ['__label__1'], ['__label__0'], ['__label__1'], ['__label__1'], ['__label__1'], ['__label__0'], ['__label__0'], ['__label__0'], ['__label__0'], ['__label__1'], ['__label__1'], ['__label__0'], ['__label__0'], ['__label__0'], ['__label__1'], ['__label__0'], ['__label__0'], ['__label__0'], ['__label__1'], ['__label__0'], ['__label__0'], ['__label__0'], ['__label__0'], ['__label__1'], ['__label__0'], ['__label__1'], ['__label__1'], ['__label__0'], ['__label__0'], ['__label__0'], ['__label__0'], ['__label__0'], ['__label__1'], ['__label__1'], ['__label__1'], ['__label__1'], ['__label__1'], ['__label__1'], ['__label__0'], ['__label__0'], ['__label__0'], ['__label__0'], ['__label__0'], ['__label__1'], ['__label__0'], ['__label__0'], ['__label__1'], ['__label__1'], ['__label__0'], ['__label__0'], ['__label__1'], ['__label__1'], ['__label__1'], ['__label__1'], ['__label__1'], ['__label__1'], ['__label__0'], ['__label__1'], ['__label__0'], ['__label__1'], ['__label__1'], ['__label__0'], ['__label__0'], ['__label__0'], ['__label__1'], ['__label__0'], ['__label__1'], ['__label__1'], ['__label__1'], ['__label__0'], ['__label__1'], ['__label__0'], ['__label__0'], ['__label__1'], ['__label__1'], ['__label__1'], ['__label__1'], ['__label__1'], ['__label__1'], ['__label__0'], ['__label__0'], ['__label__1'], ['__label__0'], ['__label__1'], ['__label__1'], ['__label__1'], ['__label__0'], ['__label__0'], ['__label__1'], ['__label__1'], ['__label__1'], ['__label__0'], ['__label__1'], ['__label__1'], ['__label__1'], ['__label__0'], ['__label__1'], ['__label__0'], ['__label__1'], ['__label__0'], ['__label__1'], ['__label__1'], ['__label__1'], ['__label__0'], ['__label__0'], ['__label__0'], ['__label__1'], ['__label__0'], ['__label__0'], ['__label__0'], ['__label__0'], ['__label__1'], ['__label__0'], ['__label__0'], ['__label__0'], ['__label__1'], ['__label__1'], ['__label__1'], ['__label__1'], ['__label__0'], ['__label__0'], ['__label__0'], ['__label__1'], ['__label__0'], ['__label__1'], ['__label__0'], ['__label__0'], ['__label__0'], ['__label__0'], ['__label__1'], ['__label__0'], ['__label__1'], ['__label__1'], ['__label__0'], ['__label__0'], ['__label__1'], ['__label__0'], ['__label__1'], ['__label__1'], ['__label__1'], ['__label__1'], ['__label__1'], ['__label__0'], ['__label__1'], ['__label__1'], ['__label__0'], ['__label__1'], ['__label__0'], ['__label__0'], ['__label__0'], ['__label__1'], ['__label__0'], ['__label__1'], ['__label__0'], ['__label__0'], ['__label__0'], ['__label__0'], ['__label__0'], ['__label__1'], ['__label__0'], ['__label__0'], ['__label__0'], ['__label__0'], ['__label__1'], ['__label__0'], ['__label__0'], ['__label__0'], ['__label__0'], ['__label__0'], ['__label__0'], ['__label__1'], ['__label__0'], ['__label__1'], ['__label__1'], ['__label__0'], ['__label__0'], ['__label__1'], ['__label__1'], ['__label__0'], ['__label__1'], ['__label__1'], ['__label__0'], ['__label__1'], ['__label__0'], ['__label__0'], ['__label__1'], ['__label__1'], ['__label__1'], ['__label__0'], ['__label__0'], ['__label__1'], ['__label__0'], ['__label__0'], ['__label__1'], ['__label__1'], ['__label__0'], ['__label__1'], ['__label__0'], ['__label__1'], ['__label__1'], ['__label__1'], ['__label__0'], ['__label__1'], ['__label__0'], ['__label__1'], ['__label__1'], ['__label__1'], ['__label__0'], ['__label__1'], ['__label__1'], ['__label__0'], ['__label__1'], ['__label__0'], ['__label__0'], ['__label__1'], ['__label__1'], ['__label__1'], ['__label__0'], ['__label__0'], ['__label__1'], ['__label__1'], ['__label__0'], ['__label__1'], ['__label__1'], ['__label__1'], ['__label__0'], ['__label__0'], ['__label__0'], ['__label__1'], ['__label__0'], ['__label__1'], ['__label__1'], ['__label__1'], ['__label__1'], ['__label__0'], ['__label__1'], ['__label__0'], ['__label__1'], ['__label__0'], ['__label__0'], ['__label__0'], ['__label__0'], ['__label__0'], ['__label__1'], ['__label__1'], ['__label__0'], ['__label__1'], ['__label__0'], ['__label__0'], ['__label__0'], ['__label__1'], ['__label__1'], ['__label__1'], ['__label__0'], ['__label__0'], ['__label__1'], ['__label__0'], ['__label__0'], ['__label__0'], ['__label__1'], ['__label__1'], ['__label__0'], ['__label__1'], ['__label__0'], ['__label__0'], ['__label__0'], ['__label__0'], ['__label__1'], ['__label__0'], ['__label__0'], ['__label__1'], ['__label__1'], ['__label__0'], ['__label__1'], ['__label__1'], ['__label__0'], ['__label__0'], ['__label__1'], ['__label__1'], ['__label__0'], ['__label__0'], ['__label__0'], ['__label__0'], ['__label__0'], ['__label__0'], ['__label__1'], ['__label__0'], ['__label__1'], ['__label__1'], ['__label__1'], ['__label__0'], ['__label__1'], ['__label__0'], ['__label__0'], ['__label__0'], ['__label__0'], ['__label__0'], ['__label__1'], ['__label__1'], ['__label__1'], ['__label__0'], ['__label__0'], ['__label__1'], ['__label__0'], ['__label__1'], ['__label__0'], ['__label__1'], ['__label__0'], ['__label__1'], ['__label__0'], ['__label__1'], ['__label__1'], ['__label__0'], ['__label__0'], ['__label__1'], ['__label__1'], ['__label__1'], ['__label__1'], ['__label__0'], ['__label__0'], ['__label__0'], ['__label__0'], ['__label__0'], ['__label__0'], ['__label__0'], ['__label__1'], ['__label__1'], ['__label__0'], ['__label__0'], ['__label__0'], ['__label__1'], ['__label__1'], ['__label__0'], ['__label__0'], ['__label__0'], ['__label__0'], ['__label__0'], ['__label__1'], ['__label__1'], ['__label__1'], ['__label__0'], ['__label__0'], ['__label__0'], ['__label__1'], ['__label__1'], ['__label__0'], ['__label__1'], ['__label__0'], ['__label__1'], ['__label__1'], ['__label__0'], ['__label__0'], ['__label__0'], ['__label__1'], ['__label__0'], ['__label__0'], ['__label__0'], ['__label__0'], ['__label__0'], ['__label__1'], ['__label__0'], ['__label__0'], ['__label__1'], ['__label__0'], ['__label__1'], ['__label__1'], ['__label__1'], ['__label__1'], ['__label__1'], ['__label__1'], ['__label__0'], ['__label__1'], ['__label__1'], ['__label__0'], ['__label__0'], ['__label__0'], ['__label__1'], ['__label__1'], ['__label__0'], ['__label__0'], ['__label__0'], ['__label__1'], ['__label__0'], ['__label__0'], ['__label__0'], ['__label__1'], ['__label__1'], ['__label__1'], ['__label__0'], ['__label__1'], ['__label__1'], ['__label__0'], ['__label__0'], ['__label__0'], ['__label__1'], ['__label__0'], ['__label__0'], ['__label__0'], ['__label__1'], ['__label__0'], ['__label__1'], ['__label__1'], ['__label__0'], ['__label__1'], ['__label__1'], ['__label__0'], ['__label__0'], ['__label__1'], ['__label__0'], ['__label__1'], ['__label__1'], ['__label__0'], ['__label__0'], ['__label__0'], ['__label__1'], ['__label__0'], ['__label__1'], ['__label__1'], ['__label__0'], ['__label__1'], ['__label__1'], ['__label__0'], ['__label__1'], ['__label__1'], ['__label__0'], ['__label__0'], ['__label__1'], ['__label__1'], ['__label__0'], ['__label__1'], ['__label__0'], ['__label__0'], ['__label__0'], ['__label__1'], ['__label__1'], ['__label__1'], ['__label__1'], ['__label__1'], ['__label__1'], ['__label__1'], ['__label__1'], ['__label__1'], ['__label__1'], ['__label__0'], ['__label__0'], ['__label__0'], ['__label__0'], ['__label__0'], ['__label__1'], ['__label__0'], ['__label__1'], ['__label__1'], ['__label__0'], ['__label__0'], ['__label__1'], ['__label__0'], ['__label__1'], ['__label__1'], ['__label__1'], ['__label__1'], ['__label__0'], ['__label__1'], ['__label__1'], ['__label__0'], ['__label__0'], ['__label__0'], ['__label__0'], ['__label__1'], ['__label__1'], ['__label__0'], ['__label__0'], ['__label__0'], ['__label__1'], ['__label__1'], ['__label__1'], ['__label__1'], ['__label__0'], ['__label__0'], ['__label__0'], ['__label__1'], ['__label__0'], ['__label__0'], ['__label__1'], ['__label__0'], ['__label__1'], ['__label__1'], ['__label__0'], ['__label__1'], ['__label__0'], ['__label__1'], ['__label__1'], ['__label__1'], ['__label__0'], ['__label__1'], ['__label__1'], ['__label__1'], ['__label__1'], ['__label__1'], ['__label__0'], ['__label__1'], ['__label__0'], ['__label__1'], ['__label__1'], ['__label__0'], ['__label__1'], ['__label__0'], ['__label__1'], ['__label__1'], ['__label__0'], ['__label__0'], ['__label__0'], ['__label__1'], ['__label__1'], ['__label__1'], ['__label__1'], ['__label__0'], ['__label__1'], ['__label__1'], ['__label__1'], ['__label__1'], ['__label__0'], ['__label__0'], ['__label__1'], ['__label__1'], ['__label__0'], ['__label__0'], ['__label__1'], ['__label__1'], ['__label__0'], ['__label__1'], ['__label__1'], ['__label__1'], ['__label__1'], ['__label__1'], ['__label__0'], ['__label__1'], ['__label__0'], ['__label__0'], ['__label__1'], ['__label__1'], ['__label__1'], ['__label__1'], ['__label__0'], ['__label__0'], ['__label__0'], ['__label__0'], ['__label__0'], ['__label__0'], ['__label__1'], ['__label__0'], ['__label__0'], ['__label__0'], ['__label__0'], ['__label__1'], ['__label__1'], ['__label__0'], ['__label__0'], ['__label__1'], ['__label__1'], ['__label__0'], ['__label__0'], ['__label__0'], ['__label__0'], ['__label__1'], ['__label__0'], ['__label__1'], ['__label__0'], ['__label__1'], ['__label__1'], ['__label__1'], ['__label__1'], ['__label__0'], ['__label__1'], ['__label__0'], ['__label__0'], ['__label__1'], ['__label__1'], ['__label__0'], ['__label__1'], ['__label__1'], ['__label__1'], ['__label__1'], ['__label__0'], ['__label__1'], ['__label__1'], ['__label__0'], ['__label__0'], ['__label__1'], ['__label__1'], ['__label__0'], ['__label__0'], ['__label__0'], ['__label__0'], ['__label__1'], ['__label__0'], ['__label__0'], ['__label__0'], ['__label__0'], ['__label__1'], ['__label__0'], ['__label__0'], ['__label__1'], ['__label__0'], ['__label__1'], ['__label__1'], ['__label__1'], ['__label__1'], ['__label__1'], ['__label__0'], ['__label__1'], ['__label__1'], ['__label__1'], ['__label__0'], ['__label__1'], ['__label__1'], ['__label__0'], ['__label__1'], ['__label__0'], ['__label__0'], ['__label__0'], ['__label__0'], ['__label__1'], ['__label__1'], ['__label__1'], ['__label__0'], ['__label__1'], ['__label__0'], ['__label__0'], ['__label__0'], ['__label__1'], ['__label__0'], ['__label__0'], ['__label__1'], ['__label__1'], ['__label__1'], ['__label__1'], ['__label__0'], ['__label__0'], ['__label__1'], ['__label__1'], ['__label__1'], ['__label__0'], ['__label__0'], ['__label__1'], ['__label__1'], ['__label__1'], ['__label__0'], ['__label__0'], ['__label__0'], ['__label__1'], ['__label__0'], ['__label__0'], ['__label__0'], ['__label__1'], ['__label__1'], ['__label__0'], ['__label__0'], ['__label__1'], ['__label__1'], ['__label__0'], ['__label__0'], ['__label__1'], ['__label__0'], ['__label__0'], ['__label__0'], ['__label__0'], ['__label__1'], ['__label__0'], ['__label__0'], ['__label__0'], ['__label__1'], ['__label__0'], ['__label__0'], ['__label__1'], ['__label__1'], ['__label__1'], ['__label__1'], ['__label__0'], ['__label__1'], ['__label__1'], ['__label__1'], ['__label__1'], ['__label__0'], ['__label__0'], ['__label__1'], ['__label__1'], ['__label__1'], ['__label__0'], ['__label__0']]\n"
          ],
          "name": "stdout"
        }
      ]
    },
    {
      "cell_type": "code",
      "metadata": {
        "id": "73K8dH0ZnDTV"
      },
      "source": [
        "def cleanpred_(text): # cleaning the predictions obtained by Fasttext \n",
        "  return text[0].replace(\"__label__\",\"\")"
      ],
      "execution_count": 56,
      "outputs": []
    },
    {
      "cell_type": "code",
      "metadata": {
        "colab": {
          "base_uri": "https://localhost:8080/"
        },
        "id": "sm4yxSMznDQI",
        "outputId": "312dd988-e130-48dc-cf55-c222f6d1da62"
      },
      "source": [
        "fast_preds = map(cleanpred_,predictions1[0])\n",
        "fast_preds = list(fast_preds)  # final predictions of fasttext model after cleaning\n",
        "print(fast_preds) "
      ],
      "execution_count": 57,
      "outputs": [
        {
          "output_type": "stream",
          "text": [
            "['0', '0', '0', '0', '1', '1', '0', '0', '0', '1', '1', '1', '1', '0', '0', '1', '0', '0', '0', '0', '1', '0', '1', '1', '0', '0', '1', '0', '0', '0', '0', '1', '1', '0', '0', '0', '0', '1', '1', '1', '0', '1', '1', '1', '1', '0', '1', '0', '0', '1', '1', '0', '1', '1', '1', '1', '0', '1', '1', '0', '1', '1', '1', '0', '1', '0', '0', '1', '0', '1', '0', '1', '0', '1', '0', '1', '0', '0', '0', '1', '0', '0', '1', '1', '0', '0', '1', '1', '0', '1', '0', '0', '0', '1', '1', '1', '1', '0', '1', '1', '1', '0', '0', '0', '0', '1', '1', '0', '0', '0', '1', '0', '0', '0', '1', '0', '0', '0', '0', '1', '0', '1', '1', '0', '0', '0', '0', '0', '1', '1', '1', '1', '1', '1', '0', '0', '0', '0', '0', '1', '0', '0', '1', '1', '0', '0', '1', '1', '1', '1', '1', '1', '0', '1', '0', '1', '1', '0', '0', '0', '1', '0', '1', '1', '1', '0', '1', '0', '0', '1', '1', '1', '1', '1', '1', '0', '0', '1', '0', '1', '1', '1', '0', '0', '1', '1', '1', '0', '1', '1', '1', '0', '1', '0', '1', '0', '1', '1', '1', '0', '0', '0', '1', '0', '0', '0', '0', '1', '0', '0', '0', '1', '1', '1', '1', '0', '0', '0', '1', '0', '1', '0', '0', '0', '0', '1', '0', '1', '1', '0', '0', '1', '0', '1', '1', '1', '1', '1', '0', '1', '1', '0', '1', '0', '0', '0', '1', '0', '1', '0', '0', '0', '0', '0', '1', '0', '0', '0', '0', '1', '0', '0', '0', '0', '0', '0', '1', '0', '1', '1', '0', '0', '1', '1', '0', '1', '1', '0', '1', '0', '0', '1', '1', '1', '0', '0', '1', '0', '0', '1', '1', '0', '1', '0', '1', '1', '1', '0', '1', '0', '1', '1', '1', '0', '1', '1', '0', '1', '0', '0', '1', '1', '1', '0', '0', '1', '1', '0', '1', '1', '1', '0', '0', '0', '1', '0', '1', '1', '1', '1', '0', '1', '0', '1', '0', '0', '0', '0', '0', '1', '1', '0', '1', '0', '0', '0', '1', '1', '1', '0', '0', '1', '0', '0', '0', '1', '1', '0', '1', '0', '0', '0', '0', '1', '0', '0', '1', '1', '0', '1', '1', '0', '0', '1', '1', '0', '0', '0', '0', '0', '0', '1', '0', '1', '1', '1', '0', '1', '0', '0', '0', '0', '0', '1', '1', '1', '0', '0', '1', '0', '1', '0', '1', '0', '1', '0', '1', '1', '0', '0', '1', '1', '1', '1', '0', '0', '0', '0', '0', '0', '0', '1', '1', '0', '0', '0', '1', '1', '0', '0', '0', '0', '0', '1', '1', '1', '0', '0', '0', '1', '1', '0', '1', '0', '1', '1', '0', '0', '0', '1', '0', '0', '0', '0', '0', '1', '0', '0', '1', '0', '1', '1', '1', '1', '1', '1', '0', '1', '1', '0', '0', '0', '1', '1', '0', '0', '0', '1', '0', '0', '0', '1', '1', '1', '0', '1', '1', '0', '0', '0', '1', '0', '0', '0', '1', '0', '1', '1', '0', '1', '1', '0', '0', '1', '0', '1', '1', '0', '0', '0', '1', '0', '1', '1', '0', '1', '1', '0', '1', '1', '0', '0', '1', '1', '0', '1', '0', '0', '0', '1', '1', '1', '1', '1', '1', '1', '1', '1', '1', '0', '0', '0', '0', '0', '1', '0', '1', '1', '0', '0', '1', '0', '1', '1', '1', '1', '0', '1', '1', '0', '0', '0', '0', '1', '1', '0', '0', '0', '1', '1', '1', '1', '0', '0', '0', '1', '0', '0', '1', '0', '1', '1', '0', '1', '0', '1', '1', '1', '0', '1', '1', '1', '1', '1', '0', '1', '0', '1', '1', '0', '1', '0', '1', '1', '0', '0', '0', '1', '1', '1', '1', '0', '1', '1', '1', '1', '0', '0', '1', '1', '0', '0', '1', '1', '0', '1', '1', '1', '1', '1', '0', '1', '0', '0', '1', '1', '1', '1', '0', '0', '0', '0', '0', '0', '1', '0', '0', '0', '0', '1', '1', '0', '0', '1', '1', '0', '0', '0', '0', '1', '0', '1', '0', '1', '1', '1', '1', '0', '1', '0', '0', '1', '1', '0', '1', '1', '1', '1', '0', '1', '1', '0', '0', '1', '1', '0', '0', '0', '0', '1', '0', '0', '0', '0', '1', '0', '0', '1', '0', '1', '1', '1', '1', '1', '0', '1', '1', '1', '0', '1', '1', '0', '1', '0', '0', '0', '0', '1', '1', '1', '0', '1', '0', '0', '0', '1', '0', '0', '1', '1', '1', '1', '0', '0', '1', '1', '1', '0', '0', '1', '1', '1', '0', '0', '0', '1', '0', '0', '0', '1', '1', '0', '0', '1', '1', '0', '0', '1', '0', '0', '0', '0', '1', '0', '0', '0', '1', '0', '0', '1', '1', '1', '1', '0', '1', '1', '1', '1', '0', '0', '1', '1', '1', '0', '0']\n"
          ],
          "name": "stdout"
        }
      ]
    },
    {
      "cell_type": "code",
      "metadata": {
        "colab": {
          "base_uri": "https://localhost:8080/"
        },
        "id": "P_USVnKXnDM4",
        "outputId": "aab79653-a9d5-4dbf-b06a-b86754a7be8b"
      },
      "source": [
        "print(\"F1-score:\",f1_score(y_test,fast_preds,average='macro'))\n",
        "print(\"Accuracy:\",accuracy_score(y_test,fast_preds))"
      ],
      "execution_count": 69,
      "outputs": [
        {
          "output_type": "stream",
          "text": [
            "F1-score: 0.4314998437834016\n",
            "Accuracy: 0.6509554140127388\n"
          ],
          "name": "stdout"
        }
      ]
    },
    {
      "cell_type": "code",
      "metadata": {
        "id": "G34BL7nnnDJl"
      },
      "source": [
        ""
      ],
      "execution_count": 40,
      "outputs": []
    },
    {
      "cell_type": "markdown",
      "metadata": {
        "id": "7hlmb2hocXQm"
      },
      "source": [
        "**ROBERTA-BASE**"
      ]
    },
    {
      "cell_type": "code",
      "metadata": {
        "id": "CWtUN5VHOzST",
        "colab": {
          "base_uri": "https://localhost:8080/",
          "height": 212,
          "referenced_widgets": [
            "16f198c1a68c486aae7d3b9e829874c9",
            "28303ad2803f486084785cc98d8a5ab7",
            "565bfe3703324a4da4ec34b968f3f8f6",
            "0a5a823127d747c58c16bf83a28fcf3c",
            "2748cb65d1fe4d93898c0ecb530cd19a",
            "eee9066981f643f7b13e636022ba30d0",
            "7f8110c3437544fb9a16722df47c4654",
            "97f7407c16f2439d9b7bb49d1674320a",
            "6ede065ebb8e4311b1a0880fb092e20c",
            "8aeb9754a9d6428bb64bcd932a3664d8",
            "5a1c0ff4d4be4ceea557bd674b898a27",
            "233ccd1b210c4230a841e4c1291abb4c",
            "f552b214419c459682740850f970e1b1",
            "a7617fbc5c2d43a6b2433c1ef2ea3660",
            "4a0f1b2cdb4945859c148eed264f7997",
            "f4e13db94b644a61a1211c4f50e8f40a",
            "279f7837470b453881f2b69d39af48e5",
            "9e18d2dfbf964973b6e515f80752f52f",
            "f37ebe6ba6bf4cbba697d9e29dc74ac6",
            "9beb4e5257784b63b7da1106dd5c4a0e",
            "7af3554ee30b4375a9a459c7ecd35dfb",
            "6ecd330bf30440f08c204abf63913d4c",
            "f3cdc990f4a54864b1bd5c5d866ad3e2",
            "57b1b874f81d4906aceb3ae8aeb2d4bd",
            "d848629614394911b7eb41c9d1ce0cdf",
            "884d57312ffb4f2280f4c1f342eee394",
            "bf1fad0e297045f0b7b97aa432f395de",
            "23213a1694ab4887bedb6be218cb915e",
            "cc1e95c0d70342c88c6db79497f1273c",
            "14377fe0f7c44d52916410fca0e10fb7",
            "2056cc94593a43fc9e7c74b94158c0b1",
            "6776873a2237423bb5742add3c35e03c"
          ]
        },
        "outputId": "50dc5d0c-7ce6-410e-a05a-f051f383f31c"
      },
      "source": [
        "task='irony'\n",
        "MODEL = f\"cardiffnlp/twitter-roberta-base-{task}\"\n",
        "tokenizer = AutoTokenizer.from_pretrained(MODEL)"
      ],
      "execution_count": 41,
      "outputs": [
        {
          "output_type": "display_data",
          "data": {
            "application/vnd.jupyter.widget-view+json": {
              "model_id": "16f198c1a68c486aae7d3b9e829874c9",
              "version_minor": 0,
              "version_major": 2
            },
            "text/plain": [
              "HBox(children=(FloatProgress(value=0.0, description='Downloading', max=589.0, style=ProgressStyle(description_…"
            ]
          },
          "metadata": {
            "tags": []
          }
        },
        {
          "output_type": "stream",
          "text": [
            "\n"
          ],
          "name": "stdout"
        },
        {
          "output_type": "display_data",
          "data": {
            "application/vnd.jupyter.widget-view+json": {
              "model_id": "6ede065ebb8e4311b1a0880fb092e20c",
              "version_minor": 0,
              "version_major": 2
            },
            "text/plain": [
              "HBox(children=(FloatProgress(value=0.0, description='Downloading', max=898822.0, style=ProgressStyle(descripti…"
            ]
          },
          "metadata": {
            "tags": []
          }
        },
        {
          "output_type": "stream",
          "text": [
            "\n"
          ],
          "name": "stdout"
        },
        {
          "output_type": "display_data",
          "data": {
            "application/vnd.jupyter.widget-view+json": {
              "model_id": "279f7837470b453881f2b69d39af48e5",
              "version_minor": 0,
              "version_major": 2
            },
            "text/plain": [
              "HBox(children=(FloatProgress(value=0.0, description='Downloading', max=456318.0, style=ProgressStyle(descripti…"
            ]
          },
          "metadata": {
            "tags": []
          }
        },
        {
          "output_type": "stream",
          "text": [
            "\n"
          ],
          "name": "stdout"
        },
        {
          "output_type": "display_data",
          "data": {
            "application/vnd.jupyter.widget-view+json": {
              "model_id": "d848629614394911b7eb41c9d1ce0cdf",
              "version_minor": 0,
              "version_major": 2
            },
            "text/plain": [
              "HBox(children=(FloatProgress(value=0.0, description='Downloading', max=150.0, style=ProgressStyle(description_…"
            ]
          },
          "metadata": {
            "tags": []
          }
        },
        {
          "output_type": "stream",
          "text": [
            "\n"
          ],
          "name": "stdout"
        }
      ]
    },
    {
      "cell_type": "code",
      "metadata": {
        "id": "MQoIlnafOzPx"
      },
      "source": [
        "labels = ['0','1']  "
      ],
      "execution_count": 42,
      "outputs": []
    },
    {
      "cell_type": "code",
      "metadata": {
        "id": "V4wVe4zZOzKd",
        "colab": {
          "base_uri": "https://localhost:8080/",
          "height": 66,
          "referenced_widgets": [
            "a353adb651ac4caf94456c73110277a4",
            "601c93d2a9f04a8585f36ea8698e5ed9",
            "e4977d00ba0c4e56a7612c5507b82860",
            "2d28b1341761437b9a1df1618e2644c8",
            "f23435b6fa024278a86a25c71053cfde",
            "f602057e6a2c4a69a409ee802758187e",
            "f323928ab0304fd8b7964c8a2ddb9c84",
            "d7ccd80c9ec741aab922c405c75624d9"
          ]
        },
        "outputId": "138f49f1-5b6e-4f4d-ec9d-e4e42b471159"
      },
      "source": [
        "model = AutoModelForSequenceClassification.from_pretrained(MODEL)\n",
        "model.save_pretrained(MODEL)"
      ],
      "execution_count": 43,
      "outputs": [
        {
          "output_type": "display_data",
          "data": {
            "application/vnd.jupyter.widget-view+json": {
              "model_id": "a353adb651ac4caf94456c73110277a4",
              "version_minor": 0,
              "version_major": 2
            },
            "text/plain": [
              "HBox(children=(FloatProgress(value=0.0, description='Downloading', max=498676425.0, style=ProgressStyle(descri…"
            ]
          },
          "metadata": {
            "tags": []
          }
        },
        {
          "output_type": "stream",
          "text": [
            "\n"
          ],
          "name": "stdout"
        }
      ]
    },
    {
      "cell_type": "code",
      "metadata": {
        "colab": {
          "base_uri": "https://localhost:8080/"
        },
        "id": "ifWi0E82fFF1",
        "outputId": "aae8bca6-501c-4410-8809-3f163e89bb75"
      },
      "source": [
        "sents = list(test_irony['Text'][:]) # storing all the texts in a list\n",
        "print(sents)"
      ],
      "execution_count": 44,
      "outputs": [
        {
          "output_type": "stream",
          "text": [
            "['user u helpmor conserv need tsu get paid post stuff like thisyou go', 'walk starbuck ask tall blond hahahaha ironi', 'gon na win', 'user exactli sort person weirdo', 'much sarcasm work mate bore dead mate full shit absolut sleep mate cant handl sarcasm', 'corni joke absolut favorit', 'peopl complain backround pic feel like hey dont blame albert e might spoken word sarcasm life', 'user user darn sock joke need fix', 'christian expect fifa sleep bed tonight he wrong ', 'peopl tell peopl anxieti stop worri favorit kind peopl educateyourself', 'import thing ive learn school', 'orionlaunch underway yeah orion', 'love context larg ensembl friday der favourit sarcasm getthefuckout', 'oh boy user hous warm dj booth user', 'liar ive never deni murder chicago user user user user user', 'alway classi never trashi littl sassi', 'believ say someth provid proof fact wrong user user', 'user long go mainstream media pitch surgeri follow use prototyp demonstr real situationphil', 'user jami grace tourett thank share im research post tribut young ladi gospel singer', 'user guess didnt get memo reg nonnuclear baltic sea sarcasm', 'exam na jud merri christma sarcasmkillusslowli', 'definit ironi would yearold rapper went viral took bitcoin mainstream mayb way babyboom buy', 'pretti excit gave file sarcasm', 'told hipster ironi thing clinton year carri histori book use bookstor brooklyn', 'user u know u', 'user hmm let think sarcasm', 'wan na look like badass drama social media', 'dare charl barkley intellig convers race sarcasm charlesbarkley', 'user think gener rule open night pull allnight', 'natali prass bird prey via user', 'nooooooooooo pickanewsong cantstandit', 'hipster mainstream oh ironi hipster ironi', 'user exactli fight like anim', 'teenanalcast top top christian song', 'girl sororitysist thought theyd get rich famou instead like', 'speak countri music album anyon els think sundownheaventown feel like timmcgraw album say previou three', 'teenanalcast sex sex citi movi cast audit nyc summer', 'season episod carri outfit simpl chic ', 'well got truck buri today perfect way start raini wednesday work day annoy piss', 'train surround posh peopl im home stickoutlikeasorethumb', 'stupid doctor visit gon na buri that ironi', 'love way user say fault last night fix pm see man van pull pm fix fault ironi', 'plan vacat instead studi prioriti line', 'dan said he go sign airport fli lol socut moreweek', 'decid go vacat without sleep reaaaal nice consider ', 'user sugar christma time', 'cant wait afternoon schedul gon na much fun', 'user dead n k ppl kill terror attack till date paki show sympathi ironi', 'time crime becom feder crime user user user user user user', 'music peopl money peac love kinglif', 'ranger leagu game alloa move petrofac cup final april ironi', 'find life coach question need ask hire one via user', 'wonder holiday ritual true african', 'er sinc yay', 'user suh clean year leagu five dont act like dirti yearsnot bias ass', 'user user thank stud perfect teach bench respect prop form lifter al dyel', 'haley approv new hammock  ratsofinstagram', 'year peopl still havent got justic deserv bhopalgastragedi yet anoth brilliant job done american sarcasm', 'pip drop school n kirya eir role model tht ey wana sing tooguy spix portuguesefrenchenglishnot school dropout', 'free pet anim book freebiebookdownload pet', 'user next employ nfl trestman disgrac hire never stood chanc', 'loooovvveeeeee phone get wipe', 'paint cop broad brush action logic racist use ironi', 'dont know handl crazi shift long might pass job sarcasm', 'love ignorednot', 'ironi rt user your go give someon scath star review poor grammar ff use proper grammar', 'produc mobil app', 'decid want afraid bill cosbyironi', 'final finish first season veronicamar move cliffhuxt keith mar new sheriff ultim tv dadin town', 'merri christma soldier couldnt make home love ', 'relev michael sam jason collin rt user major leagu basebal umpir dale scott come gay', 'get final jeopardi correct kid jeopardi boost selfesteem', 'itsfunni bc peopl think im quietbut im listen toeveryon convosand figur ur weaknessestodestroy u later life sarcasm', 'woke shower made lunch got readi work realiz whole weekend ', 'user user user user user mani job earn middleclass wage econom math z', 'reckon straight women fanci victoria secret model straight men victoriasecret ironi', 'incred insight user bornriski campaign ampute movement equal art prosthet', 'love hiphop mix tape mixtap promot check follow twitter undergroundhiphop', 'extend cut nicha trailer spoof film dramat action film youtub fightscen', 'user stun work british textil footwear madeinbritain notanikeclon', 'user user sent slow alreadi post', 'femalecondom anal vagin prevent stdshivpregn latex free restrictivetight womengay men', 'littl cuti chico dog doggi puppi sweet cute uk black biscuit mine mini miss', 'user niagra fall tho realli ironi lol', 'win poland scotland put us th world rank user user sarcasm', 'myanmar men plead guilti murder british tourist via user', 'sinc tribun establish year ago complaint intellig servic ever upheld trustthesystem', 'user garner protest chant fck fox news despit fox agre ericgarn ironi', 'user nato need expand', 'ironi play song way work nomoney parttimecook blackmossptc thank', 'take respons serious today leo', 'user user user user user get right busi trickl fairi rest', 'understand everyth presid user user user user', 'your doctor wait room hear babi back scream lung alway reassur feel', 'well festiv season begun let take moment reflect much royalti slade wizard get sarcasm', 'last day year tweet major highpoint year good bad ugli', 'mb forgot move elf shelf ask christma real nannyprobss', 'user happi new year da thank sobra year ', 'watch megatron transform rant social media ironi', 'user user work abl download game paid good faith psn start work', 'wrote page paper aw tire write cant sleep ironi', 'user happi birthday skip alway love philli legend', 'trout northern pikebrownbearmik user user user user', 'one favorit thing make peopl wonderit complet unintent buy bog mud boot dress', 'watch sanjay user get start vs butler like see minni', 'there better way start week get wisdom teeth taken ', 'excit way start friday present structur defici bridg sarcasm lobbyinglif', 'new shirt new shirt im sorri liter care', 'user user user wasnt one person busi expens', 'hahahaha oopsim addict user tweet sooo funni got follow hilari sarcasm tweet rt', 'user user user absolut love well done involv', 'user case recordingso compar two appl orang', 'wowlolne cash hand today go wun mca', 'least dont clean floor', 'incident foreword movi bhopalaprayerforrain subroto roy sahara say justic delay justic deni ironi', 'user loss follow bye week fc team get rid next year sarcasm', 'asksuperwomanl could swim liquid besid water would swim iniisuperwomanii', 'one embarrass loss user ever wtf', 'user untru cutler fault', 'malala yousufzai receiv nobelpeacepr pakistan rank top danger countri ironi', 'ugli christma sweater red red snowflak sequin cardigan x xl', 'test water temperatur excitingtim', 'wake cat attack hand alway delight', 'may hung much peopl everi time blast', 'user usa democraci usa republ gover know pledg allegi say', 'blame mom mother year sarcasm', 'pull book prepar organ new bookshelv caus forget bring book today ironi', 'user user fair didnt use mandatori sarcasm hashtag p', 'like hope jan elli write precis prose also humour ironi bring', 'girl wan na funworknotfriendsonlydancedrinksantennagrouprock mariag', 'bay area storm big ton peopl work cancel today caus earli mine ironi stormageddon', 'user im uk honestli think goddess love speak mind gentl side love pattiknow', 'leav whilst dark fun', 'user pleas note sarcasm last tweet kill mani good pro includ user show best usag', 'user mum back us xma ', 'user even though user got exwiv user major im happi washedup mess block', 'user ucan make money tweet info w new apphttptcoqwbriavk news httpstcocpjzkegn', 'take tooooo church', 'republican move effect rob royal kate spend k onmeal rob ironi', 'obama user announc special urgent packag pakistan support user enhanc fight obscurantist', 'user shirota yu inou yoshio mozart appar', 'look qualiti music check user hot record', 'possibl somebodi interest also bore ironi', 'user go time might chanc fool shame fool twice fuckthat', 'user minki wale tail fritter price bijoux flat port talbot', 'ibnliv first cut ad primetim proudli announc theyr put journal first ironi nlprimetim', 'chrisbrett user user user think white skin racist dna he geneticist ya know', 'hi good morn instadaili snapchat selfi comment sleep wake happi', 'want done final hoursleft', 'bed flat tolet £ pcm £ pwhumphrey middlemor drive harborn birmingham bhttptcoqhycbzkev', 'use crossfit place ironi pizzawin', 'start sing song feel work buffymus stuckinmyhead', 'im head need say concern countri peopledo make racist terrorist', 'work hard silenc let success make nois', 'user user saiddon', 'watch alison jackson portfolio work eurobest seem she crack celebr stunt viral sarcasm', 'spend major day doctor awesom sarcasm', 'user ps strong tweet particularli horatio involv matter bloodlinecontinu xxx', 'user spnew yxe hope werent drive took pictur ironi', 'beauti bell daughterslucki havefun wicklow ', 'user yeah thank mess deliv product feel realli great went thank', 'user aha white girl drink make cray tipsi', 'definit me sarcast sarcasm ecard ecard somecard teas funni lol', 'christma alone nice', 'work wednesdaysunday yay moneytho ', 'user gavi one rude motherfuck subtweet call motherfuck ironi', 'access hous fundament human right accord ontario court onpoli topoli cdnpoli', 'user friendzon mani time life perk good guy sarcasm lifeal life happen', 'user want see someth irishof reason close  ironi', 'sister home colleg time get home babysit payday good friday', 'oh dear peopl dont get ironi ', 'yay fire alarm', 'drank healthi homemad fruit smoothiein user beer glass ironi', 'buy becom full time hipster lol', 'paid ga thanksobama sarcasm', 'welcom love post user', 'cant take eye youhttptcockykvxewc via user', 'readi monday  sarcasm', 'user rollin piss haha', 'user love chill night save hangov to thank hun x', 'user got attent smartass comment didnt work anyway ironi', 'your sick feel bad cell caus theyr fight hard bless appreci sarcasm kinda', 'look properli shade think shade techniqu cube view learn damn suck sob', 'compani profil forget pet cemeteri forget pet cemeteri', 'user guy youv smash wheredobrokenheartsgo xfactorfin', 'wan na home alreadi', 'realiz last final tomorrow faaaaa', 'user user user user user christian europ translat islam manuscript ironi', 'aaaaaand ive found chrome slow download screen saver activ make love sarcasm', 'fact time next week ill get wisdom teeth  chipmunk', 'user way lay yesterday put line goodlead sarcasm', 'two year later gingerbread hous make still make cri', 'amar singh give rate modi govt arun shouri say said done present govt ironi polit', 'user user user that twistalgorithm caus congest increas pollutiontoo bizarr true', 'user sarcasm servic offer', 'phatsexyass picnic picnic pork tiffani', 'im absolut posit coach love parent tell coach run program sarcasm sticktopar', 'nice touch bar staff ground wear saintsfc shirt', 'user trust form scandinavian reef user love user see ironi fcbarcelona mcfc', 'liter love someon throw deep end ironi tough life', 'agre mind reader haharepost gag ⁰you may think', 'day ninth decemb pint boar headnot realli still bed ', 'speed camera whipton villag shop ye take polic offic  wast money take five individu ', 'pick excel day get hair done  sarcasm', 'user daughter paint toe parent win book', 'cant say user tri let go user coyq', 'abc take look turkey song user make classic thanksgiv', 'wake pound headach need final sarcasm', 'alway count speak delet messag look like im talk  user', 'stop pick alexandra book coupon', 'user swear must twin', 'day better other', 'get total hour sleep day final got good sleep last night', 'name superwoman wonder woman dorothi wizard oz women excel', 'didnt realiz boston coach also oper chicago ironi brand', 'user somebodi thought padoin sister lol sarcasmfail', 'user write histori cubaembargo primal scream tcot', 'wow look nfl ram player hand dont shoot pose arrest via user ferguson', 'someon need stop kill someon  love wake worst fcking mood', 'old motherboard lay around guitarpick', 'joe cole casual walk past', 'one find stress orionlaunch feed keep buffer', 'user someon start rumor abbv price hcv drug higher gild sarcasm', 'never seen gym pack', 'got mention mgwv autofollow retweet rtmuzza teamfollowback tfbjp aday rtgain ⏩ user ⏪ who want next', 'rememb rais glass merri work keep world safe christma  essentialservic', 'wish everyon happi healthi prosper new year', 'user user user ye convent taxi drive verrrri safe pfft sarcasm', 'rant moment im hit send ipod die greatmorn', 'week scan long excit memori good happi clear babi boy portlaois', 'user obama hillari convinc ukrain would protect essenti disarm need keep least one promis', 'enjoy throw hatethi sick wan na go school take away', 'user actual think need use youngster reincarn ironi', 'golden morn ', 'sleep sleep stupid idiot wan na leav room', 'liberalleftist use racistsexist label dislikesmsnbc host ed schultz said racist support demand minimum wagesad', 'read news obama american way life gift', 'realli miss momma today usual dont think today good day', 'user nevermind pray tellwould scherzi still play grizabella', 'everyon want truth nobodi want honest ironi', 'wont surpris shell across pak border intensifi delhi elect chang issu elect', 'everi inch perfect bottom top unless your skinni shade sarcasm themoreyouknow', 'take look calv  ladi love calv arm', 'user tongu cheek user weigh noth instig breed specif hate stick report tuqu yyj', 'user think mom would get along better she middl child ironi middlechildsyndrom', 'isnt blame victim sarcasm rt user everi year k colleg student injur drunk', 'time ward mad skye hide secret ironi skyeward agentsofshield', 'applaud get moon carl sagan spoke truth deniedironi', 'holiday last forev happytim sundayout mewear wyoustor elenawearswy chanelboybag chanel', 'watch user trich vlog help alot trich condit ', 'photo orchid tassel chain mermaid dress ones leav email invoic', 'user game pathet lose game', 'bromanceshmom check zerozeroment ask loui therenonenadanot', 'light sleeper best', 'school india pray peshawarattack victim prayforpakistan', 'compani thought would best thesi unfortun taken alreadi year ago', 'user worri whenev ', 'user user enough unfortun', 'user pleas email captainpcmecom contact dm user dm address detail nothadrepli', 'user hahaha yeah think caus know love heart  ', 'realli good reput steal girl user mr masonexpect call', 'need stop use word racist racism user user user user user user', 'user user probabl favourit book couldnt put star', 'tellmost stripper belong right nocollegeneed adamsmith special stripper', 'user dualist good evil right doesnt appli real world sarcasm orcsliv', 'consensu absolut hilari ironi – michaelmann lectur profession ethic climat scientist', 'dollar obx dollar gboro gone lockitin lottoclub bankopen doumenturdepositnot crimin', 'may may put user top user tree soon like christma time sarcasm', 'regard att case ive contact bbb fcc state attorney gener next wfaa stop', 'acronym cool fuck judg', 'true nightshift person would understand nightshift hardcor teamwork alway', 'actual wasnt pure econom user user user user user user user', 'sunday fun day studi ew saywhat', 'reunit pump morn yay ', 'dad still gon na get santa gift sinc last year realli dont know ask ironi', 'rememb one time work job sick didnt suck sarcasm notworthit', 'im realli excit next semest', 'user user actual even deliveri wont save vote let born aliv die also look th trimest abort', 'good luck find someon take side bet lol user', 'good businessesgovt em economi borrow much via dollardenomin loan intern bank sarcasm', 'user  fitfam fit health', 'gta san andrea come one media releas gta san andrea come', 'great way start day ', 'user wonder agre privat cloud', 'ask want stay long possiblethink', 'user user user wait till cleveland come sarcasm', 'liber iraq one bloodiest year victim thank western liber sarcasm', 'user one hope get rt recycl rose holli wreath merrychristma', 'user tag teammat bad run line everi week im sorri say user', 'user easiest cl group two rubbish team cl game even lucki last minut pennot good enoughgut', 'one okay cool', 'np nowplay nowlisten music dont let pull new found glori album', 'go thank claim cover wvh hoop nothighland beat parkersburg last second shot user', 'long day go possibl without good friend coffe', 'loveee drive upstat snow', 'know peopl could talk powerdress social media market pleas let know thank', 'love get wait ppl sarcasm', 'faux leather size zipper sleeveless scoop back midi dresssiz lpriceleav email', 'much want connect like peopl dont want ironi oh', 'user saw leaf blow breez could yell want', 'user hold minut say blond white women look sarcasm', 'user got ta love racial base award', 'best love kind awaken soul make us reach more', 'clashupd', 'user super junior henri ask sasaeng fan let sleephttptcobhreketmka henri oppa', 'offici surround amaz peopl ', 'user user republican suck identifi ironi alani morissett', 'that alway solut doesnt fix anyth', 'name excus peopl use workout', 'user user user user user user left regress label ironi', 'user cant expect us hire one week move quickli coach search sarcasm', 'celebr person known wellknown fact teamfollowback ironi', 'basketbal game today im realli sure espn seem promot anyth sarcasm', 'user user user agre nhsengland need publish aand figur holidayperiod sarcasm jeremyhunt', 'youv got world string give string think cool applic whatamido', 'christma christma foh day peopl get grip sit nd chow mopani worm', 'warn degre sarcasm depend funni tank top order', 'gopher arent nervou sammycommentari gopher', 'bitch like appoint pleas notcrazyenough yet orthodontist', 'glad woke earli offic visit mother show', 'scienc gardenofeden eden kenthovind christian jesu christ c', 'sicken kill innoc black men children becom lucr career america mikebrown trayvonmartin ericgarn', 'km rapha festiv stop coffe toe come back life user', 'user u realli need get wee bit lol', 'user undo afford care act expect insur declin gon na happen', 'user user sure take home', 'actual start cri brush teeth due lack sleep stress test anxieti today gon na good one', 'dont love peopl wont shut class hold everyon back ask teacher repeat answer sarcasm', 'user oh believ agre total tweet pure sarcasm need gun less santa bring one', 'congression report tortur confirm alqaeda involv attack septemb httptcognbabcxr', 'sarcasm make mental stronger effect deal emot stress fustrationfunfact whatifisay', 'also funni thing work get done im week sarcasm', 'user newrec releas', 'im lack inspir resort scribbl angrypretti thing great start week sarcasm', 'also amaz shower taco bell make feel like new person user', 'visit tripplebeam music promot michigan', 'nuff bob couldnt repin ross tattoopleas rt', 'happi birthday becca look pictur know ton found', 'lost zing work hard check latest quicki habitu internetmarketnewbi', 'heartless sanghi sarcasmretribut indiawithpakistan dumb nation deserv taken ride lakhvi', 'guess wake everi coupl hour cool', 'much deleg enough', 'user user told stop work crew contract ironi', 'need get car kill dad', 'everytim tri like chri brown someth royal eff dude chronic loos cannon chrisbrown karruech', 'bedroom decor done lol upstair need hoover christma  decor downstair xxx', 'look good feel good teamnosleep cantopeney', 'much cost build mygov medicar see way often', 'sad moment realiz your past point present tree wan na move back', 'may empti recycl   craftbeer', 'user user user user user user yet ferguson mo mayor gov dem ironi', 'abnorm professor walk final zoloft bag ironi psychhumor', 'user hereford cant leav bambino alon', 'user ski regent park much', 'rejoic know new placenot easi', 'make dua bro turn hour long convers', 'user user thief liar vote rigger mock use food bank onlin bulli ironi', 'hell happen shahid afridi last coupl day left alon bouncer play got review right pakvnz', 'sub make class go slow feel like lose brain cell ironi substitut moveitalong', 'photographi photoshop photo art eyecandi bibl tsu  follow', 'user yeah someon hayek hockey name call someon racist ironi user', 'rondo elli parson dirk chandler start line would one favorit leagu mav go rondo', 'user user user cours cop could shoot black man front hospit bet hed still get aid', 'love peopl ignor sarcasm', 'everi your fuck cunt lie cunt say cunt song cute defo piss nope', 'user your pain medic ', 'great christma ', 'hate wake morn basicbrianna earli bird', 'user yeah amaz night think till death ill let u know xx', 'wish better high school', 'toy lil troop event user donat toy children deploy low incom troop', 'song dont cri argentina ironi', 'like user video ubisoft graduat program gameplay program', 'wonder mani peopl visit food bank huge tv drunk freedomofspeech foodbank', 'alien dit religion cultur invent fool want everyth legal legal', 'lazi hoodi wintertim', 'forgot enter sarcasm', 'tax per mile american allow gp track car truck watch – new year', 'long distanc relationship seriou sht ayoba', 'happi birthday imgettinold ionlygetbett roll tide', 'mad gamer follow user wellington newzealand', 'okay db racist joke', 'notci eu european council press confer donald tusk jeanclaud juncker matteo renzi', 'user u brag yr peyton leagu get beat st round ironi ', 'feel get wan na flip tabl screw final', 'work hard tonit', 'user user vine wont come ', 'lanc stephenson travel team twogam road trip stephenson still unabl run fulli', 'jeez wish govern paid food ebtbitch', 'hey user geekynerdi follow need sarcasm marker post like otherwis theyll start exactli', 'pretti shitti day im gon na soak full mud clay iliketogetdirti notreal sarcasm', 'refer plural youll get user user user user user user', 'moment ad play flawlessli video keep buffer ironi youtub user', 'got ta love romanian play improvis version jingl bell minor key realli set festiv mood', 'perfect time get sick ', 'im give lot stuff make sure other happi wonder anyon ever look past appear see im feel ', 'merri christma friend famili santa finish hous', 'video smartphon pay postiphon samsung ipad tablet mlmstart', 'see ironi last tweet combin lost entir certain someon faith human', 'lol hilari pic rt user game user win', 'youv set target achiev like love hot', 'chang process event dafuq think', 'son gave coldagain yay sarcasm notexcitedaboutthisshitatal', 'sale someth pursu happen immers serv', 'user malala fake plant us coz pakistan perfectli safe kid go school peshawarattack sarcasm', 'serious bbl got tallest ground interview time talltow sevenfoot', 'funni turn aquabreezedisgustinghotelsnot men', 'yay juri duti  sarcasm', 'may play part wont take sole credit user user', 'user user thought call wet look lol', 'burn tongu love way start day sarcasm ouch', 'liter function hour sleep feel great  collegeiskillingm onemoreweek', 'ya mate dad start poke facebook cring ', 'ironi anti state ppl claim littl man hacker realiti state soni', 'howtogetunfollow post pictur video smoke especi blow smoke camera socool gtfo', 'ref piss serious idea what go', 'anyon visualis differ colour flavour twitter stream kinda lipmu test', 'psychic advic weekday pdt psychic view radiocal ask question blogtalkradio', 'ill actual hurt breath still nice long walk station world good', 'user later snuggl royal giddi glee ironi', 'blue sky warm air royal accommod whatmoredoesonene educ', 'intern human right day ironi', 'jeremi iron alan rickman marrakech one week im go everythingisfin sonot', 'user take your england', 'smile photo ok said boy troubl funni footbal kid ador friend', 'hailey play trivia crack want sport entertain aim scienc histori hahahah', 'user thank pirat music', 'welcom surrealist estat agenc', 'averag ball parti ping pong homedecor pleas rt', 'fuck car gave car die nothappi', 'like feel peopl think theyr step ahead truth theyr mile mile behind ahahahaha sarcasm', 'bm give pm pm son today that fair huh', 'user marathi man speak hindi chu samajht hai ironi', 'lesson learnt herd sheep fought tv blackfriday struggl sell ironi capit', 'tomorrow three test signaturethank school sarcasm', 'guardiansofpeac win threaten destroy peac ironi', 'babygirl imaginari friend cute watch talk', 'ukartistonli user user user present ukuntoldstori mixtap geton ducmg', 'user say respons notworthit offer even discount worst customerservic ever', 'thank gorisandjgori sale', 'may time hibernot', 'user user user user user user im still go exet whether care', 'user ndp introduc bill make ohip public appropri confidenti', 'oregon march band play user music awesom oregonduck oregonvsfloridast rosebowl', 'user dont good enough singl depth atm even account doubl problem never doubl alway singl', 'yay yet anoth week child home school ill hint sarcasm brighten day', 'smile moneyscowl notrecognit moneyignor not god', 'user hey seen u follow go ask check channel help shoutout subscrib', 'urban glam high heel ear leav email invoic', 'got ta love lie', 'user user ladi wouldnt use languagebut guess one', 'user hate lol', 'didnt know territori realli doin pleas dont shoot', 'shop day ms today haul includ new doc eyelin bra new issu franki mag half kikki k tire broke', 'sweet jeebu mt user cryosat jason confirm high phenomen sea gener north atlant low', 'hyper realli get rest ohwhal ', 'mile apartbut found close enough still apart ironi', 'drink southern triangl ipa user user', 'american red cross van togeth save live driver smoke ironi', 'user user also make want post', 'birthcontrol lol wtf whatisbirthcontrol user great commerci sarcasm', 'oh love work baltimor', 'fan watch tylerfarr concert user countrymus throwdown tampa', 'im school nurs today fever ironi', 'bbc news usa jeb bush explor white hous bid', 'thank dick pic realli thank sarcasm', 'user user spawn larri ellison aka world worst human', 'realli love dentist appoint sarcasm', 'write javascript regexp allow email address', 'user user night night  londoncal', 'user user lot factor play think retain max hope ft hurt market bit selfishli speak', 'user your tough bugger p', 'im shock mark may doesnt think buckey playoff sarcasm', 'googl scholarship applic kept crash chrome open ie finish applic without incid ironi', 'analfrench chocol chocol babe get dick asshol', 'set alarm pm amguess could say ive got life togeth sorri user pearlburg mom jesu', 'enter user competit ticket final finger cross user', 'gun nut yell cop conduct dui checkpoint later hit drunk driver way home ironi karma', 'user yoga peopl face dog dinner merrychristma', 'ever seen like republican move effect rob royal famili kate k meal ironi', 'snow chicago whitechristma', 'oh love wake migrain  needm', 'oh oh mum go pleas littletik', 'shame day nfl doesnt interest stori isnt get attent sarcasm', 'felicitat penedesfera notci', 'cook england rudderless death seven game weve got progress wors cant wait till arriv wc sarcasm', 'perfect neccesari us best version', 'happi holiday offici christma card bestfriend uglysweaterbarcrawl', 'user user least got joke', 'user still manual turn onoff wifi bluetooth nfc etc fb yep', 'user thank babe hope good one ', 'nigga knoc back shot henni lastnight user', 'ti season tablet enter tabletsforal contest win tablet gift pack check', 'notci eu commission creu reassur committe region juncker invest plan complement coh', 'like tab im facebook statu like peopl sarcasm rudebuttru', 'bestiestest tearyey king come god dead he sure aliv god dead faith', 'johnni footbal time fun time cleveland brown went sunday game', 'user that im talk awesom win cav', 'dot buzzer ring helloworld sleepi tire nothank', 'user game monday tuesday friday saturday ', 'user go home st jan excit', 'photo tuxedo jumpsuit sizessmalllarg colorblack price leav email size invoic', 'analysi econom issu whip isra chocol pud elect via user', 'user three minut better minut', 'found motiv aka back eye lid accid boy user winner senioritisisr loser', 'one caught surpris one didnt expect duh redundantredund', 'time last yearshiid hella funnyunforgett khwaaaa', 'hoar frost challeng spell', 'user user view right wing left wingjust vile', 'user user ah gamerg ebola campaign mani peopl kill sarcasm', 'promis peac earth lord thi kingdom come thi done advent terror ironi', 'violent show tweet user user user user user', 'gael pro present anderson choke', 'noth say natur like relentless sound commut traffic fthunter amdogfun notallpeac', 'notci eu cleaner air would offer major health benefit balkan', 'love domin sec paus', 'best christma eve news half sister  sarcasm thanksdad', 'brother dont look alik frère famili lovehim', 'look stair imag scari dark creatur come freak', 'user least there good footbal game zero chanc either team lose lol', 'race human race support human genom project user user user user user', 'throw exactli want ', 'well great sarcasmillinoi pass bill make illeg record polic', 'user rememb book goodluck', 'user ahem yeah someth like ironi one thing keep saniti face ru propaganda crazyivan', 'glad came work custom itsdead', 'still time enter user planner giveaway courtesi user user bblogger lblogger', 'check new novel black beauti eureka johnson', 'user definit notrac systemat entrench everi american institutionalso blackwhit binari construct', 'forest hill drive playlist naw', 'full man flu time weekend work awesom sarcasm coldandflu', 'user user cop also prior misconduct charg ya know that ok sarcasm', 'zuma read quot peopl fight idea fight materi benefit live peac ironi yclnationalcongress', 'field trip two day final exactli need', 'soni email tell thing wealthi high power businesswomen ugli peopl stupid need learn spell sonyhack', 'wonder trigger anxieti sarcasm', 'love wake heat apart socold', 'nice weather today ', 'decid id go bed earli ive lay sinc yet total amount sleep ive week hr ironi', 'annoy bluetick sale yr old need babi bath sarcasm', 'check user make feel someth london uk', 'user dont think hereditari baronet want encourag somethingfornoth cultur ironi', 'user brother ahit', 'user user mean zach teacher amirit', 'wash hand water moh rub everyon face ironi', 'someon tell tf find fri chicken ornament bc shit necessari', 'bodi refus sleep fucccck', 'decemberbessen fail footprint sorri', 'user hey sorri im late didnt want come myperiod', 'lol let see actual read itlauracharlii user user', 'everyon realli matter long knew everyon bad person short time ironi', 'less week til ultim squad back togeth rogersanddalhaus user', 'yeah your grown time feel nostalg toward bachpan iif handiwork', 'mike smith brian hoyer walk bar sit time say told wasnt fault coyot brown', 'someon discov inde tail fact fun play', 'scope new rout today k oh crowd traffic nois ', 'bet joel embiid psych come back injuri play worst team nba histori sarcasm', 'user blount also would think could game white get action guess', 'final lab coursework submit treat catch whole semest lectur win', 'user user peopl prison drug relat crime know gun crime sarcasm', 'user user user everyth crossedchristmasgift bassfac', 'user user apolog scoff humbl pie', 'user user user problem solv read fmq someon wm wrote ironi', 'tbt dedic day dont want throwback like evil cold novemb day', 'today go great day ', 'user appar twitter free data deplet use twitter impress', 'user user ye automessag followback make money tsu thx posthttptcoalsthkbpg', 'user tough crowd josh smith tremend tonight', 'user would also great david team old man carol similar year backgreatd case', 'take hour shit alway good thing', 'entir career devot boss beat corrupt get beat corrupt elect ironi soclosetilden vote', 'yay love time month sarcasm', 'finish year strong good bike workout miss lot year rest shoulderhop better happi new year', 'user tri hard fragil petit hahaha happi new year liabeeeee clingi moment ', 'user ye got point like time pass grow kind beast', 'someon took lucki hat today yay isnt fun sarcasm ihopeigetitback', 'user grate encourag', 'user user pit player v victim dare nfl put divid men women children beat sarcasm', 'user kid dont need school school turn gay atheist gaytheist sarcasm', 'user user user hmmmm wouldnt say tit ', 'know io featur custom keyboard sarcasm', 'tax ni wage slip like jim bowen bullsey goin look coulda rubbingitin crap', 'today stat one follow unfollow follow peopl via', 'user yeah know there thing call nighter appar wan na pull one', 'seen wwwmonstermmorpg com sinc progon follow user mariland', 'ive visit us state canadian provinc countri total bad', 'user articl robot arm control mind meh noth huge sarcasm scienc', 'awkward moment plane whole day around golf class get cancel stupidrain', 'user user user tryin link convo bt anoth tweet cum sarcasm wrd repeated', 'shitti driver alway fun', 'user realis miss middl tech troubleshoot mission get articl madiba site ironi', 'put good thing mind lunch today instead internet junk oh tweet tweet good build tribe', 'anybodi use right protest legal get law thrown one crime dont that ironi notjustic', 'im closedmind im dogmat sarcasm contradict', 'sometim cocki  abt know ur capabl', 'puppet pti ralli want make nayapakistan ironi', 'cant even begin explain frustrat ', 'goe way make love war peac', 'fight charger definit want start day', 'broke friend undergrad fool get lil money want act uppiti ever', 'that comfort stonewal penalti ive ever seen ref hadon stoke', 'dont think use boyfriend noon elsenotonmywatch', 'everybodi talk snow im sit snow around car snow', 'coach support tighten belt pick weight sarcasm ithinkhehatesmesomeday itsmostlylov', 'still da process draw sketch fishkoi tattoo yet finish', 'caus love go bed alon everi night', 'come heart express connect user thankyou rdeyebrand', 'kid tri steal tool mad cuz someon took hot sauc fridg work ironi', 'emopostahead lol sucki thing see beauti everyth see beauti liar beautifulliar lovethwayyouli', 'user blew mind ahsfreakshow your brilliant', 'team would finish fourth ironi arsen afc', 'favorit smartphon high low', 'user thing also go slowli wait especi', 'relat chanc choic facebook ironi', 'love permafal milwauke doomandgloom gimmesnow', 'drive town well clean countri road see tow truck veer far shoulder get suck ditch ironi', 'grace free spirit yr old humbl heart aspir modelactress also enjoy piano dancefollow user', 'mondaiii fridaii without huweyyyyyi like', 'love man clean spree save ', 'could say today im offici necrophel latinfin justajok intodeadth', 'equal justic allunless black obama administr via user', 'tri export azur vm well went ok sarcasm vmcorrupt thankyoumicrosoft startalloveragain', 'forgiv other deserv forgiv peac love user word wisdom', 'hardest park ive probabl ever done screwyousmallparkinglot', 'guess paul didnt bun hon eatenal user', 'import call council form month ago need hour head disneyland', 'laptop speaker quiet music simpli loud porn  ironi', 'user return brand new ps thank faulti secur goodjob', 'us didnt focu adhd lectur ironi', 'farag tt public doesnt agre see tt public breastfeed ironi', 'user user ah ok well hope thing keep go well person x', 'user great stori student tri get teacher firedsarcasmmoronstorywasstupid', 'user user let user know im sure shakingquak boot', 'user mayb grind gym man call fat', 'user start india need somewher dont speak great english dont say much lol', 'im offici make today singl men get smoothi day that custom day', 'favorit thing wake drive minut snow see bitch ass paneraproteam', 'ironi elect zero vat whether zionist extremist countri', 'kati piss bad theapprentic', 'k michel said lil kim plastic bodi fake silicon kim went plat paypal k never seen platinum ironi', 'rest peac riff god dimebag darrel dead pantera', 'user user let forget origin diamond relat humanright bigdata', 'john stockton commerci holi crap nbaballot', 'weird urg buy hamster', 'love peopl tri tell oakland much easier school ', 'user come', 'somebodi fill head snot use chees grater back throat night unimpress', 'download advancedwarfar cant play nd decemb tho exam', 'user user user user user user immens sad', 'user hey could kill kid drone strike caus strategi seem b work well', 'get work bu driver turn music first song anoth day paradis ironi', 'brother hate brother even jk stilljk fatbro', 'absolut alp user fan serious mani done mani scapegoat excus lame duck', 'support user reveal truth behind love sex drama visit', 'lot peopl tweet pictur car snowi commut work whilst say stay safe oh ironi', 'user theyv spread posit long feeder cattl sarcasm', 'twitter clue', 'user though suspect dont actual care truth whatev go troll someon els', 'user thank thought tomorrow iknow notthepoint', 'talkin bout gender role narrow mind one ironi', 'user user wouldnt perform', 'yay car case monday', 'analtryout sensat sensat blondi chick get anal smash threesom', 'woken hour night shift ga look like microwav meal cold shower today woosarcasm fml', 'tulisa realli made ugli xfactor', 'well known sci commun exagger claim studi pr exagger claim scientif studi ironi', 'logic fulli comput wear less protect deadli viru get ebola result', 'last night watch deserv r breakfast dram user yr user scotch islay', 'isl far away hous stunningli beauti close ppl appreci human', 'could cooler kid xp lol im nerd know im gon na get reject', 'user speaker rememb talk otherwis would know sarcasm', 'murder babi black man us kid thailand woman bodi avon gorg jolli day news today sarcasm', 'struggl write articl studi journal final killer', 'user user pull white van man look yuk naff keep magic xma alivenot', 'im sore work tomorrow gon na fun', 'user lost fiver alreadi earli kick cheer forrest', 'glad im work tonite', 'lol mom cant text talk time ', 'user ahh hill seem rememb sort mud slide hill mani buffet steve miller concert goodtim', 'pleas snow let us get danc earli', 'evid stripper hous yet see stripper hous ', 'beach hang bffz', 'u miss someth u never hadrandomthought miss ironi httptcogjlyikqn', 'mahathir one godfath asian valu malaysian stupid dont know run airlin ironi', 'love guy rt user tri get whole famili selfiestick user', 'baffl wwe wrestl still popular friend went show dc stop watch like year ago', 'user check button see follow back ', 'user one realli say', 'user one one support thiscannot humanrad islam satan armypeshawarattack', 'user that bullshit that complet rip item bet u idiot realli that good sale', 'want right want happi', 'like think broken justin bieber philosophi professor everyon sarcasm', 'user matter may exert influenc chang friendship arent progress way natur affin need', 'user tri confus ', 'year ago arriv cr happi leav behind mall rampant materi us went xma shop prg today ironi', 'myth racist dna still figment delusion imagin user user user user', 'ugli christma sweater hunter run santa sleigh rooftop', 'know perfect im beauti woman world im one women perfetmari j blige', 'user user user effigi jesu allah hadnt kept hindu god ironi', 'three exam today let gooooo school sarcasm swag', 'today good day iceland', 'welll helllo fever id say feelin real good today', 'feel look like shit rainyday nomakeup sorrynotsorri', 'today ncaa action way', 'user user lol old enough know better young enough', 'monday morn inspir sarcasm itstruetho donttrustnobodi iwokeuplikethi', 'mom annoy person know know your gon na read sinc creep account mom idcistilllovey', 'user user talk mo ironi', 'user user user user user user ironi oxymoron plan parenthood noth abt parent', 'said birthday girl cant celebr next day  celebr alway nighout birthdaygirl', 'user yep overal great show live end tlc match fubar stair match terrribl', 'video imnottheonlyoneyouthinkimcrazi ahhhhhh', 'tri eat cracker quiet floor likee mayb chew slower one noticenot', 'woke foot size balloon that need ouch', 'celtic rt user none', 'imag via heart feel peopl tell', 'one talk like one think like move like conormcgregor ufc quot', 'doubt main stream media obama holder deblasio et al blood cop hand', 'user thank spoiler', 'congress screw us great day district got anoth stadium sarcasm', 'advancedwarfar much better fp releas xd', 'alway littl thing that attract', 'user user your familiar matt busbi lol', 'highli inflam stomach like', 'think disney world everi day missit myhappyplac', 'almost hs kid ask christma gift zero answer user thank guy awesom', 'candonomorenotusuallyaquitteronlysomuchcanbethrownatm', 'user well mayb werent noob would talk morn p', 'insur', 'horray work weekend sarcasm ohwel ', 'user thank full cold one side get full vitamin netti pot combo blast', 'hello wednesday way decemb pm random inform', 'hope anti gamergat sleep better know sabotag chariti would make respect societi sarcasm', 'haha guess tweet ok back train user', 'voic mail work alway love', 'sick christma yayyyi', 'holiday wed love hear', 'ah ye want today pound migrain sarcasm', 'munch chees like christma stiltonoverload', 'hazard worker train st break doz donut half class outsid smoke fail nomealfitt ironi user user', 'thought work tonight realli kill friday feel', 'thirstiest thirst bucket call peopl thirsti  ironi', 'user pantsdowntiggi crime pixel moot ironi', 'notci eu green determin block hinkley point green determin block hinkley point copyright ep', 'ive got right thirst newsyearsev', 'love fact turn alarm morn slept till freak late', 'mcfc tri kill oppon', 'seen headlin doctor start doctor stick head toilet pull', 'user user yet dog manger actual make dog manger stori ironi', 'ironi reverend tell kid santa real declar sky fairi book say lol', 'labor san joaquin valley one product farm region world suffer food insecur ironi poverti', 'think friend sent user snapchat drinkin water cuz she fun like sarcasm rehydratewhenyadehydr brat', 'girl wont answer phone im call bc think im call earli im actual call cut ironi', 'user make sure dont say christma decor holiday sarcasm itisachristmastre', 'prison book ban cours grayl also tri ban judici review ironi', 'roll bed close ilookreallygood', 'watch vt cinci qb vt god left arm gift right arm ironi howmanygod punctuationmatt', 'seem super smart mt grannymarri user user bleed happen waterboard tortur', 'user cheer bro top man ', 'even get cook breakfast he defo someth ', 'roflmao yeah oop right user user user user', 'coin lecoincanard coin lecoincanard coin wank hashtag fazzanelli jeffroylat wank hashtag', 'realli want see wood', 'user bump apron look like hurt pad u land sarcasm', 'user pleas make smile xma first xma without mum fav everrr pleaseeee', 'user hope header didnt mess barnet', 'hand craft artist fashion connect user fashionblog thought', 'okay user didnt realli want see idol anyway sarcasm', 'ill tri guess ascii symbol without admin help alway tri learn', 'hear gun shot first wake make feel like im compton wonder way wake  sarcasm imscar', 'protest upset decis chokehold death take street mexico street arent one taken', 'user great sure ive seen actual pic girl', 'tgif oh kid min one job next love hour day serverlif sarcasm nolif', 'got yell proxi go excel day sarcasm', 'lol everyday excus languag relationship men women ironi lotd', 'make last vacat day tvandsleep', 'love day drive boo fog work ', 'restaur thrive social natur eat believ mother breastfe privat ironi', 'long drive home later snow gon na shweeeet', 'drag yesterday today tomorrow meant let go bringon', 'congrat fav user team birthplac team ohiost claim right orevsosu gon na one great game', 'user jessica shed tear fan sign event make weak everytim sica', 'ironi al jazeera pro anti gamerg femin someth', ' good bad everi occup race  stop label ', '']\n"
          ],
          "name": "stdout"
        }
      ]
    },
    {
      "cell_type": "code",
      "metadata": {
        "colab": {
          "base_uri": "https://localhost:8080/"
        },
        "id": "Lf4nEa1VkZRd",
        "outputId": "32dc5c29-b34c-4af1-ea7b-fa8863f5b17f"
      },
      "source": [
        "test_irony.shape"
      ],
      "execution_count": 45,
      "outputs": [
        {
          "output_type": "execute_result",
          "data": {
            "text/plain": [
              "(785, 2)"
            ]
          },
          "metadata": {
            "tags": []
          },
          "execution_count": 45
        }
      ]
    },
    {
      "cell_type": "code",
      "metadata": {
        "id": "2cw67vfCGr0W"
      },
      "source": [
        "def get_preds(sentence): # custom prediction function to extract the predicted labels\n",
        "    text = sentence\n",
        "    encoded_input = tokenizer(text, return_tensors='pt')\n",
        "    output = model(**encoded_input)\n",
        "    scores = output[0][0].detach().numpy()\n",
        "    scores = softmax(scores)  \n",
        "    ranking = np.argsort(scores)\n",
        "    ranking = ranking[::-1]\n",
        "\n",
        "    dict1 = {}\n",
        "    preds = []\n",
        "    for i in range(scores.shape[0]):\n",
        "        l = labels[ranking[i]]\n",
        "        s = scores[ranking[i]]\n",
        "        # print(f\"{i+1}) {l} {np.round(float(s), 4)}\")\n",
        "        dict1[l] = s\n",
        "        pred = max(dict1, key=dict1.get)\n",
        "        preds.append(pred)\n",
        "\n",
        "    prediction = list(set(preds))\n",
        "\n",
        "    return prediction    "
      ],
      "execution_count": 46,
      "outputs": []
    },
    {
      "cell_type": "code",
      "metadata": {
        "id": "YcxWz2kaI8dw"
      },
      "source": [
        "result = map(lambda x: get_preds(x), sents)"
      ],
      "execution_count": 47,
      "outputs": []
    },
    {
      "cell_type": "code",
      "metadata": {
        "colab": {
          "base_uri": "https://localhost:8080/"
        },
        "id": "BNVlBIQ-I8Qf",
        "outputId": "019f510f-5779-42b8-f6d9-abe497dbb1b9"
      },
      "source": [
        "roberta_preds = list(result)\n",
        "roberta_preds = [item for sublist in roberta_preds for item in sublist] #final list of predictions\n",
        "\n",
        "print(roberta_preds)"
      ],
      "execution_count": 48,
      "outputs": [
        {
          "output_type": "stream",
          "text": [
            "['1', '0', '0', '0', '0', '0', '0', '0', '1', '0', '1', '0', '0', '0', '0', '0', '0', '1', '0', '0', '0', '0', '0', '0', '0', '0', '1', '0', '0', '0', '0', '1', '0', '0', '1', '0', '0', '1', '1', '0', '0', '0', '0', '0', '1', '0', '1', '0', '1', '0', '0', '0', '1', '1', '0', '0', '0', '1', '0', '0', '0', '0', '0', '0', '0', '0', '1', '0', '0', '1', '0', '0', '0', '1', '1', '0', '1', '0', '0', '0', '0', '0', '0', '0', '0', '1', '0', '1', '0', '0', '0', '0', '0', '0', '0', '0', '0', '1', '1', '0', '0', '0', '0', '0', '0', '1', '0', '0', '0', '0', '0', '0', '0', '0', '0', '0', '0', '0', '0', '0', '0', '0', '0', '0', '0', '0', '0', '0', '0', '0', '0', '0', '1', '0', '0', '0', '0', '1', '1', '1', '0', '0', '0', '0', '0', '0', '0', '0', '0', '0', '0', '0', '0', '0', '0', '1', '1', '0', '0', '1', '1', '1', '0', '1', '1', '0', '1', '0', '0', '0', '1', '1', '0', '1', '0', '0', '0', '1', '0', '0', '0', '0', '0', '0', '0', '0', '0', '0', '1', '0', '0', '0', '0', '0', '0', '0', '1', '1', '0', '0', '0', '0', '0', '1', '0', '0', '1', '0', '0', '1', '0', '1', '1', '0', '0', '0', '0', '1', '0', '0', '0', '0', '0', '0', '0', '0', '0', '0', '0', '0', '1', '0', '0', '1', '0', '1', '1', '0', '0', '0', '0', '0', '0', '0', '0', '0', '0', '0', '0', '1', '0', '0', '0', '0', '0', '0', '1', '0', '0', '1', '0', '0', '0', '0', '0', '0', '0', '0', '0', '0', '0', '0', '1', '1', '0', '0', '0', '0', '0', '1', '1', '0', '1', '1', '0', '0', '1', '0', '0', '0', '1', '0', '0', '0', '1', '0', '1', '0', '0', '0', '1', '1', '0', '0', '0', '1', '0', '0', '1', '0', '0', '0', '0', '0', '0', '0', '0', '0', '0', '0', '0', '0', '0', '0', '0', '0', '1', '0', '0', '0', '0', '1', '0', '1', '1', '0', '0', '0', '0', '0', '0', '0', '1', '0', '0', '0', '0', '0', '0', '1', '0', '1', '0', '0', '0', '0', '0', '0', '0', '0', '0', '0', '0', '1', '0', '1', '1', '0', '0', '1', '1', '0', '0', '1', '1', '0', '1', '0', '0', '0', '0', '1', '0', '1', '0', '1', '1', '0', '0', '0', '0', '0', '0', '0', '1', '0', '0', '0', '0', '0', '0', '0', '1', '0', '1', '0', '1', '1', '0', '0', '1', '1', '1', '1', '0', '0', '0', '0', '0', '0', '0', '1', '0', '1', '0', '0', '1', '0', '0', '0', '1', '0', '0', '0', '1', '1', '0', '0', '0', '0', '0', '0', '0', '0', '0', '1', '0', '0', '0', '1', '0', '0', '0', '0', '0', '1', '0', '0', '0', '0', '1', '1', '0', '0', '1', '1', '0', '1', '0', '0', '0', '0', '0', '0', '0', '0', '0', '0', '0', '0', '0', '1', '1', '0', '0', '0', '0', '0', '0', '0', '1', '0', '0', '0', '0', '0', '0', '0', '0', '1', '0', '0', '0', '0', '0', '0', '0', '0', '1', '0', '0', '0', '0', '0', '1', '1', '1', '0', '0', '0', '0', '1', '1', '0', '0', '1', '0', '0', '0', '0', '0', '0', '1', '0', '0', '0', '0', '1', '0', '0', '0', '0', '0', '0', '0', '0', '0', '0', '0', '0', '0', '0', '1', '0', '0', '1', '0', '0', '0', '1', '0', '0', '0', '0', '1', '0', '0', '0', '0', '1', '0', '1', '0', '1', '0', '1', '0', '0', '1', '0', '0', '0', '0', '0', '0', '0', '0', '1', '0', '1', '0', '1', '0', '0', '0', '1', '1', '0', '0', '0', '0', '0', '0', '0', '0', '0', '0', '0', '0', '1', '0', '0', '0', '0', '0', '0', '0', '0', '1', '0', '1', '1', '0', '0', '0', '0', '1', '0', '0', '0', '0', '1', '0', '0', '0', '0', '0', '0', '0', '0', '0', '0', '0', '0', '1', '0', '0', '0', '0', '0', '0', '0', '0', '1', '1', '1', '0', '0', '0', '0', '0', '1', '0', '0', '0', '1', '0', '0', '0', '0', '0', '1', '0', '0', '1', '0', '1', '1', '0', '0', '1', '0', '0', '0', '0', '0', '1', '0', '0', '0', '0', '1', '0', '1', '0', '0', '0', '0', '0', '1', '1', '0', '0', '0', '0', '0', '0', '0', '0', '0', '0', '0', '0', '0', '0', '0', '0', '0', '0', '1', '0', '1', '0', '0', '0', '0', '0', '0', '0', '1', '0', '0', '1', '1', '1', '1', '1', '0', '0', '0', '0', '0', '0', '0', '0', '1', '0', '0', '0', '0', '0', '1', '0', '0', '0', '0', '0', '0', '1', '1', '0', '0', '0', '0', '0', '0', '0', '0', '0', '0', '0', '0', '1', '0', '1', '0', '1', '0', '0', '0', '0', '1', '1', '1', '0']\n"
          ],
          "name": "stdout"
        }
      ]
    },
    {
      "cell_type": "code",
      "metadata": {
        "colab": {
          "base_uri": "https://localhost:8080/"
        },
        "id": "etOinhU5ouuJ",
        "outputId": "3b351f25-1c33-40dc-df89-f721e7b28557"
      },
      "source": [
        "print(\"F1-score:\",f1_score(y_test,roberta_preds,average='macro'))\n",
        "print(\"Accuracy:\",accuracy_score(roberta_preds,y_test))"
      ],
      "execution_count": 65,
      "outputs": [
        {
          "output_type": "stream",
          "text": [
            "F1-score: 0.3788199968007941\n",
            "Accuracy: 0.6280254777070063\n"
          ],
          "name": "stdout"
        }
      ]
    },
    {
      "cell_type": "markdown",
      "metadata": {
        "id": "DAXD0w10BbDg"
      },
      "source": [
        "**RANDOM FOREST**"
      ]
    },
    {
      "cell_type": "code",
      "metadata": {
        "id": "2e4VyvDFpLYN"
      },
      "source": [
        "rf = RandomForestClassifier(n_estimators=500)"
      ],
      "execution_count": 61,
      "outputs": []
    },
    {
      "cell_type": "code",
      "metadata": {
        "colab": {
          "base_uri": "https://localhost:8080/"
        },
        "id": "tEdTq027Bfzv",
        "outputId": "6c77fc86-e99f-4a53-8b8f-2091722f8c2a"
      },
      "source": [
        "rf.fit(X_train,y_train) "
      ],
      "execution_count": 62,
      "outputs": [
        {
          "output_type": "execute_result",
          "data": {
            "text/plain": [
              "RandomForestClassifier(bootstrap=True, ccp_alpha=0.0, class_weight=None,\n",
              "                       criterion='gini', max_depth=None, max_features='auto',\n",
              "                       max_leaf_nodes=None, max_samples=None,\n",
              "                       min_impurity_decrease=0.0, min_impurity_split=None,\n",
              "                       min_samples_leaf=1, min_samples_split=2,\n",
              "                       min_weight_fraction_leaf=0.0, n_estimators=500,\n",
              "                       n_jobs=None, oob_score=False, random_state=None,\n",
              "                       verbose=0, warm_start=False)"
            ]
          },
          "metadata": {
            "tags": []
          },
          "execution_count": 62
        }
      ]
    },
    {
      "cell_type": "code",
      "metadata": {
        "id": "50UHd050Bigw"
      },
      "source": [
        "rf_preds = rf.predict(X_test) "
      ],
      "execution_count": 63,
      "outputs": []
    },
    {
      "cell_type": "code",
      "metadata": {
        "colab": {
          "base_uri": "https://localhost:8080/"
        },
        "id": "KI0jun1oBzJK",
        "outputId": "7f9ec4bb-bf9c-4fa4-a14d-0c55b718f4fe"
      },
      "source": [
        "print(\"F1-score:\",f1_score(y_test,rf_preds,average='macro'))\n",
        "print(\"Accuracy:\",accuracy_score(rf_preds,y_test))"
      ],
      "execution_count": 66,
      "outputs": [
        {
          "output_type": "stream",
          "text": [
            "F1-score: 0.43800320949735133\n",
            "Accuracy: 0.6764331210191082\n"
          ],
          "name": "stdout"
        }
      ]
    },
    {
      "cell_type": "code",
      "metadata": {
        "id": "UwNXQ7vcB1aa"
      },
      "source": [
        ""
      ],
      "execution_count": null,
      "outputs": []
    }
  ]
}